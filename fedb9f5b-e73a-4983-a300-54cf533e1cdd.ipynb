{
 "cells": [
  {
   "cell_type": "markdown",
   "metadata": {},
   "source": [
    "# Отток клиентов банка\n",
    "\n",
    "Проектная работа по итогам спринта «Обучение с учителем» / Яндекс.Практикум"
   ]
  },
  {
   "cell_type": "markdown",
   "metadata": {},
   "source": [
    "## Основные выводы\n",
    "\n",
    "Максимальное значение _F1_-меры, равное 0,616, дала модель **случайного леса** с 835 деревьями и максимальной глубиной дерева 9.\n",
    "\n",
    "Балансирование классов целевого признака путём **взвешивания** позволило увеличить _F1_ не меньше чем на 0,02. Только при использовании взвешенной модели удалось достичь значений _F1_ больше 0,59.\n",
    "\n",
    "**Стандартизация** (scaling) числовых признаков не привела к росту _F1_, хотя позволила уменьшить количество деревьев.\n",
    "\n",
    "При совместном применении стандартизации и взвешивания эффекты обоих методов объединились.\n",
    "\n",
    "Категориальные признаки, значения которых представлены не числовыми величинами, были преобразованы **прямым кодированием** (OHE).\n",
    "\n",
    "Для подбора моделей использовался **перебор разреженных диапазонов** количества деревьев и максимальной глубины дерева, а затем окрестности локальных максимумов _F1_ изучались перебором более узких и более плотных диапазонов.\n",
    "\n",
    "Предоставленный набор данных неадекватен и неправдоподобен с точки зрения предметной области (банковского дела), поэтому пришлось отвлечься от семантики признаков и рассматривать задачу как чисто техническое упражнение на оптимизацию метрик модели."
   ]
  },
  {
   "cell_type": "markdown",
   "metadata": {},
   "source": [
    "## Уточнение задачи"
   ]
  },
  {
   "cell_type": "markdown",
   "metadata": {},
   "source": [
    "Задача проекта сформулирована так:\n",
    "\n",
    "> Из «Бета-Банка» стали уходить клиенты. Каждый месяц. Немного, но заметно. Банковские маркетологи посчитали: сохранять текущих клиентов дешевле, чем привлекать новых.\n",
    "> \n",
    "> Нужно спрогнозировать, уйдёт клиент из банка в ближайшее время или нет. Вам предоставлены исторические данные о поведении клиентов и расторжении договоров с банком. \n",
    "> \n",
    "> Постройте модель с предельно большим значением *F1*-меры. Чтобы сдать проект успешно, нужно довести метрику до 0,59. Проверьте *F1*-меру на тестовой выборке самостоятельно.\n",
    "> \n",
    "> Дополнительно измеряйте *AUC-ROC*, сравнивайте её значение с *F1*-мерой.\n",
    "> \n",
    "> Источник данных: [https://www.kaggle.com/barelydedicated/bank-customer-churn-modeling](https://www.kaggle.com/barelydedicated/bank-customer-churn-modeling)\n",
    "\n",
    "В качестве источника данных предоставлена таблица со сведениями о вымышленной совокупности клиентов банка: возраст, пол, кредитный рейтинг и пр. Один из столбцов таблицы содержит информацию о том, перестал ли клиент пользоваться услугами банка. Задача сводится к тому, чтобы построить модель машинного обучения, которая предсказывает значение этого столбца на основании остальных столбцов."
   ]
  },
  {
   "cell_type": "markdown",
   "metadata": {},
   "source": [
    "## Подготовка данных\n",
    "\n",
    "Получим данные из источника, изучим их пригодность для решения поставленной задачи, преобразуем данные так, как будет лучше для этого решения."
   ]
  },
  {
   "cell_type": "code",
   "execution_count": 1,
   "metadata": {},
   "outputs": [],
   "source": [
    "import pandas as pd\n",
    "\n",
    "from sklearn.model_selection import train_test_split\n",
    "from sklearn.ensemble import RandomForestClassifier\n",
    "from sklearn.preprocessing import StandardScaler\n",
    "from sklearn.metrics import f1_score, roc_auc_score, matthews_corrcoef\n",
    "\n",
    "import matplotlib.pyplot as plt\n",
    "import seaborn as sns\n",
    "\n",
    "from io import StringIO"
   ]
  },
  {
   "cell_type": "code",
   "execution_count": 2,
   "metadata": {},
   "outputs": [],
   "source": [
    "random_state_default = 19180511\n",
    "\n",
    "# We have a habit in writing articles published in scientific journals to make the work\n",
    "# as finished as possible, to cover all the tracks, to not worry about the blind alleys\n",
    "# or to describe how you had the wrong idea first, and so on. So there isn't any place\n",
    "# to publish, in a dignified manner, what you actually did in order to get to do the work.\n",
    "# – Richard Feynman about Jupyter Hub :-)"
   ]
  },
  {
   "cell_type": "code",
   "execution_count": 3,
   "metadata": {},
   "outputs": [],
   "source": [
    "df = pd.read_csv('/datasets/Churn.csv')"
   ]
  },
  {
   "cell_type": "markdown",
   "metadata": {},
   "source": [
    "### Столбцы набора данных\n",
    "\n",
    "В наборе данных 14 столбцов, перечисленных ниже вместе с расшифровкой каждого столбца в соответствии с описанием задачи. Столбец `Exited` обозначает факт ухода клиента и будет использоваться как целевой признак при построении моделей.\n",
    "\n",
    "В наборе данных 10 000 строк. Пропущенные значения есть только в столбце `Tenure` (клиентский стаж)."
   ]
  },
  {
   "cell_type": "code",
   "execution_count": 4,
   "metadata": {},
   "outputs": [
    {
     "data": {
      "text/html": [
       "<div>\n",
       "<style scoped>\n",
       "    .dataframe tbody tr th:only-of-type {\n",
       "        vertical-align: middle;\n",
       "    }\n",
       "\n",
       "    .dataframe tbody tr th {\n",
       "        vertical-align: top;\n",
       "    }\n",
       "\n",
       "    .dataframe thead th {\n",
       "        text-align: right;\n",
       "    }\n",
       "</style>\n",
       "<table border=\"1\" class=\"dataframe\">\n",
       "  <thead>\n",
       "    <tr style=\"text-align: right;\">\n",
       "      <th></th>\n",
       "      <th>Column</th>\n",
       "      <th>Non-Null</th>\n",
       "      <th>Dtype</th>\n",
       "      <th>Meaning</th>\n",
       "    </tr>\n",
       "  </thead>\n",
       "  <tbody>\n",
       "    <tr>\n",
       "      <th>0</th>\n",
       "      <td>Age</td>\n",
       "      <td>10000</td>\n",
       "      <td>int64</td>\n",
       "      <td>Возраст</td>\n",
       "    </tr>\n",
       "    <tr>\n",
       "      <th>1</th>\n",
       "      <td>Balance</td>\n",
       "      <td>10000</td>\n",
       "      <td>float64</td>\n",
       "      <td>Баланс на счёте</td>\n",
       "    </tr>\n",
       "    <tr>\n",
       "      <th>2</th>\n",
       "      <td>CreditScore</td>\n",
       "      <td>10000</td>\n",
       "      <td>int64</td>\n",
       "      <td>Кредитный рейтинг</td>\n",
       "    </tr>\n",
       "    <tr>\n",
       "      <th>3</th>\n",
       "      <td>CustomerId</td>\n",
       "      <td>10000</td>\n",
       "      <td>int64</td>\n",
       "      <td>Уникальный идентификатор клиента</td>\n",
       "    </tr>\n",
       "    <tr>\n",
       "      <th>4</th>\n",
       "      <td>EstimatedSalary</td>\n",
       "      <td>10000</td>\n",
       "      <td>float64</td>\n",
       "      <td>Предполагаемая зарплата</td>\n",
       "    </tr>\n",
       "    <tr>\n",
       "      <th>5</th>\n",
       "      <td>Exited</td>\n",
       "      <td>10000</td>\n",
       "      <td>int64</td>\n",
       "      <td>Факт ухода клиента</td>\n",
       "    </tr>\n",
       "    <tr>\n",
       "      <th>6</th>\n",
       "      <td>Gender</td>\n",
       "      <td>10000</td>\n",
       "      <td>object</td>\n",
       "      <td>Пол</td>\n",
       "    </tr>\n",
       "    <tr>\n",
       "      <th>7</th>\n",
       "      <td>Geography</td>\n",
       "      <td>10000</td>\n",
       "      <td>object</td>\n",
       "      <td>Страна проживания</td>\n",
       "    </tr>\n",
       "    <tr>\n",
       "      <th>8</th>\n",
       "      <td>HasCrCard</td>\n",
       "      <td>10000</td>\n",
       "      <td>int64</td>\n",
       "      <td>Наличие кредитной карты</td>\n",
       "    </tr>\n",
       "    <tr>\n",
       "      <th>9</th>\n",
       "      <td>IsActiveMember</td>\n",
       "      <td>10000</td>\n",
       "      <td>int64</td>\n",
       "      <td>Активность клиента</td>\n",
       "    </tr>\n",
       "    <tr>\n",
       "      <th>10</th>\n",
       "      <td>NumOfProducts</td>\n",
       "      <td>10000</td>\n",
       "      <td>int64</td>\n",
       "      <td>Количество продуктов банка, используемых клиентом</td>\n",
       "    </tr>\n",
       "    <tr>\n",
       "      <th>11</th>\n",
       "      <td>RowNumber</td>\n",
       "      <td>10000</td>\n",
       "      <td>int64</td>\n",
       "      <td>Индекс строки в данных</td>\n",
       "    </tr>\n",
       "    <tr>\n",
       "      <th>12</th>\n",
       "      <td>Surname</td>\n",
       "      <td>10000</td>\n",
       "      <td>object</td>\n",
       "      <td>Фамилия</td>\n",
       "    </tr>\n",
       "    <tr>\n",
       "      <th>13</th>\n",
       "      <td>Tenure</td>\n",
       "      <td>9091</td>\n",
       "      <td>float64</td>\n",
       "      <td>Сколько лет человек является клиентом банка</td>\n",
       "    </tr>\n",
       "  </tbody>\n",
       "</table>\n",
       "</div>"
      ],
      "text/plain": [
       "             Column Non-Null    Dtype  \\\n",
       "0               Age    10000    int64   \n",
       "1           Balance    10000  float64   \n",
       "2       CreditScore    10000    int64   \n",
       "3        CustomerId    10000    int64   \n",
       "4   EstimatedSalary    10000  float64   \n",
       "5            Exited    10000    int64   \n",
       "6            Gender    10000   object   \n",
       "7         Geography    10000   object   \n",
       "8         HasCrCard    10000    int64   \n",
       "9    IsActiveMember    10000    int64   \n",
       "10    NumOfProducts    10000    int64   \n",
       "11        RowNumber    10000    int64   \n",
       "12          Surname    10000   object   \n",
       "13           Tenure     9091  float64   \n",
       "\n",
       "                                              Meaning  \n",
       "0                                             Возраст  \n",
       "1                                     Баланс на счёте  \n",
       "2                                   Кредитный рейтинг  \n",
       "3                    Уникальный идентификатор клиента  \n",
       "4                             Предполагаемая зарплата  \n",
       "5                                  Факт ухода клиента  \n",
       "6                                                 Пол  \n",
       "7                                   Страна проживания  \n",
       "8                             Наличие кредитной карты  \n",
       "9                                  Активность клиента  \n",
       "10  Количество продуктов банка, используемых клиентом  \n",
       "11                             Индекс строки в данных  \n",
       "12                                            Фамилия  \n",
       "13        Сколько лет человек является клиентом банка  "
      ]
     },
     "execution_count": 4,
     "metadata": {},
     "output_type": "execute_result"
    }
   ],
   "source": [
    "meanings = {'Age': 'Возраст', 'Balance': 'Баланс на счёте', 'CreditScore': 'Кредитный рейтинг',\n",
    "            'CustomerId': 'Уникальный идентификатор клиента', 'EstimatedSalary': 'Предполагаемая зарплата',\n",
    "            'Exited': 'Факт ухода клиента', 'Gender': 'Пол', 'Geography': 'Страна проживания',\n",
    "            'HasCrCard': 'Наличие кредитной карты', 'IsActiveMember': 'Активность клиента',\n",
    "            'NumOfProducts': 'Количество продуктов банка, используемых клиентом',\n",
    "            'RowNumber': 'Индекс строки в данных', 'Surname': 'Фамилия',\n",
    "            'Tenure': 'Сколько лет человек является клиентом банка'}\n",
    "\n",
    "buffer = StringIO()\n",
    "df.info(buf=buffer)\n",
    "info = [line.split() for line in buffer.getvalue().splitlines()[3:-2]]\n",
    "info_df = pd.DataFrame(info[2:], columns=info[0]).drop(columns=['#', 'Count'])\n",
    "info_df['Meaning'] = info_df['Column'].apply(lambda s: meanings[s])\n",
    "info_df.sort_values('Column').reset_index(drop=True)"
   ]
  },
  {
   "cell_type": "markdown",
   "metadata": {},
   "source": [
    "#### Проблемы столбцов\n",
    "\n",
    "Набор столбцов в целом выглядит неправдоподобно с точки зрения банковской практики. Изучив ссылку на источник ([kaggle.com/barelydedicated/bank-customer-churn-modeling](https://www.kaggle.com/barelydedicated/bank-customer-churn-modeling)), можно заключить, что мы имеем дело с полностью искусственным набором данных, которые не соответствуют никакому реальному банку и никаким реальным клиентам.\n",
    "\n",
    "Это позволяет отвлечься от бизнес-логики (которую следовало бы учитывать в реальной задаче) и рассматривать проект как чисто техническое упражнение на оптимизацию метрик модели.\n",
    "\n",
    "Также в этом проекте мы не будем проверять, что предоставленные данные репрезентативны относительно изучаемой совокупности (предположительно, всех клиентов банка). В реальной задаче это был бы обязательный этап.\n",
    "\n",
    "Хотя «верблюжий» стиль записи названий столбцов не соответствует общепринятой практике Python, в данном случае не вижу смысла их переименовывать. В конце концов, в коде эти названия почти всюду используются как строковые значения, а не как идентификаторы.\n",
    "\n",
    "Также отмечу, что набор столбцов вызвал у меня «индусские» ассоциации ещё до того, как я изучил источник и узнал, что составитель набора данных — Tarun Sunkaraneni, который на момент размещения датасета на Kaggle был студентом Университета Юты."
   ]
  },
  {
   "cell_type": "markdown",
   "metadata": {},
   "source": [
    "### Целевой признак: столбец `Exited` (факт ухода клиента)\n",
    "\n",
    "Столбец `Exited` — бинарный: в нём только значения `0` и `1`:"
   ]
  },
  {
   "cell_type": "code",
   "execution_count": 5,
   "metadata": {},
   "outputs": [
    {
     "name": "stdout",
     "output_type": "stream",
     "text": [
      "Уникальные значения столбца Exited: {0, 1}\n"
     ]
    }
   ],
   "source": [
    "print('Уникальные значения столбца Exited:', set(df.Exited.unique()))"
   ]
  },
  {
   "cell_type": "markdown",
   "metadata": {},
   "source": [
    "Хотя это не указано в описании задачи, было бы логично предположить, что `1` означает, что клиент ушёл, а `0` — что он не ушёл. Впрочем, я уверен в этом не на сто процентов, учитывая происхождение составителя набора данных. С другой стороны, для решения задачи не требуется семантика значений: модель должна удовлетворительно предсказывать значения `0` и `1` независимо от того, какой смысл они несут.\n",
    "\n",
    "Поскольку столбец — бинарный, перед нами задача _бинарной классификации_. Будем использовать модель случайного леса (классификатор `RandomForestClassifier`), потому что на учебных примерах она зарекомендовала себя лучше других изученных классификаторов."
   ]
  },
  {
   "cell_type": "markdown",
   "metadata": {},
   "source": [
    "#### Временны́е проблемы в данных\n",
    "\n",
    "В реальной задаче я бы сомневался в пригодности данных, пока не удастся уточнить временнýю информацию. К какому периоду времени относятся сведения об уходах клиентов? Насколько свежие эти сведения? Достаточно ли они однородны по времени? (Не выяснится ли, что половина данных собрана в течение десяти лет, а другая половина — на прошлой неделе?)\n",
    "\n",
    "В описании задачи предлагается «спрогнозировать, уйдёт клиент в ближайшее время или нет», однако тоже не уточняется, какое «ближайшее время» имеется в виду — скажем, ближайшая неделя или ближайшие несколько лет.\n",
    "\n",
    "Проблемы временнóй неопределённости касаются не только `Exited`, но и других столбцов: большинство из них описывают признаки, которые могут меняться с течением времени (или даже обязательно меняются — как, например, возраст клиента). Отсутствие временнóй информации — главный фактор неправдоподобия всего набора данных."
   ]
  },
  {
   "cell_type": "markdown",
   "metadata": {},
   "source": [
    "#### Баланс классов `Exited`\n",
    "\n",
    "Столбец `Exited` весьма несбалансирован: около 80 % его ячеек имеют значение `0` и только 20 % (то есть в 4 раза меньше) — значение `1`:"
   ]
  },
  {
   "cell_type": "code",
   "execution_count": 6,
   "metadata": {},
   "outputs": [],
   "source": [
    "def classes_dist(column):\n",
    "    \"\"\"\n",
    "    Информация о распределении классов бинарного признака column:\n",
    "    \n",
    "    – набор данных (DataFrame) с абсолютным количеством и процентной долей\n",
    "      значений каждого класса,\n",
    "    - отношение количества значений большего класса к меньшему\n",
    "    \n",
    "    \"\"\"\n",
    "    c1 = column.value_counts()\n",
    "    c2 = (column.value_counts(normalize=True) * 100).round(1)\n",
    "    return pd.DataFrame({'n': c1, '%': c2}), max(c1) / min(c1)"
   ]
  },
  {
   "cell_type": "code",
   "execution_count": 7,
   "metadata": {
    "scrolled": true
   },
   "outputs": [
    {
     "name": "stdout",
     "output_type": "stream",
     "text": [
      "Распределение классов 0 и 1 для признака Exited:\n"
     ]
    },
    {
     "data": {
      "text/html": [
       "<div>\n",
       "<style scoped>\n",
       "    .dataframe tbody tr th:only-of-type {\n",
       "        vertical-align: middle;\n",
       "    }\n",
       "\n",
       "    .dataframe tbody tr th {\n",
       "        vertical-align: top;\n",
       "    }\n",
       "\n",
       "    .dataframe thead th {\n",
       "        text-align: right;\n",
       "    }\n",
       "</style>\n",
       "<table border=\"1\" class=\"dataframe\">\n",
       "  <thead>\n",
       "    <tr style=\"text-align: right;\">\n",
       "      <th></th>\n",
       "      <th>n</th>\n",
       "      <th>%</th>\n",
       "    </tr>\n",
       "  </thead>\n",
       "  <tbody>\n",
       "    <tr>\n",
       "      <th>0</th>\n",
       "      <td>7963</td>\n",
       "      <td>79.6</td>\n",
       "    </tr>\n",
       "    <tr>\n",
       "      <th>1</th>\n",
       "      <td>2037</td>\n",
       "      <td>20.4</td>\n",
       "    </tr>\n",
       "  </tbody>\n",
       "</table>\n",
       "</div>"
      ],
      "text/plain": [
       "      n     %\n",
       "0  7963  79.6\n",
       "1  2037  20.4"
      ]
     },
     "metadata": {},
     "output_type": "display_data"
    },
    {
     "name": "stdout",
     "output_type": "stream",
     "text": [
      "Соотношение объёмов классов: 3.91\n"
     ]
    }
   ],
   "source": [
    "table, ratio = classes_dist(df.Exited)\n",
    "print('Распределение классов 0 и 1 для признака Exited:')\n",
    "display(table)\n",
    "print(f'Соотношение объёмов классов: {ratio:.2f}')"
   ]
  },
  {
   "cell_type": "markdown",
   "metadata": {},
   "source": [
    "### Вспомогательные инструменты\n",
    "\n",
    "Объявим функцию `plots`, которая автоматизирует построение диаграмм для числовых признаков: она размещает в одной и той же области диаграмму размаха и гистограмму на общей оси _X_."
   ]
  },
  {
   "cell_type": "code",
   "execution_count": 8,
   "metadata": {},
   "outputs": [],
   "source": [
    "def plots(column, xticks=None, bins='auto', labels=False):\n",
    "    \"\"\"\n",
    "    Диаграмма размаха и гистограмма для признака colunm\n",
    "    в общей области\n",
    "    \n",
    "    Параметры:\n",
    "    – xticks — метки для оси X\n",
    "    – bins — «корзины» разбиения на частотные классы\n",
    "    \n",
    "    \"\"\"\n",
    "    data = df[column]\n",
    "    fig, (ax_box, ax_hist) = plt.subplots(2, sharex=True,\n",
    "        gridspec_kw={\"height_ratios\": (.15, .85)})\n",
    "    sns.boxplot(data=data, ax=ax_box, orient='h')\n",
    "    sns.histplot(data=data, ax=ax_hist, bins=bins)\n",
    "    ax_box.set(xlabel='')\n",
    "    if(xticks is not None):\n",
    "        plt.xticks(xticks)\n",
    "    if(labels):\n",
    "        for i, p in enumerate(ax_hist.patches):\n",
    "            if i%2 != 0:\n",
    "                continue\n",
    "            ax_hist.annotate(\n",
    "                text=f\"{p.get_height():1.0f}\", xy=(p.get_x() + p.get_width() / 2., p.get_height() - 10), \n",
    "                xycoords='data', ha='center', va='center', fontsize=12, color='black', xytext=(0,6), \n",
    "                textcoords='offset points', clip_on=True)\n",
    "    plt.show()"
   ]
  },
  {
   "cell_type": "markdown",
   "metadata": {},
   "source": [
    "#### Замечание об ограничениях Jupyter Hub\n",
    "\n",
    "Согласитесь, что было бы нагляднее сначала показать готовую диаграмму, а потом представить функцию, которая её выводит. Более того, функция `plots` имеет чисто вспомогательный характер, а её код не содержит ничего ценного с точки зрения поставленной задачи (построить модель машинного обучения). Так что по логике изложения объявление функции следовало бы поместить в «приложение» в конце тетрадки. Однако Jupyter не позволяет этого сделать: ячейки кода должны идти в том же порядке, в котором они выполняются, а функцию нельзя вызвать до того, как она объявлена.\n",
    "\n",
    "Это только одно из проявлений фундаментального ограничения Jupyter’а. Оптимальный порядок, в котором стóит излагать результаты анализа другим людям, в общем случае не обязан совпадать с оптимальным порядком, в котором пишется программный код для этого анализа. Но Jupyter не даёт отделить одно от другого, из-за чего изложение очевидным образом страдает.\n",
    "\n",
    "Было бы удобнее, если бы Jupyter или другой подобный инструмент позволял связывать с одним и тем же кодом разные представления для разных нужд. Например, менеджеру будет полезен чисто текстовый отчёт с избранными диаграммами и таблицами. Старший DS, возможно, захочет изучить технические внутренности самóй построенной модели. Даже программистам будет удобнее воспринимать код, если сначала дать верхнеуровневое представление о его архитектуре и ключевых узлах. Естественно, такая гипотетическая система должна по-прежнему позволять читателям перейти к сырому исходному коду и изучить все подробности.\n",
    "\n",
    "Я интересовался, не существует ли готовых решений такого рода (например, в виде расширений для Jupyter), но ничего не нашёл."
   ]
  },
  {
   "cell_type": "markdown",
   "metadata": {},
   "source": [
    "### `Tenure` — клиентский стаж\n",
    "\n",
    "Столбец `Tenure`, описанный в условии задачи как «сколько лет человек является клиентом банка», содержит только целые числа от 0 до 10 включительно. По-видимому, это стоит трактовать как количество _полных_ лет клиентского стажа. Гистограмма показывает практически равномерное распределение (на каждое значение `Tenure` приходится около 900 клиентов), за исключением крайних значений 0 и 10, на которые приходится вполовину меньше: 382 и 446 клиентов соответственно.\n",
    "\n",
    "Такое распределение выглядит ненормально со статистической точки зрения и противоестественно с точки зрения предметной области."
   ]
  },
  {
   "cell_type": "code",
   "execution_count": 9,
   "metadata": {
    "scrolled": true
   },
   "outputs": [
    {
     "data": {
      "image/png": "[encoded data removed]",
      "text/plain": [
       "<Figure size 432x288 with 2 Axes>"
      ]
     },
     "metadata": {
      "needs_background": "light"
     },
     "output_type": "display_data"
    }
   ],
   "source": [
    "plots('Tenure', xticks=list(range(0, 11)), labels=True)"
   ]
  },
  {
   "cell_type": "code",
   "execution_count": 10,
   "metadata": {},
   "outputs": [
    {
     "data": {
      "text/plain": [
       "0.0     382\n",
       "1.0     952\n",
       "2.0     950\n",
       "3.0     928\n",
       "4.0     885\n",
       "5.0     927\n",
       "6.0     881\n",
       "7.0     925\n",
       "8.0     933\n",
       "9.0     882\n",
       "10.0    446\n",
       "Name: Tenure, dtype: int64"
      ]
     },
     "execution_count": 10,
     "metadata": {},
     "output_type": "execute_result"
    }
   ],
   "source": [
    "# Я не разобрался, как приписать значения прямо над столбцами на гистограмме,\n",
    "# поэтому вычисляю значения отдельно\n",
    "\n",
    "tn = df.Tenure\n",
    "tn.value_counts().sort_index()"
   ]
  },
  {
   "cell_type": "markdown",
   "metadata": {},
   "source": [
    "#### Пропущенные значения\n",
    "\n",
    "`Tenure` — единственный столбец с пропущенными значениями: их 909 штук, или 9,1 % от всего набора данных:"
   ]
  },
  {
   "cell_type": "code",
   "execution_count": 11,
   "metadata": {},
   "outputs": [
    {
     "name": "stdout",
     "output_type": "stream",
     "text": [
      "Пропущенных значений в столбце Tenure: 909\n",
      "Доля от всего набора данных: 9.1%\n"
     ]
    }
   ],
   "source": [
    "na_tenure = df.Tenure.isna().sum()\n",
    "print('Пропущенных значений в столбце Tenure:', na_tenure)\n",
    "print(f'Доля от всего набора данных: {(na_tenure / len(df.Tenure)):.1%}')"
   ]
  },
  {
   "cell_type": "markdown",
   "metadata": {},
   "source": [
    "В этой задаче считаю целесообразным просто удалить все строки с пропущенными значениями. Оказывается, после этого соотношение объёмов классов `Exited` останется ровно таким же, как было изначально (80 / 20 %), что в очередной раз выдаёт искусственность данных."
   ]
  },
  {
   "cell_type": "code",
   "execution_count": 12,
   "metadata": {
    "scrolled": true
   },
   "outputs": [
    {
     "name": "stdout",
     "output_type": "stream",
     "text": [
      "Распределение классов 0 и 1 для признака Exited после удаления пропусков:\n"
     ]
    },
    {
     "data": {
      "text/html": [
       "<div>\n",
       "<style scoped>\n",
       "    .dataframe tbody tr th:only-of-type {\n",
       "        vertical-align: middle;\n",
       "    }\n",
       "\n",
       "    .dataframe tbody tr th {\n",
       "        vertical-align: top;\n",
       "    }\n",
       "\n",
       "    .dataframe thead th {\n",
       "        text-align: right;\n",
       "    }\n",
       "</style>\n",
       "<table border=\"1\" class=\"dataframe\">\n",
       "  <thead>\n",
       "    <tr style=\"text-align: right;\">\n",
       "      <th></th>\n",
       "      <th>n</th>\n",
       "      <th>%</th>\n",
       "    </tr>\n",
       "  </thead>\n",
       "  <tbody>\n",
       "    <tr>\n",
       "      <th>0</th>\n",
       "      <td>7237</td>\n",
       "      <td>79.6</td>\n",
       "    </tr>\n",
       "    <tr>\n",
       "      <th>1</th>\n",
       "      <td>1854</td>\n",
       "      <td>20.4</td>\n",
       "    </tr>\n",
       "  </tbody>\n",
       "</table>\n",
       "</div>"
      ],
      "text/plain": [
       "      n     %\n",
       "0  7237  79.6\n",
       "1  1854  20.4"
      ]
     },
     "metadata": {},
     "output_type": "display_data"
    },
    {
     "name": "stdout",
     "output_type": "stream",
     "text": [
      "Соотношение объёмов классов: 3.90\n"
     ]
    }
   ],
   "source": [
    "df1 = df.dropna()\n",
    "table, ratio = classes_dist(df1.Exited)\n",
    "print('Распределение классов 0 и 1 для признака Exited после удаления пропусков:')\n",
    "display(table)\n",
    "print(f'Соотношение объёмов классов: {ratio:.2f}')"
   ]
  },
  {
   "cell_type": "markdown",
   "metadata": {},
   "source": [
    "### Числовые столбцы"
   ]
  },
  {
   "cell_type": "markdown",
   "metadata": {},
   "source": [
    "#### `Age` — возраст клиента\n",
    "\n",
    "Возраст клиентов банка представлен целыми числами в диапазоне от 18 до 92 лет включительно."
   ]
  },
  {
   "cell_type": "code",
   "execution_count": 13,
   "metadata": {},
   "outputs": [
    {
     "name": "stdout",
     "output_type": "stream",
     "text": [
      "Диапазон Age: от 18 до 92 лет\n"
     ]
    }
   ],
   "source": [
    "print('Диапазон Age: от', df.Age.min(), 'до', df.Age.max(), 'лет')"
   ]
  },
  {
   "cell_type": "markdown",
   "metadata": {},
   "source": [
    "Самыми пожилыми клиентами банка оказались двое мужчин из Франции с чисто французскими и типично мужскими фамилиями `Rogova` и `T'ien`, причём второй стал клиентом банка всего год назад. Интересно, что в столь почтенном возрасте оба клиента всё ещё получают зарплату (судя по значениям столбца `EstimatedSalary`). Вот уж, действительно, বন্দে মাতরম্‌."
   ]
  },
  {
   "cell_type": "code",
   "execution_count": 14,
   "metadata": {},
   "outputs": [
    {
     "data": {
      "text/html": [
       "<div>\n",
       "<style scoped>\n",
       "    .dataframe tbody tr th:only-of-type {\n",
       "        vertical-align: middle;\n",
       "    }\n",
       "\n",
       "    .dataframe tbody tr th {\n",
       "        vertical-align: top;\n",
       "    }\n",
       "\n",
       "    .dataframe thead th {\n",
       "        text-align: right;\n",
       "    }\n",
       "</style>\n",
       "<table border=\"1\" class=\"dataframe\">\n",
       "  <thead>\n",
       "    <tr style=\"text-align: right;\">\n",
       "      <th></th>\n",
       "      <th>Surname</th>\n",
       "      <th>Geography</th>\n",
       "      <th>Gender</th>\n",
       "      <th>Age</th>\n",
       "      <th>Tenure</th>\n",
       "      <th>EstimatedSalary</th>\n",
       "    </tr>\n",
       "  </thead>\n",
       "  <tbody>\n",
       "    <tr>\n",
       "      <th>6443</th>\n",
       "      <td>Rogova</td>\n",
       "      <td>France</td>\n",
       "      <td>Male</td>\n",
       "      <td>92</td>\n",
       "      <td>NaN</td>\n",
       "      <td>195563.99</td>\n",
       "    </tr>\n",
       "    <tr>\n",
       "      <th>6759</th>\n",
       "      <td>T'ien</td>\n",
       "      <td>France</td>\n",
       "      <td>Male</td>\n",
       "      <td>92</td>\n",
       "      <td>1.0</td>\n",
       "      <td>34436.83</td>\n",
       "    </tr>\n",
       "  </tbody>\n",
       "</table>\n",
       "</div>"
      ],
      "text/plain": [
       "     Surname Geography Gender  Age  Tenure  EstimatedSalary\n",
       "6443  Rogova    France   Male   92     NaN        195563.99\n",
       "6759   T'ien    France   Male   92     1.0         34436.83"
      ]
     },
     "execution_count": 14,
     "metadata": {},
     "output_type": "execute_result"
    }
   ],
   "source": [
    "df[df.Age == df.Age.max()][['Surname', 'Geography', 'Gender', 'Age', 'Tenure', 'EstimatedSalary']]"
   ]
  },
  {
   "cell_type": "markdown",
   "metadata": {},
   "source": [
    "Распределение значений столбца `Age` примерно колоколообразное, ощутимо скошенное вправо. Это правдоподобно с точки зрения предметной области, хотя в реальной банковской статистике стоило бы ожидать более заметного спада в районе пенсионного возраста: здесь массово прекращаются зарплатные счета, корпоративные социальные программы и другие продукты для работающих клиентов."
   ]
  },
  {
   "cell_type": "code",
   "execution_count": 15,
   "metadata": {
    "scrolled": true
   },
   "outputs": [
    {
     "data": {
      "image/png": "[encoded data removed]",
      "text/plain": [
       "<Figure size 432x288 with 2 Axes>"
      ]
     },
     "metadata": {
      "needs_background": "light"
     },
     "output_type": "display_data"
    }
   ],
   "source": [
    "plots('Age', bins=range(18, 93))"
   ]
  },
  {
   "cell_type": "markdown",
   "metadata": {},
   "source": [
    "Думаю, что в реальной задаче я бы привёл все значения возраста к диапазонам: например, «18–29 лет», «30–45 лет» и т. д."
   ]
  },
  {
   "cell_type": "markdown",
   "metadata": {},
   "source": [
    "#### `Balance` — баланс на счёте\n",
    "\n",
    "`Balance` — самый загадочный столбец набора данных. Он описан как «баланс на счёте» — при том, что в реальной банковской практике это _очень_ переменная величина, не говоря уже о том, что у одного и того же клиента может быть больше одного счёта; к какому же из них будет относиться значение `Balance`?\n",
    "\n",
    "В реальной практике подобный столбец мог бы означать, например, _средний_ (или медианный) баланс по всем счетам одного типа (например, депозитным) за некоторый промежуток времени."
   ]
  },
  {
   "cell_type": "code",
   "execution_count": 16,
   "metadata": {},
   "outputs": [
    {
     "name": "stdout",
     "output_type": "stream",
     "text": [
      "Диапазон Balance: от 0.0 до 250898.09 , медиана: 97198.54000000001\n"
     ]
    }
   ],
   "source": [
    "print('Диапазон Balance: от', df.Balance.min(), 'до', df.Balance.max(),\n",
    "     ', медиана:', df.Balance.median())"
   ]
  },
  {
   "cell_type": "markdown",
   "metadata": {},
   "source": [
    "Несмотря на то, что данные имитируют банковскую статистику, в их описании не хватает важнейшей информации: в какой валюте выражены денежные суммы (в том числе `Balance`)? Можно разве что предположить, что речь идёт о **евро**: в статистике фигурируют страны Еврозоны, и различные источники в Интернете оценивают средний капитал западноевропейцев примерно в 85–100 тыс. евро.\n",
    "\n",
    "Распределение баланса (за исключением значения `0`) — почти идеально нормальное, что категорически не похоже на настоящую банковскую статистику. В реальной жизни благосостояние согласуется с распределением Парето: острый пик в начале распределения (обычно в районе средней продуктовой корзины) и очень длинный хвост вплоть до единичных клиентов, ворочающих десятками миллионов. (Счета на сотни миллионов евро / долларов и больше — отдельная тема.)"
   ]
  },
  {
   "cell_type": "code",
   "execution_count": 17,
   "metadata": {
    "scrolled": true
   },
   "outputs": [
    {
     "data": {
      "image/png": "[encoded data removed]",
      "text/plain": [
       "<Figure size 432x288 with 2 Axes>"
      ]
     },
     "metadata": {
      "needs_background": "light"
     },
     "output_type": "display_data"
    }
   ],
   "source": [
    "plots('Balance')"
   ]
  },
  {
   "cell_type": "markdown",
   "metadata": {},
   "source": [
    "Наоборот, большáя доля нулевых значений (3617 шт., или 36,2 % от всего набора данных) похожа на реальную статистику. Существует множество причин, почему баланс клиента может быть равен нулю, например:\n",
    "\n",
    "- Человек получил промо-карту банка в ходе рекламной акции и никогда ею не пользовался.\n",
    "- Человек вывел все свои средства и перестал пользоваться услугами банка, однако не расторгал договор.\n",
    "- Человек — должник, который продолжает числиться клиентом банка, пока его долг не урегулирован.\n",
    "\n",
    "В совокупности эти и другие причины и дают такую большую долю нулевых значений."
   ]
  },
  {
   "cell_type": "code",
   "execution_count": 18,
   "metadata": {},
   "outputs": [
    {
     "name": "stdout",
     "output_type": "stream",
     "text": [
      "Нулевых значений в столбце Balance: 3617\n",
      "Доля от всего набора данных: 36.2%\n"
     ]
    }
   ],
   "source": [
    "bal = df.Balance\n",
    "print('Нулевых значений в столбце Balance:', bal[bal == 0].count())\n",
    "print(f'Доля от всего набора данных: {(bal[bal == 0].count() / len(bal)):.1%}')"
   ]
  },
  {
   "cell_type": "markdown",
   "metadata": {},
   "source": [
    "#### `CreditScore` — кредитный рейтинг\n",
    "\n",
    "Значения кредитного рейтинга охватывают диапазон от 350 до 850 неизвестных единиц, хотя в реальной практике значения такой семантики либо начинаются от 0, либо расположены вокруг 0 (положительные значения дают бонус при решении о предоставлении кредита, отрицательные — пенальти)."
   ]
  },
  {
   "cell_type": "code",
   "execution_count": 19,
   "metadata": {},
   "outputs": [
    {
     "name": "stdout",
     "output_type": "stream",
     "text": [
      "Диапазон CreditScore: от 350 до 850\n"
     ]
    }
   ],
   "source": [
    "print('Диапазон CreditScore: от', df.CreditScore.min(), 'до', df.CreditScore.max())"
   ]
  },
  {
   "cell_type": "markdown",
   "metadata": {},
   "source": [
    "Распределение `CreditScore` — колоколообразное, немного скошенное вправо, за исключением выброса на максимальном значении `850`."
   ]
  },
  {
   "cell_type": "code",
   "execution_count": 20,
   "metadata": {
    "scrolled": true
   },
   "outputs": [
    {
     "data": {
      "image/png": "[encoded data removed]",
      "text/plain": [
       "<Figure size 432x288 with 2 Axes>"
      ]
     },
     "metadata": {
      "needs_background": "light"
     },
     "output_type": "display_data"
    }
   ],
   "source": [
    "plots('CreditScore')"
   ]
  },
  {
   "cell_type": "markdown",
   "metadata": {},
   "source": [
    "Выброс на максимальном значении в реальной практике мог бы объясняться тем, что в данной системе кредитный рейтинг не может превышать 850, сколько бы «достижений» ни накапливал клиент. Поэтому, начиная с некоторого уровня «достижений», всем клиентам присваивается один и тот же максимальный рейтинг."
   ]
  },
  {
   "cell_type": "code",
   "execution_count": 21,
   "metadata": {},
   "outputs": [
    {
     "name": "stdout",
     "output_type": "stream",
     "text": [
      "Максимальных значений (850) в столбце CreditScore: 233\n",
      "Доля от всего набора данных: 2.3%\n"
     ]
    }
   ],
   "source": [
    "cs = df.CreditScore\n",
    "csm = cs[cs == cs.max()].count()\n",
    "print(f'Максимальных значений ({cs.max()}) в столбце CreditScore: {csm}')\n",
    "print(f'Доля от всего набора данных: {(csm / len(cs)):.1%}')"
   ]
  },
  {
   "cell_type": "markdown",
   "metadata": {},
   "source": [
    "#### `EstimatedSalary` — предполагаемая зарплата\n",
    "\n",
    "Для столбца `EstimatedSalary`, как и для `Balance`, в описании набора данных не указана валюта, а также период времени, за который исчисляется зарплата. Можно условно предположить, что имеется в виду **евро в год** — по крайней мере, при такой интерпретации порядок значений выглядит правдоподобно.\n",
    "\n",
    "Сами значения практически равномерно распределены между 0 и 200 000, при том что для реальных зарплат совершенно неправдоподобно ни равномерное распределение, ни ограничение сверху круглой величиной 200 000 (независимо от валюты)."
   ]
  },
  {
   "cell_type": "code",
   "execution_count": 22,
   "metadata": {},
   "outputs": [
    {
     "data": {
      "image/png": "[encoded data removed]",
      "text/plain": [
       "<Figure size 432x288 with 2 Axes>"
      ]
     },
     "metadata": {
      "needs_background": "light"
     },
     "output_type": "display_data"
    }
   ],
   "source": [
    "plots('EstimatedSalary')"
   ]
  },
  {
   "cell_type": "markdown",
   "metadata": {},
   "source": [
    "### Категориальные и порядковые столбцы"
   ]
  },
  {
   "cell_type": "markdown",
   "metadata": {},
   "source": [
    "#### `Gender` — пол\n",
    "\n",
    "Мужчины составляют немного больше половины всей выборки, женщины — немного меньше половины."
   ]
  },
  {
   "cell_type": "code",
   "execution_count": 23,
   "metadata": {
    "scrolled": true
   },
   "outputs": [
    {
     "name": "stdout",
     "output_type": "stream",
     "text": [
      "Распределение классов для признака Gender:\n"
     ]
    },
    {
     "data": {
      "text/html": [
       "<div>\n",
       "<style scoped>\n",
       "    .dataframe tbody tr th:only-of-type {\n",
       "        vertical-align: middle;\n",
       "    }\n",
       "\n",
       "    .dataframe tbody tr th {\n",
       "        vertical-align: top;\n",
       "    }\n",
       "\n",
       "    .dataframe thead th {\n",
       "        text-align: right;\n",
       "    }\n",
       "</style>\n",
       "<table border=\"1\" class=\"dataframe\">\n",
       "  <thead>\n",
       "    <tr style=\"text-align: right;\">\n",
       "      <th></th>\n",
       "      <th>n</th>\n",
       "      <th>%</th>\n",
       "    </tr>\n",
       "  </thead>\n",
       "  <tbody>\n",
       "    <tr>\n",
       "      <th>Male</th>\n",
       "      <td>5457</td>\n",
       "      <td>54.6</td>\n",
       "    </tr>\n",
       "    <tr>\n",
       "      <th>Female</th>\n",
       "      <td>4543</td>\n",
       "      <td>45.4</td>\n",
       "    </tr>\n",
       "  </tbody>\n",
       "</table>\n",
       "</div>"
      ],
      "text/plain": [
       "           n     %\n",
       "Male    5457  54.6\n",
       "Female  4543  45.4"
      ]
     },
     "metadata": {},
     "output_type": "display_data"
    }
   ],
   "source": [
    "table, ratio = classes_dist(df.Gender)\n",
    "print('Распределение классов для признака Gender:')\n",
    "display(table)"
   ]
  },
  {
   "cell_type": "markdown",
   "metadata": {},
   "source": [
    "#### `Geography` — страна проживания\n",
    "\n",
    "Половина клиентов — из Франции, остальные почти поровну распределены между Германией и Испанией. С точки зрения смысла и английского языка правильнее было бы назвать столбец `Country`."
   ]
  },
  {
   "cell_type": "code",
   "execution_count": 24,
   "metadata": {},
   "outputs": [
    {
     "name": "stdout",
     "output_type": "stream",
     "text": [
      "Распределение классов для признака Geography:\n"
     ]
    },
    {
     "data": {
      "text/html": [
       "<div>\n",
       "<style scoped>\n",
       "    .dataframe tbody tr th:only-of-type {\n",
       "        vertical-align: middle;\n",
       "    }\n",
       "\n",
       "    .dataframe tbody tr th {\n",
       "        vertical-align: top;\n",
       "    }\n",
       "\n",
       "    .dataframe thead th {\n",
       "        text-align: right;\n",
       "    }\n",
       "</style>\n",
       "<table border=\"1\" class=\"dataframe\">\n",
       "  <thead>\n",
       "    <tr style=\"text-align: right;\">\n",
       "      <th></th>\n",
       "      <th>n</th>\n",
       "      <th>%</th>\n",
       "    </tr>\n",
       "  </thead>\n",
       "  <tbody>\n",
       "    <tr>\n",
       "      <th>France</th>\n",
       "      <td>5014</td>\n",
       "      <td>50.1</td>\n",
       "    </tr>\n",
       "    <tr>\n",
       "      <th>Germany</th>\n",
       "      <td>2509</td>\n",
       "      <td>25.1</td>\n",
       "    </tr>\n",
       "    <tr>\n",
       "      <th>Spain</th>\n",
       "      <td>2477</td>\n",
       "      <td>24.8</td>\n",
       "    </tr>\n",
       "  </tbody>\n",
       "</table>\n",
       "</div>"
      ],
      "text/plain": [
       "            n     %\n",
       "France   5014  50.1\n",
       "Germany  2509  25.1\n",
       "Spain    2477  24.8"
      ]
     },
     "metadata": {},
     "output_type": "display_data"
    }
   ],
   "source": [
    "table, ratio = classes_dist(df.Geography)\n",
    "print('Распределение классов для признака Geography:')\n",
    "display(table)"
   ]
  },
  {
   "cell_type": "markdown",
   "metadata": {},
   "source": [
    "#### `HasCrCard` — наличие кредитной карты\n",
    "\n",
    "Кредитная карта есть у 71 % клиентов из выборки."
   ]
  },
  {
   "cell_type": "code",
   "execution_count": 25,
   "metadata": {},
   "outputs": [
    {
     "name": "stdout",
     "output_type": "stream",
     "text": [
      "Распределение классов для признака HasCrCard:\n"
     ]
    },
    {
     "data": {
      "text/html": [
       "<div>\n",
       "<style scoped>\n",
       "    .dataframe tbody tr th:only-of-type {\n",
       "        vertical-align: middle;\n",
       "    }\n",
       "\n",
       "    .dataframe tbody tr th {\n",
       "        vertical-align: top;\n",
       "    }\n",
       "\n",
       "    .dataframe thead th {\n",
       "        text-align: right;\n",
       "    }\n",
       "</style>\n",
       "<table border=\"1\" class=\"dataframe\">\n",
       "  <thead>\n",
       "    <tr style=\"text-align: right;\">\n",
       "      <th></th>\n",
       "      <th>n</th>\n",
       "      <th>%</th>\n",
       "    </tr>\n",
       "  </thead>\n",
       "  <tbody>\n",
       "    <tr>\n",
       "      <th>1</th>\n",
       "      <td>7055</td>\n",
       "      <td>70.6</td>\n",
       "    </tr>\n",
       "    <tr>\n",
       "      <th>0</th>\n",
       "      <td>2945</td>\n",
       "      <td>29.4</td>\n",
       "    </tr>\n",
       "  </tbody>\n",
       "</table>\n",
       "</div>"
      ],
      "text/plain": [
       "      n     %\n",
       "1  7055  70.6\n",
       "0  2945  29.4"
      ]
     },
     "metadata": {},
     "output_type": "display_data"
    }
   ],
   "source": [
    "table, ratio = classes_dist(df.HasCrCard)\n",
    "print('Распределение классов для признака HasCrCard:')\n",
    "display(table)"
   ]
  },
  {
   "cell_type": "markdown",
   "metadata": {},
   "source": [
    "#### `IsActiveMember` — активность клиента\n",
    "\n",
    "Из описания задачи неизвестно, что конкретно означает «активность клиента», однако этот признак положителен чуть больше чем у половины клиентов и отрицателен у остальных."
   ]
  },
  {
   "cell_type": "code",
   "execution_count": 26,
   "metadata": {},
   "outputs": [
    {
     "name": "stdout",
     "output_type": "stream",
     "text": [
      "Распределение классов для признака IsActiveMember:\n"
     ]
    },
    {
     "data": {
      "text/html": [
       "<div>\n",
       "<style scoped>\n",
       "    .dataframe tbody tr th:only-of-type {\n",
       "        vertical-align: middle;\n",
       "    }\n",
       "\n",
       "    .dataframe tbody tr th {\n",
       "        vertical-align: top;\n",
       "    }\n",
       "\n",
       "    .dataframe thead th {\n",
       "        text-align: right;\n",
       "    }\n",
       "</style>\n",
       "<table border=\"1\" class=\"dataframe\">\n",
       "  <thead>\n",
       "    <tr style=\"text-align: right;\">\n",
       "      <th></th>\n",
       "      <th>n</th>\n",
       "      <th>%</th>\n",
       "    </tr>\n",
       "  </thead>\n",
       "  <tbody>\n",
       "    <tr>\n",
       "      <th>1</th>\n",
       "      <td>5151</td>\n",
       "      <td>51.5</td>\n",
       "    </tr>\n",
       "    <tr>\n",
       "      <th>0</th>\n",
       "      <td>4849</td>\n",
       "      <td>48.5</td>\n",
       "    </tr>\n",
       "  </tbody>\n",
       "</table>\n",
       "</div>"
      ],
      "text/plain": [
       "      n     %\n",
       "1  5151  51.5\n",
       "0  4849  48.5"
      ]
     },
     "metadata": {},
     "output_type": "display_data"
    }
   ],
   "source": [
    "table, ratio = classes_dist(df.IsActiveMember)\n",
    "print('Распределение классов для признака IsActiveMember:')\n",
    "display(table)"
   ]
  },
  {
   "cell_type": "markdown",
   "metadata": {},
   "source": [
    "#### `NumOfProducts` — количество продуктов банка, используемых клиентом\n",
    "\n",
    "Половина клиентов использует 1 продукт банка, почти половина — 2 продукта, оставшаяся небольшая доля — 3 или 4 продукта. Впрочем, смысл признака `NumOfProducts` опять остаётся непонятным."
   ]
  },
  {
   "cell_type": "code",
   "execution_count": 27,
   "metadata": {
    "scrolled": true
   },
   "outputs": [
    {
     "name": "stdout",
     "output_type": "stream",
     "text": [
      "Распределение классов для признака NumOfProducts:\n"
     ]
    },
    {
     "data": {
      "text/html": [
       "<div>\n",
       "<style scoped>\n",
       "    .dataframe tbody tr th:only-of-type {\n",
       "        vertical-align: middle;\n",
       "    }\n",
       "\n",
       "    .dataframe tbody tr th {\n",
       "        vertical-align: top;\n",
       "    }\n",
       "\n",
       "    .dataframe thead th {\n",
       "        text-align: right;\n",
       "    }\n",
       "</style>\n",
       "<table border=\"1\" class=\"dataframe\">\n",
       "  <thead>\n",
       "    <tr style=\"text-align: right;\">\n",
       "      <th></th>\n",
       "      <th>n</th>\n",
       "      <th>%</th>\n",
       "    </tr>\n",
       "  </thead>\n",
       "  <tbody>\n",
       "    <tr>\n",
       "      <th>1</th>\n",
       "      <td>5084</td>\n",
       "      <td>50.8</td>\n",
       "    </tr>\n",
       "    <tr>\n",
       "      <th>2</th>\n",
       "      <td>4590</td>\n",
       "      <td>45.9</td>\n",
       "    </tr>\n",
       "    <tr>\n",
       "      <th>3</th>\n",
       "      <td>266</td>\n",
       "      <td>2.7</td>\n",
       "    </tr>\n",
       "    <tr>\n",
       "      <th>4</th>\n",
       "      <td>60</td>\n",
       "      <td>0.6</td>\n",
       "    </tr>\n",
       "  </tbody>\n",
       "</table>\n",
       "</div>"
      ],
      "text/plain": [
       "      n     %\n",
       "1  5084  50.8\n",
       "2  4590  45.9\n",
       "3   266   2.7\n",
       "4    60   0.6"
      ]
     },
     "metadata": {},
     "output_type": "display_data"
    }
   ],
   "source": [
    "table, ratio = classes_dist(df.NumOfProducts)\n",
    "print('Распределение классов для признака NumOfProducts:')\n",
    "display(table)"
   ]
  },
  {
   "cell_type": "markdown",
   "metadata": {},
   "source": [
    "### Преобразование набора данных"
   ]
  },
  {
   "cell_type": "markdown",
   "metadata": {},
   "source": [
    "Удалим из набора данных строки с пропущеннными ячейками."
   ]
  },
  {
   "cell_type": "code",
   "execution_count": 28,
   "metadata": {},
   "outputs": [],
   "source": [
    "df.dropna(inplace=True)"
   ]
  },
  {
   "cell_type": "markdown",
   "metadata": {},
   "source": [
    "Удалим столбцы `CustomerId`, `RowNumber` и `Surname`, которые не нужны для модели."
   ]
  },
  {
   "cell_type": "code",
   "execution_count": 29,
   "metadata": {},
   "outputs": [],
   "source": [
    "df.drop(['CustomerId', 'RowNumber', 'Surname'], axis=1, inplace=True)"
   ]
  },
  {
   "cell_type": "markdown",
   "metadata": {},
   "source": [
    "Категориальные столбцы, значения в которых представлены не числовыми величинами (`Gender` и `Geography`), преобразуем к бинарным столбцам прямым кодированием (OHE)."
   ]
  },
  {
   "cell_type": "code",
   "execution_count": 30,
   "metadata": {},
   "outputs": [],
   "source": [
    "# числовые столбцы\n",
    "num_cols = ['Age', 'Balance', 'CreditScore', 'EstimatedSalary', 'NumOfProducts', 'Tenure']\n",
    "\n",
    "# категориальные столбцы\n",
    "cat_cols = ['Gender', 'Geography']\n",
    "\n",
    "df = pd.get_dummies(df, columns=cat_cols, drop_first=True)"
   ]
  },
  {
   "cell_type": "markdown",
   "metadata": {},
   "source": [
    "#### Замечание об оптимизации факторов\n",
    "\n",
    "В реальной задаче я бы ещё изучил взаимосвязь прогнозирующих признаков, чтобы удалить лишние признаки: те, которые слишком сильно ассоциированы с другими и / или слишком мало влияют на целевой признак."
   ]
  },
  {
   "cell_type": "markdown",
   "metadata": {},
   "source": [
    "## Построение модели машинного обучения\n",
    "\n",
    "### Обучающая, валидационная и тестовая выборки\n",
    "\n",
    "При работе с моделями будем использовать выборки трёх типов: _обучающую_, _валидационную_ и _тестовую_. В коде будем обозначать выборки по схеме `ось_тип_источник`, где:\n",
    "\n",
    "- _Ось:_ `x` — прогнозирующие признаки, `y` — целевой признак\n",
    "- _Тип_ выборки: `train` — обучающая, `valid` — валидационная, `test` — тестовая\n",
    "- _Источник_ (только для целевого признака): `true` — истинные значения, `pred` — значения, предсказанные моделью\n",
    "\n",
    "Например:\n",
    "\n",
    "- `x_train` — прогнозирующие признаки обучающей выборки,\n",
    "- `y_test_pred` — целевой признак, предсказанный моделью на тестовой выборке.\n",
    "\n",
    "Функция `get_samples()` разделяет исходный набор данных на три выборки перечисленных типов и отделяет прогнозирующие признаки от целевого."
   ]
  },
  {
   "cell_type": "code",
   "execution_count": 31,
   "metadata": {},
   "outputs": [],
   "source": [
    "def get_samples(df):\n",
    "    \"\"\"\n",
    "    Разделяет набор данных df на обучающую, валидационную и тестовую выборки в пропорции 60/20/20 %.\n",
    "    Выборки стратифицированы по целевому признаку Exited.\n",
    "    \n",
    "    Возвращает словарь с 6 значениями:\n",
    "    {'x_train', 'x_valid', 'x_test' — прогнозирующие признаки обучающей, валидационной и тестовой выборки,\n",
    "     'y_train_true', 'y_valid_true', 'y_test_true' — целевой признак соответствующих выборок}\n",
    "    \"\"\"\n",
    "    result = {}\n",
    "    x, y = df.drop(['Exited'] , axis=1), df['Exited']\n",
    "    result['x_train'], x_rest, result['y_train_true'], y_rest = train_test_split(\n",
    "        x, y, test_size=0.4, random_state=random_state_default, stratify=y\n",
    "    )\n",
    "    result['x_valid'], result['x_test'], result['y_valid_true'], result['y_test_true'] = train_test_split(\n",
    "        x_rest, y_rest, test_size=0.5, random_state=random_state_default, stratify=y_rest\n",
    "    )\n",
    "    return result"
   ]
  },
  {
   "cell_type": "markdown",
   "metadata": {},
   "source": [
    "### Подбор модели\n",
    "\n",
    "В описании задачи предлагается подобрать модель бинарной классификации со значением _F1_-меры не менее 0,59. Будем рассматривать модели случайного леса (`RandomForestClassifier`), варьируя параметры:\n",
    "\n",
    "- количество деревьев (`n_estimators`),\n",
    "- максимальная глубина дерева (`max_depth`)."
   ]
  },
  {
   "cell_type": "markdown",
   "metadata": {},
   "source": [
    "#### Алгоритм подбора модели\n",
    "\n",
    "Код, который я использовал для подбора модели, полностью **не умещается** в учебную тетрадку Jupyter: на некоторых его фрагментах тетрадка зависает, а некоторые другие выполняются в ней намного дольше, чем на моём локальном компьютере. В этом разделе я описываю общий подход к подбору модели и демонстрирую избранные фрагменты кода, которые здесь успешно выполняются за разумное время.\n",
    "\n",
    "Самым простым решением было бы перебрать во вложенном цикле все возможные комбинации гиперпараметров:\n",
    "\n",
    "```python\n",
    "for depth in range(1, много):  # максимальная глубина дерева\n",
    "    for est in range(1, много):  # количество деревьев\n",
    "        model = RandomForestClassifier(max_depth=depth, n_estimators=est, …)\n",
    "        # обучаем модель, вычисляем F1, находим максимум по всем моделям\n",
    "```\n",
    "\n",
    "Однако с таким полным перебором не справляется даже мой локальный компьютер. По опыту я считаю разумным проверять глубину дерева в диапазоне до 50 уровней, а количество деревьев — до 1000; построение 50 × 1000 = 50 000 моделей на имеющихся данных заняло бы на моём компьютере не меньше суток. Кроме того, эту операцию пришлось бы повторять неоднократно по мере доработки и оптимизации кода.\n",
    "\n",
    "Поэтому я выбрал такой алгоритм:\n",
    "\n",
    "1. Перебрать _разреженные_ диапазоны параметров. В частности, я начал всю процедуру с такого цикла:\n",
    "\n",
    "```python\n",
    "for depth in range(5, 51, 5):  # максимальная глубина дерева\n",
    "    for est in range(10, 1001, 20):  # количество деревьев\n",
    "```\n",
    "\n",
    "2. Рассмотреть локальные максимумы _F1_, полученные на предыдущем этапе, и перебрать параметры в окрестностях этих максимумов. В зависимости от ситуации параметры перебираются либо сразу с шагом 1, либо через промежуточный разреженный диапазон (например, для количества деревьев — с шагом 5).\n",
    "\n",
    "Для обнаружения максимумов _F1_ используется функция `sort_models()` и вспомогательная визуализация средствами seaborn."
   ]
  },
  {
   "cell_type": "code",
   "execution_count": 32,
   "metadata": {},
   "outputs": [],
   "source": [
    "def sort_models(samples, depth_range, est_range, class_weight=None):\n",
    "    \"\"\"\n",
    "    Таблица свойств моделей RandomForestClassifier на выборке samples:\n",
    "    F1-мера и ROC-AUC на валидационной выборке\n",
    "    для разных сочетаний max_depth и n_estimators\n",
    "    \n",
    "    Перебирает все сочетания max_depth и n_estimators из диапазонов\n",
    "    depth_range и est_range соответственно\n",
    "    \n",
    "    \"\"\"\n",
    "    results = pd.DataFrame(columns=['n_estimators', 'max_depth', 'f1', 'roc_auc'])\n",
    "    for depth in depth_range:\n",
    "        for est in est_range:\n",
    "            model = RandomForestClassifier(max_depth=depth, n_estimators=est,\n",
    "                random_state=random_state_default, class_weight=class_weight)\n",
    "            model.fit(samples['x_train'], samples['y_train_true'])\n",
    "            y_valid_pred = model.predict(samples['x_valid'])\n",
    "            f1 = f1_score(samples['y_valid_true'], y_valid_pred)\n",
    "            roc_auc = roc_auc_score(samples['y_valid_true'], model.predict_proba(samples['x_valid'])[:, 1])\n",
    "            results.loc[len(results.index)] = [est, depth, f1, roc_auc]\n",
    "    return results"
   ]
  },
  {
   "cell_type": "markdown",
   "metadata": {},
   "source": [
    "#### Пример подбора модели\n",
    "\n",
    "Продемонстрируем _фрагменты_ процедуры подбора модели для исходного набора данных. После нескольких итераций диапазон значений `n_estimators` сузился до 490 … 520, а диапазон значений `max_depth` — до 9 … 15. В таблице перечислены сочетания гиперпараметров, дающие наибольшую _F1_-меру. В соответствии с условиями задачи для каждой модели также рассчитывается _AUC-ROC_."
   ]
  },
  {
   "cell_type": "code",
   "execution_count": 33,
   "metadata": {},
   "outputs": [
    {
     "name": "stdout",
     "output_type": "stream",
     "text": [
      "    n_estimators  max_depth        f1   roc_auc\n",
      "14         490.0       13.0  0.579216  0.857765\n",
      "15         495.0       13.0  0.579216  0.857497\n",
      "18         510.0       13.0  0.579216  0.857825\n",
      "16         500.0       13.0  0.579216  0.857847\n",
      "19         515.0       13.0  0.576792  0.857616\n",
      "17         505.0       13.0  0.576792  0.857873\n",
      "20         520.0       13.0  0.575809  0.857625\n",
      "22         495.0       15.0  0.573356  0.857875\n",
      "21         490.0       15.0  0.572391  0.857853\n",
      "13         520.0       11.0  0.571429  0.860544\n"
     ]
    }
   ],
   "source": [
    "data_orig = get_samples(df)\n",
    "results_orig = sort_models(data_orig, range(9, 16, 2), range(490, 521, 5))\n",
    "print(results_orig.sort_values('f1', ascending=False).head(10))"
   ]
  },
  {
   "cell_type": "code",
   "execution_count": 34,
   "metadata": {
    "scrolled": true
   },
   "outputs": [
    {
     "data": {
      "image/png": "[encoded data removed]",
      "text/plain": [
       "<Figure size 432x288 with 1 Axes>"
      ]
     },
     "metadata": {
      "needs_background": "light"
     },
     "output_type": "display_data"
    }
   ],
   "source": [
    "sns.scatterplot(data=results_orig, x='n_estimators', y='max_depth',\n",
    "    hue='f1', size='f1', sizes=(5, 2000), palette='Spectral', legend=False)\n",
    "plt.show()"
   ]
  },
  {
   "cell_type": "markdown",
   "metadata": {},
   "source": [
    "На диаграмме видно, что модели с максимальной _F1_ получаются при максимальной глубине деревьев, близкой к 13. Изучим подробнее окрестности значения `max_depth` = 13."
   ]
  },
  {
   "cell_type": "code",
   "execution_count": 35,
   "metadata": {},
   "outputs": [
    {
     "name": "stdout",
     "output_type": "stream",
     "text": [
      "    n_estimators  max_depth        f1   roc_auc\n",
      "19         506.0       13.0  0.579216  0.857959\n",
      "17         500.0       13.0  0.579216  0.857847\n",
      "16         497.0       13.0  0.579216  0.857605\n",
      "15         494.0       13.0  0.579216  0.857575\n",
      "14         491.0       13.0  0.579216  0.857689\n",
      "18         503.0       13.0  0.576792  0.857869\n",
      "13         488.0       13.0  0.576792  0.857612\n",
      "23         518.0       13.0  0.576792  0.857616\n",
      "22         515.0       13.0  0.576792  0.857616\n",
      "20         509.0       13.0  0.576792  0.857951\n"
     ]
    }
   ],
   "source": [
    "results_orig_2 = sort_models(data_orig, range(12, 15, 1), range(485, 521, 3))\n",
    "print(results_orig_2.sort_values('f1', ascending=False).head(10))"
   ]
  },
  {
   "cell_type": "code",
   "execution_count": 36,
   "metadata": {},
   "outputs": [
    {
     "data": {
      "image/png": "[encoded data removed]",
      "text/plain": [
       "<Figure size 432x288 with 1 Axes>"
      ]
     },
     "metadata": {
      "needs_background": "light"
     },
     "output_type": "display_data"
    }
   ],
   "source": [
    "sns.scatterplot(data=results_orig_2, x='n_estimators', y='max_depth',\n",
    "    hue='f1', size='f1', sizes=(5, 2000), palette='Spectral', legend=False)\n",
    "plt.show()"
   ]
  },
  {
   "cell_type": "markdown",
   "metadata": {},
   "source": [
    "Если остановиться на `max_depth` = 13, снова сузить диапазон `n_estimators` и уменьшить шаг циклов до 1, то обнаружится 14 моделей с максимальным (в пределах точности применяемых инструменов) _F1_ = 0,5792163543441228."
   ]
  },
  {
   "cell_type": "code",
   "execution_count": 37,
   "metadata": {},
   "outputs": [],
   "source": [
    "results_orig_3 = sort_models(data_orig, range(13, 14, 1), range(487, 512, 1))"
   ]
  },
  {
   "cell_type": "code",
   "execution_count": 38,
   "metadata": {},
   "outputs": [
    {
     "name": "stdout",
     "output_type": "stream",
     "text": [
      "Максимальное значение F1 = 0.5792163543441228\n",
      "Количество потенциально оптимальных моделей: 14\n"
     ]
    }
   ],
   "source": [
    "f1_max = results_orig_3.f1.max()\n",
    "max_orig_3 = results_orig_3[results_orig_3.f1 == f1_max]\n",
    "print('Максимальное значение F1 =', f1_max)\n",
    "print('Количество потенциально оптимальных моделей:', len(max_orig_3))"
   ]
  },
  {
   "cell_type": "markdown",
   "metadata": {},
   "source": [
    "Будем считать оптимальной моделью ту, где требуется меньше всего деревьев случайного леса, а именно 489. Значение _AUC-ROC_ для этой модели составляет 0,857691."
   ]
  },
  {
   "cell_type": "code",
   "execution_count": 39,
   "metadata": {
    "scrolled": true
   },
   "outputs": [
    {
     "name": "stdout",
     "output_type": "stream",
     "text": [
      "Оптимальная модель:\n",
      "Количество деревьев: 489.0\n",
      "AUC-ROC: 0.8576905094097463\n"
     ]
    }
   ],
   "source": [
    "est_min = max_orig_3.n_estimators.min()\n",
    "print('Оптимальная модель:')\n",
    "print('Количество деревьев:', est_min)\n",
    "print('AUC-ROC:', max_orig_3[max_orig_3.n_estimators == est_min].roc_auc.iloc[0])"
   ]
  },
  {
   "cell_type": "markdown",
   "metadata": {},
   "source": [
    "В результате этого подбора модели не достигнуто значение _F1_ = 0,59, необходимое по условию задачи. На следующих этапах оптимизируем процедуру, чтобы достичь его."
   ]
  },
  {
   "cell_type": "markdown",
   "metadata": {},
   "source": [
    "#### Улучшение модели"
   ]
  },
  {
   "cell_type": "markdown",
   "metadata": {},
   "source": [
    "##### Стандартизация\n",
    "\n",
    "Стандартизируем числовые столбцы с помощью `StandardScaler`."
   ]
  },
  {
   "cell_type": "code",
   "execution_count": 40,
   "metadata": {
    "scrolled": true
   },
   "outputs": [],
   "source": [
    "scaler = StandardScaler()\n",
    "df_scaled = df.copy()\n",
    "df_scaled[num_cols] = scaler.fit_transform(df_scaled[num_cols])\n",
    "data_scaled = get_samples(df_scaled)"
   ]
  },
  {
   "cell_type": "code",
   "execution_count": 41,
   "metadata": {},
   "outputs": [],
   "source": [
    "# --- ДЛЯ ПРОВЕРКИ ---\n",
    "\n",
    "scaler_v2 = StandardScaler()\n",
    "\n",
    "# делим исходный набор данных на 6 кусков:\n",
    "data_scaled_v2 = get_samples(df)\n",
    "\n",
    "# ранее объявлен список:\n",
    "# num_cols = ['Age', 'Balance', 'CreditScore', 'EstimatedSalary', 'NumOfProducts', 'Tenure']\n",
    "\n",
    "# обучаем scaler_v2 на числовых столбцах только из обучающей выборки x_train\n",
    "scaler_v2.fit(data_scaled_v2['x_train'][num_cols])\n",
    "\n",
    "# применяем обученный scaler_v2 ко всем трём прогнозирующим выборкам\n",
    "for key in ['x_train', 'x_valid', 'x_test']:\n",
    "    data_scaled_v2[key][num_cols] = scaler_v2.transform(data_scaled_v2[key][num_cols])"
   ]
  },
  {
   "cell_type": "markdown",
   "metadata": {},
   "source": [
    "Продемонстрируем _последний_ этап подбора оптимальной модели. (Напомню, что полный код предыдущих этапов не умещается в Jupyter.)"
   ]
  },
  {
   "cell_type": "code",
   "execution_count": 42,
   "metadata": {},
   "outputs": [],
   "source": [
    "results_scaled = sort_models(data_scaled, range(13, 14, 1), range(405, 425, 1))"
   ]
  },
  {
   "cell_type": "markdown",
   "metadata": {},
   "source": [
    "Максимальное значение _F1_ составляет 0,5792163543441228 — то есть _ровно столько же_, сколько при подборе модели без стандартизации, и тоже достигается при максимальной глубине деревьев, равной 13. Однако теперь достаточно 410 деревьев (по сравнению с 498 в случае без стандартизации)."
   ]
  },
  {
   "cell_type": "code",
   "execution_count": 43,
   "metadata": {},
   "outputs": [
    {
     "name": "stdout",
     "output_type": "stream",
     "text": [
      "Максимальное значение F1 = 0.5792163543441228\n",
      "Количество потенциально оптимальных моделей: 6\n"
     ]
    }
   ],
   "source": [
    "f1_max = results_scaled.f1.max()\n",
    "max_scaled = results_scaled[results_scaled.f1 == f1_max]\n",
    "print('Максимальное значение F1 =', f1_max)\n",
    "print('Количество потенциально оптимальных моделей:', len(max_scaled))"
   ]
  },
  {
   "cell_type": "code",
   "execution_count": 44,
   "metadata": {},
   "outputs": [
    {
     "name": "stdout",
     "output_type": "stream",
     "text": [
      "Оптимальная модель:\n",
      "Количество деревьев: 410.0\n",
      "AUC-ROC: 0.8567330493240964\n"
     ]
    }
   ],
   "source": [
    "est_min = max_scaled.n_estimators.min()\n",
    "print('Оптимальная модель:')\n",
    "print('Количество деревьев:', est_min)\n",
    "print('AUC-ROC:', max_scaled[max_scaled.n_estimators == est_min].roc_auc.iloc[0])"
   ]
  },
  {
   "cell_type": "markdown",
   "metadata": {},
   "source": [
    "##### Взвешивание\n",
    "\n",
    "Баланс классов целевого признака `Exited` составляет 4:1. Сбалансируем классы путём присваивания весов.\n",
    "\n",
    "На локальном компьютере была подобрана оптимальная модель с 880 деревьями и максимальной глубиной дерева 9."
   ]
  },
  {
   "cell_type": "code",
   "execution_count": 45,
   "metadata": {},
   "outputs": [],
   "source": [
    "model_w = RandomForestClassifier(max_depth=9, n_estimators=880,\n",
    "    random_state=random_state_default, class_weight='balanced')\n",
    "model_w.fit(data_orig['x_train'], data_orig['y_train_true'])\n",
    "y_valid_pred_w = model_w.predict(data_orig['x_valid'])"
   ]
  },
  {
   "cell_type": "markdown",
   "metadata": {},
   "source": [
    "Значение _F1_-меры для оптимальной модели составляет 0,6146, что превышает необходимый минимум (0,59) более чем на 0,02. _AUC_ROC_ равен 0,864: это тоже больше, чем в предыдущих моделях."
   ]
  },
  {
   "cell_type": "code",
   "execution_count": 46,
   "metadata": {},
   "outputs": [
    {
     "name": "stdout",
     "output_type": "stream",
     "text": [
      "F1 =  0.6145966709346992\n",
      "AUC-ROC = 0.8635451729295857\n"
     ]
    }
   ],
   "source": [
    "f1_w = f1_score(data_orig['y_valid_true'], y_valid_pred_w)\n",
    "roc_auc_w = roc_auc_score(data_orig['y_valid_true'], model_w.predict_proba(data_orig['x_valid'])[:, 1])\n",
    "print('F1 = ', f1_w)\n",
    "print('AUC-ROC =', roc_auc_w)"
   ]
  },
  {
   "cell_type": "markdown",
   "metadata": {},
   "source": [
    "##### Стандартизация и взвешивание\n",
    "\n",
    "Применим к набору данных одновременно стандартизацию и взвешивание.\n",
    "\n",
    "На локальном компьютере была подобрана оптимальная модель с 835 деревьями и максимальной глубиной дерева 9."
   ]
  },
  {
   "cell_type": "code",
   "execution_count": 47,
   "metadata": {},
   "outputs": [],
   "source": [
    "model_final = RandomForestClassifier(max_depth=9, n_estimators=835,\n",
    "    random_state=random_state_default, class_weight='balanced')\n",
    "model_final.fit(data_scaled['x_train'], data_scaled['y_train_true'])\n",
    "y_valid_pred_final = model_final.predict(data_scaled['x_valid'])"
   ]
  },
  {
   "cell_type": "markdown",
   "metadata": {},
   "source": [
    "Эффекты обоих методов объединились: максимальное значение _F1_ = 0,616 оказалось выше, чем на всех предыдущих этапах, а деревьев понадобилось на 45 штук меньше, чем в случае взвешивания без стандартизации."
   ]
  },
  {
   "cell_type": "code",
   "execution_count": 48,
   "metadata": {},
   "outputs": [
    {
     "name": "stdout",
     "output_type": "stream",
     "text": [
      "F1 = 0.6157760814249363\n",
      "AUC-ROC = 0.8635991930511496\n"
     ]
    }
   ],
   "source": [
    "f1_final = f1_score(data_scaled['y_valid_true'], y_valid_pred_final)\n",
    "roc_auc_final = roc_auc_score(data_scaled['y_valid_true'],\n",
    "                              model_final.predict_proba(data_scaled['x_valid'])[:, 1])\n",
    "print('F1 =', f1_final)\n",
    "print('AUC-ROC =', roc_auc_final)"
   ]
  },
  {
   "cell_type": "markdown",
   "metadata": {},
   "source": [
    "### Тестирование модели\n",
    "\n",
    "Финальная модель показывает хорошие результаты на тестовой выборке: _F1_ = 0,638, _AUC-ROC_ = 0,880, причём оба этих значения даже выше, чем на валидационной выборке."
   ]
  },
  {
   "cell_type": "code",
   "execution_count": 49,
   "metadata": {},
   "outputs": [
    {
     "name": "stdout",
     "output_type": "stream",
     "text": [
      "F1 = 0.6382428940568476\n",
      "AUC-ROC = 0.8796015695968786\n"
     ]
    }
   ],
   "source": [
    "y_test_pred = model_final.predict(data_scaled['x_test'])\n",
    "f1_test = f1_score(data_scaled['y_test_true'], y_test_pred)\n",
    "roc_auc_test = roc_auc_score(data_scaled['y_test_true'], model_final.predict_proba(data_scaled['x_test'])[:, 1])\n",
    "print('F1 =', f1_test)\n",
    "print('AUC-ROC =', roc_auc_test)"
   ]
  },
  {
   "cell_type": "markdown",
   "metadata": {},
   "source": [
    "#### Корреляция Мэтьюса\n",
    "\n",
    "В модели бинарной классификации мне было бы милее оптимизировать не _F1_-меру, а коэффициент корреляции Мэтьюса (MCC), который, в отличие от _F1_, учитывает также количество истинно отрицательных ответов (_TN_). По этому критерию оптимальным оказывается случайный лес с 828 деревьями и максимальной глубиной дерева 10. Впрочем, _F1_ и _AUC-ROC_ у этой модели тоже близки к максимальным значениям."
   ]
  },
  {
   "cell_type": "code",
   "execution_count": 50,
   "metadata": {},
   "outputs": [],
   "source": [
    "model_mcc = RandomForestClassifier(max_depth=10, n_estimators=828,\n",
    "    random_state=random_state_default, class_weight='balanced')\n",
    "model_mcc.fit(data_scaled['x_train'], data_scaled['y_train_true'])\n",
    "y_valid_pred_mcc = model_mcc.predict(data_scaled['x_valid'])"
   ]
  },
  {
   "cell_type": "code",
   "execution_count": 51,
   "metadata": {},
   "outputs": [
    {
     "name": "stdout",
     "output_type": "stream",
     "text": [
      "F1 = 0.6145404663923182\n",
      "AUC-ROC = 0.8629099708105066\n",
      "MCC = 0.5180445423999255\n"
     ]
    }
   ],
   "source": [
    "f1_mcc = f1_score(data_scaled['y_valid_true'], y_valid_pred_mcc)\n",
    "roc_auc_mcc = roc_auc_score(data_scaled['y_valid_true'],\n",
    "                              model_mcc.predict_proba(data_scaled['x_valid'])[:, 1])\n",
    "mcc = matthews_corrcoef(data_scaled['y_valid_true'], y_valid_pred_mcc)\n",
    "print('F1 =', f1_mcc)\n",
    "print('AUC-ROC =', roc_auc_mcc)\n",
    "print('MCC =', mcc)"
   ]
  },
  {
   "cell_type": "code",
   "execution_count": 52,
   "metadata": {},
   "outputs": [
    {
     "data": {
      "image/png": "[encoded data removed]",
      "text/plain": [
       "<Figure size 432x288 with 1 Axes>"
      ]
     },
     "metadata": {
      "needs_background": "light"
     },
     "output_type": "display_data"
    }
   ],
   "source": [
    "forest_importances = pd.Series(model_final.feature_importances_, index=data_scaled['x_train'].columns)\n",
    "forest_importances.sort_values(ascending=False).plot.bar()\n",
    "plt.show()"
   ]
  },
  {
   "cell_type": "code",
   "execution_count": 53,
   "metadata": {},
   "outputs": [
    {
     "data": {
      "image/png": "[encoded data removed]",
      "text/plain": [
       "<Figure size 432x288 with 1 Axes>"
      ]
     },
     "metadata": {
      "needs_background": "light"
     },
     "output_type": "display_data"
    }
   ],
   "source": [
    "from sklearn.inspection import permutation_importance\n",
    "results = permutation_importance(\n",
    "    model_final, data_scaled['x_train'], data_scaled['y_train_true'],\n",
    "    n_repeats=10, random_state=random_state_default, n_jobs=2\n",
    ")\n",
    "forest_importances_perm = pd.Series(results.importances_mean, index=data_scaled['x_train'].columns)\n",
    "forest_importances_perm.sort_values(ascending=False).plot.bar()\n",
    "plt.show()"
   ]
  }
 ],
 "metadata": {
  "ExecuteTimeLog": [
   {
    "duration": 431,
    "start_time": "2022-08-24T17:44:58.582Z"
   },
   {
    "duration": 216,
    "start_time": "2022-08-24T17:45:38.052Z"
   },
   {
    "duration": 14,
    "start_time": "2022-08-24T17:45:45.831Z"
   },
   {
    "duration": 10,
    "start_time": "2022-08-24T17:47:33.670Z"
   },
   {
    "duration": 8,
    "start_time": "2022-08-24T17:49:17.682Z"
   },
   {
    "duration": 85,
    "start_time": "2022-08-24T17:52:54.117Z"
   },
   {
    "duration": 71,
    "start_time": "2022-08-24T17:53:19.110Z"
   },
   {
    "duration": 10,
    "start_time": "2022-08-24T17:53:58.683Z"
   },
   {
    "duration": 13,
    "start_time": "2022-08-24T17:54:05.484Z"
   },
   {
    "duration": 10,
    "start_time": "2022-08-24T17:54:24.910Z"
   },
   {
    "duration": 9,
    "start_time": "2022-08-24T17:54:36.973Z"
   },
   {
    "duration": 10,
    "start_time": "2022-08-24T17:55:01.313Z"
   },
   {
    "duration": 80,
    "start_time": "2022-08-24T17:55:11.710Z"
   },
   {
    "duration": 10,
    "start_time": "2022-08-24T17:55:32.310Z"
   },
   {
    "duration": 10,
    "start_time": "2022-08-24T17:58:54.533Z"
   },
   {
    "duration": 20,
    "start_time": "2022-08-24T17:59:26.509Z"
   },
   {
    "duration": 12,
    "start_time": "2022-08-24T18:01:06.477Z"
   },
   {
    "duration": 16,
    "start_time": "2022-08-24T18:01:27.913Z"
   },
   {
    "duration": 15,
    "start_time": "2022-08-24T18:04:30.492Z"
   },
   {
    "duration": 18,
    "start_time": "2022-08-24T18:05:28.102Z"
   },
   {
    "duration": 11,
    "start_time": "2022-08-24T18:06:09.070Z"
   },
   {
    "duration": 11,
    "start_time": "2022-08-24T18:06:18.867Z"
   },
   {
    "duration": 10,
    "start_time": "2022-08-24T18:07:00.152Z"
   },
   {
    "duration": 14,
    "start_time": "2022-08-24T18:07:10.313Z"
   },
   {
    "duration": 4,
    "start_time": "2022-08-24T19:19:13.327Z"
   },
   {
    "duration": 11,
    "start_time": "2022-08-24T19:19:28.576Z"
   },
   {
    "duration": 10,
    "start_time": "2022-08-24T19:19:37.312Z"
   },
   {
    "duration": 8,
    "start_time": "2022-08-24T19:21:51.033Z"
   },
   {
    "duration": 1199,
    "start_time": "2022-08-24T19:30:01.953Z"
   },
   {
    "duration": 221,
    "start_time": "2022-08-24T19:30:15.267Z"
   },
   {
    "duration": 297,
    "start_time": "2022-08-24T19:32:47.182Z"
   },
   {
    "duration": 253,
    "start_time": "2022-08-24T19:33:10.257Z"
   },
   {
    "duration": 8,
    "start_time": "2022-08-24T20:08:00.281Z"
   },
   {
    "duration": 6,
    "start_time": "2022-08-24T20:09:35.131Z"
   },
   {
    "duration": 7,
    "start_time": "2022-08-24T20:09:45.773Z"
   },
   {
    "duration": 8,
    "start_time": "2022-08-24T20:10:04.399Z"
   },
   {
    "duration": 7,
    "start_time": "2022-08-24T20:10:10.345Z"
   },
   {
    "duration": 76,
    "start_time": "2022-08-24T20:11:21.025Z"
   },
   {
    "duration": 6,
    "start_time": "2022-08-24T20:11:24.953Z"
   },
   {
    "duration": 6,
    "start_time": "2022-08-24T20:11:59.031Z"
   },
   {
    "duration": 6,
    "start_time": "2022-08-24T20:12:08.327Z"
   },
   {
    "duration": 184,
    "start_time": "2022-08-24T20:18:52.624Z"
   },
   {
    "duration": 2,
    "start_time": "2022-08-24T20:20:35.250Z"
   },
   {
    "duration": 337,
    "start_time": "2022-08-24T20:21:38.024Z"
   },
   {
    "duration": 248,
    "start_time": "2022-08-24T20:22:10.536Z"
   },
   {
    "duration": 345,
    "start_time": "2022-08-24T20:25:40.235Z"
   },
   {
    "duration": 251,
    "start_time": "2022-08-24T20:28:08.482Z"
   },
   {
    "duration": 264,
    "start_time": "2022-08-24T20:28:21.239Z"
   },
   {
    "duration": 263,
    "start_time": "2022-08-24T20:28:35.858Z"
   },
   {
    "duration": 255,
    "start_time": "2022-08-24T20:28:55.141Z"
   },
   {
    "duration": 521,
    "start_time": "2022-08-24T20:33:08.064Z"
   },
   {
    "duration": 452,
    "start_time": "2022-08-24T20:33:21.590Z"
   },
   {
    "duration": 418,
    "start_time": "2022-08-24T20:35:41.711Z"
   },
   {
    "duration": 414,
    "start_time": "2022-08-24T20:36:24.447Z"
   },
   {
    "duration": 534,
    "start_time": "2022-08-24T20:36:41.046Z"
   },
   {
    "duration": 6,
    "start_time": "2022-08-24T20:41:38.269Z"
   },
   {
    "duration": 11,
    "start_time": "2022-08-24T20:41:43.436Z"
   },
   {
    "duration": 7,
    "start_time": "2022-08-24T20:41:57.911Z"
   },
   {
    "duration": 383,
    "start_time": "2022-08-24T20:42:25.790Z"
   },
   {
    "duration": 447,
    "start_time": "2022-08-24T20:44:23.430Z"
   },
   {
    "duration": 582,
    "start_time": "2022-08-24T20:44:33.303Z"
   },
   {
    "duration": 239,
    "start_time": "2022-08-24T20:44:52.512Z"
   },
   {
    "duration": 228,
    "start_time": "2022-08-24T20:55:13.534Z"
   },
   {
    "duration": 7,
    "start_time": "2022-08-24T21:07:46.894Z"
   },
   {
    "duration": 7,
    "start_time": "2022-08-24T21:09:17.344Z"
   },
   {
    "duration": 9,
    "start_time": "2022-08-24T21:11:09.970Z"
   },
   {
    "duration": 5,
    "start_time": "2022-08-24T21:11:21.260Z"
   },
   {
    "duration": 6,
    "start_time": "2022-08-24T21:12:36.467Z"
   },
   {
    "duration": 16,
    "start_time": "2022-08-24T21:12:49.549Z"
   },
   {
    "duration": 33,
    "start_time": "2022-08-24T21:13:26.353Z"
   },
   {
    "duration": 30,
    "start_time": "2022-08-24T21:13:34.543Z"
   },
   {
    "duration": 8,
    "start_time": "2022-08-25T02:38:33.916Z"
   },
   {
    "duration": 16,
    "start_time": "2022-08-25T02:39:04.773Z"
   },
   {
    "duration": 9,
    "start_time": "2022-08-25T02:42:30.526Z"
   },
   {
    "duration": 5,
    "start_time": "2022-08-25T02:42:47.663Z"
   },
   {
    "duration": 205,
    "start_time": "2022-08-25T02:43:19.461Z"
   },
   {
    "duration": 5,
    "start_time": "2022-08-25T02:45:58.442Z"
   },
   {
    "duration": 6,
    "start_time": "2022-08-25T02:46:24.433Z"
   },
   {
    "duration": 91,
    "start_time": "2022-08-25T02:54:42.677Z"
   },
   {
    "duration": 213,
    "start_time": "2022-08-25T02:55:02.560Z"
   },
   {
    "duration": 209,
    "start_time": "2022-08-25T02:55:09.551Z"
   },
   {
    "duration": 219,
    "start_time": "2022-08-25T02:58:11.034Z"
   },
   {
    "duration": 229,
    "start_time": "2022-08-25T03:00:26.693Z"
   },
   {
    "duration": 339,
    "start_time": "2022-08-25T03:01:26.822Z"
   },
   {
    "duration": 219,
    "start_time": "2022-08-25T03:01:50.128Z"
   },
   {
    "duration": 204,
    "start_time": "2022-08-25T03:05:40.251Z"
   },
   {
    "duration": 220,
    "start_time": "2022-08-25T03:05:53.420Z"
   },
   {
    "duration": 4,
    "start_time": "2022-08-25T03:11:03.100Z"
   },
   {
    "duration": 51,
    "start_time": "2022-08-25T03:11:03.106Z"
   },
   {
    "duration": 15,
    "start_time": "2022-08-25T03:11:03.159Z"
   },
   {
    "duration": 13,
    "start_time": "2022-08-25T03:11:03.177Z"
   },
   {
    "duration": 10,
    "start_time": "2022-08-25T03:11:03.191Z"
   },
   {
    "duration": 17,
    "start_time": "2022-08-25T03:11:03.203Z"
   },
   {
    "duration": 7,
    "start_time": "2022-08-25T03:11:03.222Z"
   },
   {
    "duration": 266,
    "start_time": "2022-08-25T03:11:03.231Z"
   },
   {
    "duration": 28,
    "start_time": "2022-08-25T03:11:03.500Z"
   },
   {
    "duration": 265,
    "start_time": "2022-08-25T03:11:03.530Z"
   },
   {
    "duration": 6,
    "start_time": "2022-08-25T03:11:03.797Z"
   },
   {
    "duration": 7,
    "start_time": "2022-08-25T03:13:22.381Z"
   },
   {
    "duration": 5,
    "start_time": "2022-08-25T10:16:45.781Z"
   },
   {
    "duration": 595,
    "start_time": "2022-08-25T10:17:19.164Z"
   },
   {
    "duration": 22,
    "start_time": "2022-08-25T10:18:40.044Z"
   },
   {
    "duration": 20,
    "start_time": "2022-08-25T10:19:26.238Z"
   },
   {
    "duration": 285,
    "start_time": "2022-08-25T10:20:14.249Z"
   },
   {
    "duration": 281,
    "start_time": "2022-08-25T10:20:17.185Z"
   },
   {
    "duration": 237,
    "start_time": "2022-08-25T10:20:51.453Z"
   },
   {
    "duration": 285,
    "start_time": "2022-08-25T10:21:26.995Z"
   },
   {
    "duration": 230,
    "start_time": "2022-08-25T10:22:35.659Z"
   },
   {
    "duration": 6,
    "start_time": "2022-08-25T10:24:39.239Z"
   },
   {
    "duration": 397,
    "start_time": "2022-08-25T10:25:11.813Z"
   },
   {
    "duration": 212,
    "start_time": "2022-08-25T10:25:45.961Z"
   },
   {
    "duration": 6,
    "start_time": "2022-08-25T10:27:20.901Z"
   },
   {
    "duration": 7,
    "start_time": "2022-08-25T10:28:05.023Z"
   },
   {
    "duration": 7,
    "start_time": "2022-08-25T10:28:32.302Z"
   },
   {
    "duration": 9,
    "start_time": "2022-08-25T10:28:39.831Z"
   },
   {
    "duration": 9,
    "start_time": "2022-08-25T10:28:44.666Z"
   },
   {
    "duration": 6,
    "start_time": "2022-08-25T10:29:15.678Z"
   },
   {
    "duration": 7,
    "start_time": "2022-08-25T10:29:48.759Z"
   },
   {
    "duration": 6,
    "start_time": "2022-08-25T10:30:28.624Z"
   },
   {
    "duration": 3,
    "start_time": "2022-08-25T10:33:06.771Z"
   },
   {
    "duration": 4,
    "start_time": "2022-08-25T10:33:09.028Z"
   },
   {
    "duration": 3,
    "start_time": "2022-08-25T10:38:49.232Z"
   },
   {
    "duration": 45,
    "start_time": "2022-08-25T10:38:49.238Z"
   },
   {
    "duration": 25,
    "start_time": "2022-08-25T10:38:49.284Z"
   },
   {
    "duration": 4,
    "start_time": "2022-08-25T10:38:49.311Z"
   },
   {
    "duration": 14,
    "start_time": "2022-08-25T10:38:49.316Z"
   },
   {
    "duration": 3,
    "start_time": "2022-08-25T10:38:49.331Z"
   },
   {
    "duration": 5,
    "start_time": "2022-08-25T10:38:49.336Z"
   },
   {
    "duration": 8,
    "start_time": "2022-08-25T10:38:49.343Z"
   },
   {
    "duration": 62,
    "start_time": "2022-08-25T10:38:49.353Z"
   },
   {
    "duration": 6,
    "start_time": "2022-08-25T10:38:49.419Z"
   },
   {
    "duration": 13,
    "start_time": "2022-08-25T10:38:49.427Z"
   },
   {
    "duration": 0,
    "start_time": "2022-08-25T10:38:49.442Z"
   },
   {
    "duration": 0,
    "start_time": "2022-08-25T10:38:49.443Z"
   },
   {
    "duration": 0,
    "start_time": "2022-08-25T10:38:49.445Z"
   },
   {
    "duration": 0,
    "start_time": "2022-08-25T10:38:49.446Z"
   },
   {
    "duration": 0,
    "start_time": "2022-08-25T10:38:49.447Z"
   },
   {
    "duration": 0,
    "start_time": "2022-08-25T10:38:49.448Z"
   },
   {
    "duration": 0,
    "start_time": "2022-08-25T10:38:49.449Z"
   },
   {
    "duration": 1,
    "start_time": "2022-08-25T10:38:49.449Z"
   },
   {
    "duration": 0,
    "start_time": "2022-08-25T10:38:49.450Z"
   },
   {
    "duration": 0,
    "start_time": "2022-08-25T10:38:49.452Z"
   },
   {
    "duration": 0,
    "start_time": "2022-08-25T10:38:49.494Z"
   },
   {
    "duration": 0,
    "start_time": "2022-08-25T10:38:49.496Z"
   },
   {
    "duration": 0,
    "start_time": "2022-08-25T10:38:49.497Z"
   },
   {
    "duration": 3,
    "start_time": "2022-08-25T10:39:23.924Z"
   },
   {
    "duration": 42,
    "start_time": "2022-08-25T10:39:23.929Z"
   },
   {
    "duration": 13,
    "start_time": "2022-08-25T10:39:23.972Z"
   },
   {
    "duration": 4,
    "start_time": "2022-08-25T10:39:23.987Z"
   },
   {
    "duration": 28,
    "start_time": "2022-08-25T10:39:23.994Z"
   },
   {
    "duration": 5,
    "start_time": "2022-08-25T10:39:24.024Z"
   },
   {
    "duration": 13,
    "start_time": "2022-08-25T10:39:24.030Z"
   },
   {
    "duration": 9,
    "start_time": "2022-08-25T10:39:24.044Z"
   },
   {
    "duration": 17,
    "start_time": "2022-08-25T10:39:24.055Z"
   },
   {
    "duration": 11,
    "start_time": "2022-08-25T10:39:24.094Z"
   },
   {
    "duration": 279,
    "start_time": "2022-08-25T10:39:24.107Z"
   },
   {
    "duration": 276,
    "start_time": "2022-08-25T10:39:24.392Z"
   },
   {
    "duration": 8,
    "start_time": "2022-08-25T10:39:24.670Z"
   },
   {
    "duration": 397,
    "start_time": "2022-08-25T10:39:24.696Z"
   },
   {
    "duration": 331,
    "start_time": "2022-08-25T10:39:25.095Z"
   },
   {
    "duration": 245,
    "start_time": "2022-08-25T10:39:25.428Z"
   },
   {
    "duration": 6,
    "start_time": "2022-08-25T10:39:25.675Z"
   },
   {
    "duration": 13,
    "start_time": "2022-08-25T10:39:25.683Z"
   },
   {
    "duration": 246,
    "start_time": "2022-08-25T10:39:25.698Z"
   },
   {
    "duration": 7,
    "start_time": "2022-08-25T10:39:25.946Z"
   },
   {
    "duration": 14,
    "start_time": "2022-08-25T10:39:25.955Z"
   },
   {
    "duration": 28,
    "start_time": "2022-08-25T10:39:25.970Z"
   },
   {
    "duration": 12,
    "start_time": "2022-08-25T10:39:26.001Z"
   },
   {
    "duration": 24,
    "start_time": "2022-08-25T10:39:26.015Z"
   },
   {
    "duration": 1395,
    "start_time": "2022-08-25T20:15:00.981Z"
   },
   {
    "duration": 267,
    "start_time": "2022-08-25T20:15:02.378Z"
   },
   {
    "duration": 17,
    "start_time": "2022-08-25T20:15:02.647Z"
   },
   {
    "duration": 16,
    "start_time": "2022-08-25T20:15:02.666Z"
   },
   {
    "duration": 5,
    "start_time": "2022-08-25T20:15:02.684Z"
   },
   {
    "duration": 36,
    "start_time": "2022-08-25T20:15:02.691Z"
   },
   {
    "duration": 7,
    "start_time": "2022-08-25T20:15:02.729Z"
   },
   {
    "duration": 112,
    "start_time": "2022-08-25T20:15:02.737Z"
   },
   {
    "duration": 0,
    "start_time": "2022-08-25T20:15:02.851Z"
   },
   {
    "duration": 0,
    "start_time": "2022-08-25T20:15:02.852Z"
   },
   {
    "duration": 0,
    "start_time": "2022-08-25T20:15:02.854Z"
   },
   {
    "duration": 0,
    "start_time": "2022-08-25T20:15:02.855Z"
   },
   {
    "duration": 0,
    "start_time": "2022-08-25T20:15:02.856Z"
   },
   {
    "duration": 0,
    "start_time": "2022-08-25T20:15:02.858Z"
   },
   {
    "duration": 0,
    "start_time": "2022-08-25T20:15:02.868Z"
   },
   {
    "duration": 0,
    "start_time": "2022-08-25T20:15:02.869Z"
   },
   {
    "duration": 0,
    "start_time": "2022-08-25T20:15:02.870Z"
   },
   {
    "duration": 0,
    "start_time": "2022-08-25T20:15:02.871Z"
   },
   {
    "duration": 0,
    "start_time": "2022-08-25T20:15:02.873Z"
   },
   {
    "duration": 0,
    "start_time": "2022-08-25T20:15:02.874Z"
   },
   {
    "duration": 0,
    "start_time": "2022-08-25T20:15:02.875Z"
   },
   {
    "duration": 0,
    "start_time": "2022-08-25T20:15:02.877Z"
   },
   {
    "duration": 3,
    "start_time": "2022-08-25T20:15:41.302Z"
   },
   {
    "duration": 46,
    "start_time": "2022-08-25T20:15:41.307Z"
   },
   {
    "duration": 14,
    "start_time": "2022-08-25T20:15:41.354Z"
   },
   {
    "duration": 6,
    "start_time": "2022-08-25T20:15:41.370Z"
   },
   {
    "duration": 12,
    "start_time": "2022-08-25T20:15:41.379Z"
   },
   {
    "duration": 5,
    "start_time": "2022-08-25T20:15:41.393Z"
   },
   {
    "duration": 17,
    "start_time": "2022-08-25T20:15:41.399Z"
   },
   {
    "duration": 6,
    "start_time": "2022-08-25T20:15:41.418Z"
   },
   {
    "duration": 296,
    "start_time": "2022-08-25T20:15:41.426Z"
   },
   {
    "duration": 238,
    "start_time": "2022-08-25T20:15:41.723Z"
   },
   {
    "duration": 11,
    "start_time": "2022-08-25T20:15:41.963Z"
   },
   {
    "duration": 0,
    "start_time": "2022-08-25T20:15:41.975Z"
   },
   {
    "duration": 0,
    "start_time": "2022-08-25T20:15:41.977Z"
   },
   {
    "duration": 0,
    "start_time": "2022-08-25T20:15:41.978Z"
   },
   {
    "duration": 0,
    "start_time": "2022-08-25T20:15:41.979Z"
   },
   {
    "duration": 0,
    "start_time": "2022-08-25T20:15:41.980Z"
   },
   {
    "duration": 0,
    "start_time": "2022-08-25T20:15:41.982Z"
   },
   {
    "duration": 0,
    "start_time": "2022-08-25T20:15:41.984Z"
   },
   {
    "duration": 0,
    "start_time": "2022-08-25T20:15:41.985Z"
   },
   {
    "duration": 0,
    "start_time": "2022-08-25T20:15:41.986Z"
   },
   {
    "duration": 0,
    "start_time": "2022-08-25T20:15:41.988Z"
   },
   {
    "duration": 0,
    "start_time": "2022-08-25T20:15:41.989Z"
   },
   {
    "duration": 6,
    "start_time": "2022-08-25T20:16:05.622Z"
   },
   {
    "duration": 2,
    "start_time": "2022-08-25T20:16:09.822Z"
   },
   {
    "duration": 57,
    "start_time": "2022-08-25T20:16:09.827Z"
   },
   {
    "duration": 16,
    "start_time": "2022-08-25T20:16:09.886Z"
   },
   {
    "duration": 5,
    "start_time": "2022-08-25T20:16:09.904Z"
   },
   {
    "duration": 18,
    "start_time": "2022-08-25T20:16:09.912Z"
   },
   {
    "duration": 5,
    "start_time": "2022-08-25T20:16:09.932Z"
   },
   {
    "duration": 39,
    "start_time": "2022-08-25T20:16:09.939Z"
   },
   {
    "duration": 7,
    "start_time": "2022-08-25T20:16:09.979Z"
   },
   {
    "duration": 271,
    "start_time": "2022-08-25T20:16:09.988Z"
   },
   {
    "duration": 257,
    "start_time": "2022-08-25T20:16:10.261Z"
   },
   {
    "duration": 7,
    "start_time": "2022-08-25T20:16:10.520Z"
   },
   {
    "duration": 316,
    "start_time": "2022-08-25T20:16:10.529Z"
   },
   {
    "duration": 312,
    "start_time": "2022-08-25T20:16:10.847Z"
   },
   {
    "duration": 226,
    "start_time": "2022-08-25T20:16:11.167Z"
   },
   {
    "duration": 6,
    "start_time": "2022-08-25T20:16:11.395Z"
   },
   {
    "duration": 11,
    "start_time": "2022-08-25T20:16:11.403Z"
   },
   {
    "duration": 234,
    "start_time": "2022-08-25T20:16:11.415Z"
   },
   {
    "duration": 16,
    "start_time": "2022-08-25T20:16:11.651Z"
   },
   {
    "duration": 7,
    "start_time": "2022-08-25T20:16:11.669Z"
   },
   {
    "duration": 8,
    "start_time": "2022-08-25T20:16:11.677Z"
   },
   {
    "duration": 6,
    "start_time": "2022-08-25T20:16:11.687Z"
   },
   {
    "duration": 30,
    "start_time": "2022-08-25T20:16:11.695Z"
   },
   {
    "duration": 27,
    "start_time": "2022-08-26T00:53:10.477Z"
   },
   {
    "duration": 23,
    "start_time": "2022-08-26T00:53:37.859Z"
   },
   {
    "duration": 14,
    "start_time": "2022-08-26T00:55:31.226Z"
   },
   {
    "duration": 2,
    "start_time": "2022-08-26T00:55:40.000Z"
   },
   {
    "duration": 47,
    "start_time": "2022-08-26T00:55:40.004Z"
   },
   {
    "duration": 12,
    "start_time": "2022-08-26T00:55:40.053Z"
   },
   {
    "duration": 5,
    "start_time": "2022-08-26T00:55:40.067Z"
   },
   {
    "duration": 13,
    "start_time": "2022-08-26T00:55:40.074Z"
   },
   {
    "duration": 5,
    "start_time": "2022-08-26T00:55:40.089Z"
   },
   {
    "duration": 16,
    "start_time": "2022-08-26T00:55:40.095Z"
   },
   {
    "duration": 7,
    "start_time": "2022-08-26T00:55:40.112Z"
   },
   {
    "duration": 253,
    "start_time": "2022-08-26T00:55:40.121Z"
   },
   {
    "duration": 249,
    "start_time": "2022-08-26T00:55:40.376Z"
   },
   {
    "duration": 6,
    "start_time": "2022-08-26T00:55:40.626Z"
   },
   {
    "duration": 315,
    "start_time": "2022-08-26T00:55:40.633Z"
   },
   {
    "duration": 284,
    "start_time": "2022-08-26T00:55:40.950Z"
   },
   {
    "duration": 223,
    "start_time": "2022-08-26T00:55:41.237Z"
   },
   {
    "duration": 9,
    "start_time": "2022-08-26T00:55:41.462Z"
   },
   {
    "duration": 9,
    "start_time": "2022-08-26T00:55:41.473Z"
   },
   {
    "duration": 220,
    "start_time": "2022-08-26T00:55:41.484Z"
   },
   {
    "duration": 6,
    "start_time": "2022-08-26T00:55:41.706Z"
   },
   {
    "duration": 8,
    "start_time": "2022-08-26T00:55:41.714Z"
   },
   {
    "duration": 6,
    "start_time": "2022-08-26T00:55:41.723Z"
   },
   {
    "duration": 7,
    "start_time": "2022-08-26T00:55:41.731Z"
   },
   {
    "duration": 51,
    "start_time": "2022-08-26T00:55:41.740Z"
   },
   {
    "duration": 6,
    "start_time": "2022-08-26T00:55:41.793Z"
   },
   {
    "duration": 11,
    "start_time": "2022-08-26T00:56:45.286Z"
   },
   {
    "duration": 32,
    "start_time": "2022-08-26T00:59:32.238Z"
   },
   {
    "duration": 27,
    "start_time": "2022-08-26T01:00:03.917Z"
   },
   {
    "duration": 2,
    "start_time": "2022-08-26T01:00:17.022Z"
   },
   {
    "duration": 48,
    "start_time": "2022-08-26T01:00:17.026Z"
   },
   {
    "duration": 12,
    "start_time": "2022-08-26T01:00:17.075Z"
   },
   {
    "duration": 4,
    "start_time": "2022-08-26T01:00:17.088Z"
   },
   {
    "duration": 14,
    "start_time": "2022-08-26T01:00:17.094Z"
   },
   {
    "duration": 5,
    "start_time": "2022-08-26T01:00:17.109Z"
   },
   {
    "duration": 14,
    "start_time": "2022-08-26T01:00:17.115Z"
   },
   {
    "duration": 6,
    "start_time": "2022-08-26T01:00:17.130Z"
   },
   {
    "duration": 244,
    "start_time": "2022-08-26T01:00:17.137Z"
   },
   {
    "duration": 216,
    "start_time": "2022-08-26T01:00:17.382Z"
   },
   {
    "duration": 5,
    "start_time": "2022-08-26T01:00:17.600Z"
   },
   {
    "duration": 222,
    "start_time": "2022-08-26T01:00:17.607Z"
   },
   {
    "duration": 269,
    "start_time": "2022-08-26T01:00:17.830Z"
   },
   {
    "duration": 217,
    "start_time": "2022-08-26T01:00:18.102Z"
   },
   {
    "duration": 6,
    "start_time": "2022-08-26T01:00:18.321Z"
   },
   {
    "duration": 9,
    "start_time": "2022-08-26T01:00:18.329Z"
   },
   {
    "duration": 306,
    "start_time": "2022-08-26T01:00:18.340Z"
   },
   {
    "duration": 6,
    "start_time": "2022-08-26T01:00:18.648Z"
   },
   {
    "duration": 22,
    "start_time": "2022-08-26T01:00:18.655Z"
   },
   {
    "duration": 9,
    "start_time": "2022-08-26T01:00:18.679Z"
   },
   {
    "duration": 9,
    "start_time": "2022-08-26T01:00:18.690Z"
   },
   {
    "duration": 33,
    "start_time": "2022-08-26T01:00:18.701Z"
   },
   {
    "duration": 5,
    "start_time": "2022-08-26T01:00:18.737Z"
   },
   {
    "duration": 38,
    "start_time": "2022-08-26T01:00:18.743Z"
   },
   {
    "duration": 4,
    "start_time": "2022-08-26T10:34:48.414Z"
   },
   {
    "duration": 11,
    "start_time": "2022-08-26T10:35:21.559Z"
   },
   {
    "duration": 6,
    "start_time": "2022-08-26T10:35:31.523Z"
   },
   {
    "duration": 15,
    "start_time": "2022-08-26T10:36:13.212Z"
   },
   {
    "duration": 14,
    "start_time": "2022-08-26T10:40:28.636Z"
   },
   {
    "duration": 410,
    "start_time": "2022-08-26T10:41:16.957Z"
   },
   {
    "duration": 40,
    "start_time": "2022-08-26T10:41:17.369Z"
   },
   {
    "duration": 14,
    "start_time": "2022-08-26T10:41:17.411Z"
   },
   {
    "duration": 4,
    "start_time": "2022-08-26T10:41:17.427Z"
   },
   {
    "duration": 13,
    "start_time": "2022-08-26T10:41:17.434Z"
   },
   {
    "duration": 5,
    "start_time": "2022-08-26T10:41:17.449Z"
   },
   {
    "duration": 18,
    "start_time": "2022-08-26T10:41:17.467Z"
   },
   {
    "duration": 8,
    "start_time": "2022-08-26T10:41:17.486Z"
   },
   {
    "duration": 264,
    "start_time": "2022-08-26T10:41:17.495Z"
   },
   {
    "duration": 253,
    "start_time": "2022-08-26T10:41:17.761Z"
   },
   {
    "duration": 6,
    "start_time": "2022-08-26T10:41:18.016Z"
   },
   {
    "duration": 365,
    "start_time": "2022-08-26T10:41:18.024Z"
   },
   {
    "duration": 303,
    "start_time": "2022-08-26T10:41:18.391Z"
   },
   {
    "duration": 254,
    "start_time": "2022-08-26T10:41:18.698Z"
   },
   {
    "duration": 14,
    "start_time": "2022-08-26T10:41:18.954Z"
   },
   {
    "duration": 7,
    "start_time": "2022-08-26T10:41:18.970Z"
   },
   {
    "duration": 235,
    "start_time": "2022-08-26T10:41:18.979Z"
   },
   {
    "duration": 7,
    "start_time": "2022-08-26T10:41:19.215Z"
   },
   {
    "duration": 13,
    "start_time": "2022-08-26T10:41:19.223Z"
   },
   {
    "duration": 15,
    "start_time": "2022-08-26T10:41:19.238Z"
   },
   {
    "duration": 19,
    "start_time": "2022-08-26T10:41:19.254Z"
   },
   {
    "duration": 33,
    "start_time": "2022-08-26T10:41:19.275Z"
   },
   {
    "duration": 12,
    "start_time": "2022-08-26T10:41:19.310Z"
   },
   {
    "duration": 26,
    "start_time": "2022-08-26T10:41:19.324Z"
   },
   {
    "duration": 39,
    "start_time": "2022-08-26T10:41:19.352Z"
   },
   {
    "duration": 36,
    "start_time": "2022-08-26T10:49:57.553Z"
   },
   {
    "duration": 22,
    "start_time": "2022-08-26T10:51:14.973Z"
   },
   {
    "duration": 15,
    "start_time": "2022-08-26T10:51:23.488Z"
   },
   {
    "duration": 26,
    "start_time": "2022-08-26T10:58:44.442Z"
   },
   {
    "duration": 3,
    "start_time": "2022-08-26T10:59:13.776Z"
   },
   {
    "duration": 47,
    "start_time": "2022-08-26T10:59:13.781Z"
   },
   {
    "duration": 14,
    "start_time": "2022-08-26T10:59:13.830Z"
   },
   {
    "duration": 8,
    "start_time": "2022-08-26T10:59:13.846Z"
   },
   {
    "duration": 14,
    "start_time": "2022-08-26T10:59:13.856Z"
   },
   {
    "duration": 5,
    "start_time": "2022-08-26T10:59:13.872Z"
   },
   {
    "duration": 21,
    "start_time": "2022-08-26T10:59:13.879Z"
   },
   {
    "duration": 6,
    "start_time": "2022-08-26T10:59:13.902Z"
   },
   {
    "duration": 276,
    "start_time": "2022-08-26T10:59:13.910Z"
   },
   {
    "duration": 282,
    "start_time": "2022-08-26T10:59:14.188Z"
   },
   {
    "duration": 8,
    "start_time": "2022-08-26T10:59:14.472Z"
   },
   {
    "duration": 272,
    "start_time": "2022-08-26T10:59:14.482Z"
   },
   {
    "duration": 429,
    "start_time": "2022-08-26T10:59:14.756Z"
   },
   {
    "duration": 246,
    "start_time": "2022-08-26T10:59:15.188Z"
   },
   {
    "duration": 7,
    "start_time": "2022-08-26T10:59:15.436Z"
   },
   {
    "duration": 8,
    "start_time": "2022-08-26T10:59:15.445Z"
   },
   {
    "duration": 238,
    "start_time": "2022-08-26T10:59:15.455Z"
   },
   {
    "duration": 8,
    "start_time": "2022-08-26T10:59:15.694Z"
   },
   {
    "duration": 9,
    "start_time": "2022-08-26T10:59:15.703Z"
   },
   {
    "duration": 9,
    "start_time": "2022-08-26T10:59:15.713Z"
   },
   {
    "duration": 8,
    "start_time": "2022-08-26T10:59:15.723Z"
   },
   {
    "duration": 54,
    "start_time": "2022-08-26T10:59:15.733Z"
   },
   {
    "duration": 5,
    "start_time": "2022-08-26T10:59:15.789Z"
   },
   {
    "duration": 16,
    "start_time": "2022-08-26T10:59:15.796Z"
   },
   {
    "duration": 19,
    "start_time": "2022-08-26T10:59:15.814Z"
   },
   {
    "duration": 377,
    "start_time": "2022-08-26T10:59:15.835Z"
   },
   {
    "duration": 345,
    "start_time": "2022-08-26T10:59:37.728Z"
   },
   {
    "duration": 4,
    "start_time": "2022-08-26T10:59:54.110Z"
   },
   {
    "duration": 8,
    "start_time": "2022-08-26T11:00:09.009Z"
   },
   {
    "duration": 11,
    "start_time": "2022-08-26T11:01:53.679Z"
   },
   {
    "duration": 3,
    "start_time": "2022-08-26T11:02:12.232Z"
   },
   {
    "duration": 181,
    "start_time": "2022-08-26T11:02:17.059Z"
   },
   {
    "duration": 7,
    "start_time": "2022-08-26T11:02:27.968Z"
   },
   {
    "duration": 10,
    "start_time": "2022-08-26T11:02:42.472Z"
   },
   {
    "duration": 4,
    "start_time": "2022-08-26T11:25:05.448Z"
   },
   {
    "duration": 5,
    "start_time": "2022-08-26T11:27:10.254Z"
   },
   {
    "duration": 4,
    "start_time": "2022-08-26T11:31:14.983Z"
   },
   {
    "duration": 5,
    "start_time": "2022-08-26T11:31:24.861Z"
   },
   {
    "duration": 7,
    "start_time": "2022-08-26T11:32:23.851Z"
   },
   {
    "duration": 3,
    "start_time": "2022-08-26T11:33:24.954Z"
   },
   {
    "duration": 7,
    "start_time": "2022-08-26T11:33:31.160Z"
   },
   {
    "duration": 98,
    "start_time": "2022-08-26T11:37:46.530Z"
   },
   {
    "duration": 4,
    "start_time": "2022-08-26T11:38:00.949Z"
   },
   {
    "duration": 17,
    "start_time": "2022-08-26T11:38:29.746Z"
   },
   {
    "duration": 10,
    "start_time": "2022-08-26T11:39:17.309Z"
   },
   {
    "duration": 76,
    "start_time": "2022-08-26T11:39:24.081Z"
   },
   {
    "duration": 6,
    "start_time": "2022-08-26T11:39:57.683Z"
   },
   {
    "duration": 20,
    "start_time": "2022-08-26T11:40:00.529Z"
   },
   {
    "duration": 6,
    "start_time": "2022-08-26T11:40:19.039Z"
   },
   {
    "duration": 5,
    "start_time": "2022-08-26T11:40:37.238Z"
   },
   {
    "duration": 106,
    "start_time": "2022-08-26T11:41:03.533Z"
   },
   {
    "duration": 5,
    "start_time": "2022-08-26T11:41:13.930Z"
   },
   {
    "duration": 104,
    "start_time": "2022-08-26T11:41:15.644Z"
   },
   {
    "duration": 21,
    "start_time": "2022-08-26T11:41:29.768Z"
   },
   {
    "duration": 97,
    "start_time": "2022-08-26T11:41:36.390Z"
   },
   {
    "duration": 9,
    "start_time": "2022-08-26T11:41:45.886Z"
   },
   {
    "duration": 14,
    "start_time": "2022-08-26T11:41:50.030Z"
   },
   {
    "duration": 23,
    "start_time": "2022-08-26T11:42:00.331Z"
   },
   {
    "duration": 3,
    "start_time": "2022-08-26T11:49:48.510Z"
   },
   {
    "duration": 16,
    "start_time": "2022-08-26T11:49:49.415Z"
   },
   {
    "duration": 22,
    "start_time": "2022-08-26T11:49:51.764Z"
   },
   {
    "duration": 1190,
    "start_time": "2022-08-26T11:51:53.269Z"
   },
   {
    "duration": 5,
    "start_time": "2022-08-26T11:52:16.250Z"
   },
   {
    "duration": 14,
    "start_time": "2022-08-26T11:52:47.832Z"
   },
   {
    "duration": 14,
    "start_time": "2022-08-26T11:53:17.076Z"
   },
   {
    "duration": 21,
    "start_time": "2022-08-26T11:53:42.849Z"
   },
   {
    "duration": 1299,
    "start_time": "2022-08-26T11:54:11.094Z"
   },
   {
    "duration": 16,
    "start_time": "2022-08-26T11:54:18.483Z"
   },
   {
    "duration": 17,
    "start_time": "2022-08-26T11:54:36.032Z"
   },
   {
    "duration": 23,
    "start_time": "2022-08-26T11:54:49.983Z"
   },
   {
    "duration": 33,
    "start_time": "2022-08-26T11:55:20.165Z"
   },
   {
    "duration": 19,
    "start_time": "2022-08-26T11:55:34.264Z"
   },
   {
    "duration": 12,
    "start_time": "2022-08-26T11:58:41.765Z"
   },
   {
    "duration": 20,
    "start_time": "2022-08-26T11:59:04.640Z"
   },
   {
    "duration": 23,
    "start_time": "2022-08-26T11:59:36.901Z"
   },
   {
    "duration": 22,
    "start_time": "2022-08-26T11:59:57.241Z"
   },
   {
    "duration": 79,
    "start_time": "2022-08-26T12:00:19.464Z"
   },
   {
    "duration": 12,
    "start_time": "2022-08-26T12:00:23.538Z"
   },
   {
    "duration": 162,
    "start_time": "2022-08-26T12:00:34.608Z"
   },
   {
    "duration": 20,
    "start_time": "2022-08-26T12:01:02.654Z"
   },
   {
    "duration": 180,
    "start_time": "2022-08-26T12:01:06.507Z"
   },
   {
    "duration": 19,
    "start_time": "2022-08-26T12:01:20.744Z"
   },
   {
    "duration": 175,
    "start_time": "2022-08-26T12:01:36.739Z"
   },
   {
    "duration": 31,
    "start_time": "2022-08-26T12:02:51.571Z"
   },
   {
    "duration": 32,
    "start_time": "2022-08-26T12:03:06.795Z"
   },
   {
    "duration": 45,
    "start_time": "2022-08-26T12:03:47.653Z"
   },
   {
    "duration": 33,
    "start_time": "2022-08-26T12:04:13.540Z"
   },
   {
    "duration": 30,
    "start_time": "2022-08-26T12:06:41.625Z"
   },
   {
    "duration": 33,
    "start_time": "2022-08-26T12:06:59.781Z"
   },
   {
    "duration": 21,
    "start_time": "2022-08-26T12:07:12.368Z"
   },
   {
    "duration": 12,
    "start_time": "2022-08-26T12:07:46.327Z"
   },
   {
    "duration": 167,
    "start_time": "2022-08-26T12:07:49.525Z"
   },
   {
    "duration": 16,
    "start_time": "2022-08-26T12:09:08.122Z"
   },
   {
    "duration": 13,
    "start_time": "2022-08-26T12:13:39.084Z"
   },
   {
    "duration": 15,
    "start_time": "2022-08-26T12:13:42.181Z"
   },
   {
    "duration": 10,
    "start_time": "2022-08-26T12:14:12.099Z"
   },
   {
    "duration": 13,
    "start_time": "2022-08-26T12:14:22.883Z"
   },
   {
    "duration": 169,
    "start_time": "2022-08-26T12:14:34.697Z"
   },
   {
    "duration": 162,
    "start_time": "2022-08-26T12:14:54.756Z"
   },
   {
    "duration": 9,
    "start_time": "2022-08-26T12:14:58.885Z"
   },
   {
    "duration": 6,
    "start_time": "2022-08-26T12:15:20.895Z"
   },
   {
    "duration": 24,
    "start_time": "2022-08-26T12:48:39.699Z"
   },
   {
    "duration": 3,
    "start_time": "2022-08-26T12:49:06.079Z"
   },
   {
    "duration": 28,
    "start_time": "2022-08-26T12:49:11.004Z"
   },
   {
    "duration": 21,
    "start_time": "2022-08-26T12:49:42.329Z"
   },
   {
    "duration": 78,
    "start_time": "2022-08-26T12:50:35.892Z"
   },
   {
    "duration": 19,
    "start_time": "2022-08-26T12:50:43.748Z"
   },
   {
    "duration": 15,
    "start_time": "2022-08-26T13:25:39.206Z"
   },
   {
    "duration": 176,
    "start_time": "2022-08-26T13:25:40.839Z"
   },
   {
    "duration": 6,
    "start_time": "2022-08-26T13:25:42.013Z"
   },
   {
    "duration": 25,
    "start_time": "2022-08-26T13:25:42.958Z"
   },
   {
    "duration": 4,
    "start_time": "2022-08-26T14:08:41.260Z"
   },
   {
    "duration": 16,
    "start_time": "2022-08-26T14:10:46.738Z"
   },
   {
    "duration": 15,
    "start_time": "2022-08-26T14:10:56.979Z"
   },
   {
    "duration": 28,
    "start_time": "2022-08-26T14:23:24.492Z"
   },
   {
    "duration": 31,
    "start_time": "2022-08-26T14:23:30.691Z"
   },
   {
    "duration": 4,
    "start_time": "2022-08-26T14:24:36.511Z"
   },
   {
    "duration": 54,
    "start_time": "2022-08-26T14:24:36.518Z"
   },
   {
    "duration": 20,
    "start_time": "2022-08-26T14:24:36.575Z"
   },
   {
    "duration": 8,
    "start_time": "2022-08-26T14:24:36.597Z"
   },
   {
    "duration": 13,
    "start_time": "2022-08-26T14:24:36.610Z"
   },
   {
    "duration": 15,
    "start_time": "2022-08-26T14:24:36.625Z"
   },
   {
    "duration": 33,
    "start_time": "2022-08-26T14:24:36.642Z"
   },
   {
    "duration": 21,
    "start_time": "2022-08-26T14:24:36.677Z"
   },
   {
    "duration": 361,
    "start_time": "2022-08-26T14:24:36.700Z"
   },
   {
    "duration": 250,
    "start_time": "2022-08-26T14:24:37.067Z"
   },
   {
    "duration": 7,
    "start_time": "2022-08-26T14:24:37.318Z"
   },
   {
    "duration": 242,
    "start_time": "2022-08-26T14:24:37.327Z"
   },
   {
    "duration": 389,
    "start_time": "2022-08-26T14:24:37.571Z"
   },
   {
    "duration": 234,
    "start_time": "2022-08-26T14:24:37.967Z"
   },
   {
    "duration": 7,
    "start_time": "2022-08-26T14:24:38.203Z"
   },
   {
    "duration": 16,
    "start_time": "2022-08-26T14:24:38.211Z"
   },
   {
    "duration": 224,
    "start_time": "2022-08-26T14:24:38.230Z"
   },
   {
    "duration": 12,
    "start_time": "2022-08-26T14:24:38.455Z"
   },
   {
    "duration": 24,
    "start_time": "2022-08-26T14:24:38.469Z"
   },
   {
    "duration": 6,
    "start_time": "2022-08-26T14:24:38.495Z"
   },
   {
    "duration": 11,
    "start_time": "2022-08-26T14:24:38.503Z"
   },
   {
    "duration": 35,
    "start_time": "2022-08-26T14:24:38.516Z"
   },
   {
    "duration": 5,
    "start_time": "2022-08-26T14:24:38.554Z"
   },
   {
    "duration": 17,
    "start_time": "2022-08-26T14:24:38.560Z"
   },
   {
    "duration": 17,
    "start_time": "2022-08-26T14:24:38.581Z"
   },
   {
    "duration": 169,
    "start_time": "2022-08-26T14:24:38.599Z"
   },
   {
    "duration": 6,
    "start_time": "2022-08-26T14:24:38.770Z"
   },
   {
    "duration": 28,
    "start_time": "2022-08-26T14:24:38.778Z"
   },
   {
    "duration": 30,
    "start_time": "2022-08-26T14:24:38.808Z"
   },
   {
    "duration": 30,
    "start_time": "2022-08-26T14:24:38.840Z"
   },
   {
    "duration": 188,
    "start_time": "2022-08-26T14:24:38.873Z"
   },
   {
    "duration": 6,
    "start_time": "2022-08-26T14:24:39.063Z"
   },
   {
    "duration": 24,
    "start_time": "2022-08-26T14:24:39.071Z"
   },
   {
    "duration": 367,
    "start_time": "2022-08-26T14:25:21.248Z"
   },
   {
    "duration": 7,
    "start_time": "2022-08-26T14:25:23.185Z"
   },
   {
    "duration": 333,
    "start_time": "2022-08-26T14:34:47.161Z"
   },
   {
    "duration": 7,
    "start_time": "2022-08-26T14:34:48.644Z"
   },
   {
    "duration": 32,
    "start_time": "2022-08-26T14:34:52.589Z"
   },
   {
    "duration": 4,
    "start_time": "2022-08-26T16:38:55.101Z"
   },
   {
    "duration": 77,
    "start_time": "2022-08-26T16:38:55.108Z"
   },
   {
    "duration": 13,
    "start_time": "2022-08-26T16:38:55.187Z"
   },
   {
    "duration": 8,
    "start_time": "2022-08-26T16:38:55.201Z"
   },
   {
    "duration": 19,
    "start_time": "2022-08-26T16:38:55.212Z"
   },
   {
    "duration": 14,
    "start_time": "2022-08-26T16:38:55.233Z"
   },
   {
    "duration": 34,
    "start_time": "2022-08-26T16:38:55.249Z"
   },
   {
    "duration": 26,
    "start_time": "2022-08-26T16:38:55.285Z"
   },
   {
    "duration": 262,
    "start_time": "2022-08-26T16:38:55.313Z"
   },
   {
    "duration": 261,
    "start_time": "2022-08-26T16:38:55.577Z"
   },
   {
    "duration": 8,
    "start_time": "2022-08-26T16:38:55.840Z"
   },
   {
    "duration": 369,
    "start_time": "2022-08-26T16:38:55.849Z"
   },
   {
    "duration": 306,
    "start_time": "2022-08-26T16:38:56.220Z"
   },
   {
    "duration": 282,
    "start_time": "2022-08-26T16:38:56.530Z"
   },
   {
    "duration": 8,
    "start_time": "2022-08-26T16:38:56.814Z"
   },
   {
    "duration": 16,
    "start_time": "2022-08-26T16:38:56.824Z"
   },
   {
    "duration": 255,
    "start_time": "2022-08-26T16:38:56.842Z"
   },
   {
    "duration": 6,
    "start_time": "2022-08-26T16:38:57.098Z"
   },
   {
    "duration": 8,
    "start_time": "2022-08-26T16:38:57.106Z"
   },
   {
    "duration": 7,
    "start_time": "2022-08-26T16:38:57.116Z"
   },
   {
    "duration": 8,
    "start_time": "2022-08-26T16:38:57.125Z"
   },
   {
    "duration": 46,
    "start_time": "2022-08-26T16:38:57.135Z"
   },
   {
    "duration": 5,
    "start_time": "2022-08-26T16:38:57.183Z"
   },
   {
    "duration": 15,
    "start_time": "2022-08-26T16:38:57.189Z"
   },
   {
    "duration": 14,
    "start_time": "2022-08-26T16:38:57.205Z"
   },
   {
    "duration": 192,
    "start_time": "2022-08-26T16:38:57.221Z"
   },
   {
    "duration": 7,
    "start_time": "2022-08-26T16:38:57.415Z"
   },
   {
    "duration": 20,
    "start_time": "2022-08-26T16:38:57.424Z"
   },
   {
    "duration": 8907,
    "start_time": "2022-08-26T16:38:59.643Z"
   },
   {
    "duration": 8474,
    "start_time": "2022-08-26T16:40:07.622Z"
   },
   {
    "duration": 4,
    "start_time": "2022-08-26T16:40:26.292Z"
   },
   {
    "duration": 42,
    "start_time": "2022-08-26T16:40:26.298Z"
   },
   {
    "duration": 14,
    "start_time": "2022-08-26T16:40:26.342Z"
   },
   {
    "duration": 7,
    "start_time": "2022-08-26T16:40:26.359Z"
   },
   {
    "duration": 31,
    "start_time": "2022-08-26T16:40:26.369Z"
   },
   {
    "duration": 6,
    "start_time": "2022-08-26T16:40:26.402Z"
   },
   {
    "duration": 20,
    "start_time": "2022-08-26T16:40:26.410Z"
   },
   {
    "duration": 8,
    "start_time": "2022-08-26T16:40:26.432Z"
   },
   {
    "duration": 355,
    "start_time": "2022-08-26T16:40:26.441Z"
   },
   {
    "duration": 276,
    "start_time": "2022-08-26T16:40:26.798Z"
   },
   {
    "duration": 11,
    "start_time": "2022-08-26T16:40:27.078Z"
   },
   {
    "duration": 464,
    "start_time": "2022-08-26T16:40:27.091Z"
   },
   {
    "duration": 313,
    "start_time": "2022-08-26T16:40:27.557Z"
   },
   {
    "duration": 262,
    "start_time": "2022-08-26T16:40:27.873Z"
   },
   {
    "duration": 7,
    "start_time": "2022-08-26T16:40:28.137Z"
   },
   {
    "duration": 24,
    "start_time": "2022-08-26T16:40:28.145Z"
   },
   {
    "duration": 232,
    "start_time": "2022-08-26T16:40:28.171Z"
   },
   {
    "duration": 6,
    "start_time": "2022-08-26T16:40:28.405Z"
   },
   {
    "duration": 8,
    "start_time": "2022-08-26T16:40:28.413Z"
   },
   {
    "duration": 11,
    "start_time": "2022-08-26T16:40:28.423Z"
   },
   {
    "duration": 7,
    "start_time": "2022-08-26T16:40:28.436Z"
   },
   {
    "duration": 38,
    "start_time": "2022-08-26T16:40:28.467Z"
   },
   {
    "duration": 9,
    "start_time": "2022-08-26T16:40:28.508Z"
   },
   {
    "duration": 11,
    "start_time": "2022-08-26T16:40:28.519Z"
   },
   {
    "duration": 16,
    "start_time": "2022-08-26T16:40:28.532Z"
   },
   {
    "duration": 210,
    "start_time": "2022-08-26T16:40:28.550Z"
   },
   {
    "duration": 8,
    "start_time": "2022-08-26T16:40:28.767Z"
   },
   {
    "duration": 27,
    "start_time": "2022-08-26T16:40:28.777Z"
   },
   {
    "duration": 8721,
    "start_time": "2022-08-26T16:40:33.281Z"
   },
   {
    "duration": 7967,
    "start_time": "2022-08-26T16:41:22.417Z"
   },
   {
    "duration": 387,
    "start_time": "2022-08-26T16:45:40.471Z"
   },
   {
    "duration": 316,
    "start_time": "2022-08-26T16:48:54.534Z"
   },
   {
    "duration": 290,
    "start_time": "2022-08-26T16:50:26.806Z"
   },
   {
    "duration": 405,
    "start_time": "2022-08-26T16:50:51.919Z"
   },
   {
    "duration": 318,
    "start_time": "2022-08-26T16:50:59.536Z"
   },
   {
    "duration": 308,
    "start_time": "2022-08-26T16:51:32.674Z"
   },
   {
    "duration": 149,
    "start_time": "2022-08-26T16:57:42.345Z"
   },
   {
    "duration": 353,
    "start_time": "2022-08-26T16:59:54.895Z"
   },
   {
    "duration": 149,
    "start_time": "2022-08-26T17:00:45.285Z"
   },
   {
    "duration": 140,
    "start_time": "2022-08-26T17:04:33.090Z"
   },
   {
    "duration": 159,
    "start_time": "2022-08-26T17:04:43.698Z"
   },
   {
    "duration": 152,
    "start_time": "2022-08-26T17:04:53.073Z"
   },
   {
    "duration": 7686,
    "start_time": "2022-08-26T17:05:58.004Z"
   },
   {
    "duration": 149,
    "start_time": "2022-08-26T17:06:14.598Z"
   },
   {
    "duration": 149,
    "start_time": "2022-08-26T17:07:09.690Z"
   },
   {
    "duration": 148,
    "start_time": "2022-08-26T17:09:30.193Z"
   },
   {
    "duration": 149,
    "start_time": "2022-08-26T17:11:17.584Z"
   },
   {
    "duration": 160,
    "start_time": "2022-08-26T17:12:44.936Z"
   },
   {
    "duration": 142,
    "start_time": "2022-08-26T17:18:49.535Z"
   },
   {
    "duration": 48,
    "start_time": "2022-08-26T17:23:44.500Z"
   },
   {
    "duration": 8042,
    "start_time": "2022-08-26T17:24:12.312Z"
   },
   {
    "duration": 274,
    "start_time": "2022-08-26T17:24:24.832Z"
   },
   {
    "duration": 4870,
    "start_time": "2022-08-26T17:26:31.145Z"
   },
   {
    "duration": 5506,
    "start_time": "2022-08-26T17:27:46.134Z"
   },
   {
    "duration": 4,
    "start_time": "2022-08-26T17:36:25.123Z"
   },
   {
    "duration": 45,
    "start_time": "2022-08-26T17:36:25.129Z"
   },
   {
    "duration": 15,
    "start_time": "2022-08-26T17:36:25.176Z"
   },
   {
    "duration": 4,
    "start_time": "2022-08-26T17:36:25.193Z"
   },
   {
    "duration": 12,
    "start_time": "2022-08-26T17:36:25.199Z"
   },
   {
    "duration": 5,
    "start_time": "2022-08-26T17:36:25.212Z"
   },
   {
    "duration": 16,
    "start_time": "2022-08-26T17:36:25.219Z"
   },
   {
    "duration": 36,
    "start_time": "2022-08-26T17:36:25.237Z"
   },
   {
    "duration": 244,
    "start_time": "2022-08-26T17:36:25.275Z"
   },
   {
    "duration": 249,
    "start_time": "2022-08-26T17:36:25.521Z"
   },
   {
    "duration": 7,
    "start_time": "2022-08-26T17:36:25.772Z"
   },
   {
    "duration": 254,
    "start_time": "2022-08-26T17:36:25.781Z"
   },
   {
    "duration": 286,
    "start_time": "2022-08-26T17:36:26.036Z"
   },
   {
    "duration": 266,
    "start_time": "2022-08-26T17:36:26.325Z"
   },
   {
    "duration": 9,
    "start_time": "2022-08-26T17:36:26.592Z"
   },
   {
    "duration": 11,
    "start_time": "2022-08-26T17:36:26.603Z"
   },
   {
    "duration": 250,
    "start_time": "2022-08-26T17:36:26.616Z"
   },
   {
    "duration": 7,
    "start_time": "2022-08-26T17:36:26.869Z"
   },
   {
    "duration": 19,
    "start_time": "2022-08-26T17:36:26.878Z"
   },
   {
    "duration": 8,
    "start_time": "2022-08-26T17:36:26.898Z"
   },
   {
    "duration": 7,
    "start_time": "2022-08-26T17:36:26.907Z"
   },
   {
    "duration": 34,
    "start_time": "2022-08-26T17:36:26.915Z"
   },
   {
    "duration": 5,
    "start_time": "2022-08-26T17:36:26.967Z"
   },
   {
    "duration": 23,
    "start_time": "2022-08-26T17:36:26.974Z"
   },
   {
    "duration": 13,
    "start_time": "2022-08-26T17:36:26.999Z"
   },
   {
    "duration": 178,
    "start_time": "2022-08-26T17:36:27.013Z"
   },
   {
    "duration": 6,
    "start_time": "2022-08-26T17:36:27.193Z"
   },
   {
    "duration": 19,
    "start_time": "2022-08-26T17:36:27.200Z"
   },
   {
    "duration": 7886,
    "start_time": "2022-08-26T17:36:27.222Z"
   },
   {
    "duration": 161,
    "start_time": "2022-08-26T17:36:35.110Z"
   },
   {
    "duration": 5687,
    "start_time": "2022-08-26T17:36:35.272Z"
   },
   {
    "duration": 164,
    "start_time": "2022-08-26T17:36:40.960Z"
   },
   {
    "duration": 17,
    "start_time": "2022-08-26T17:36:41.125Z"
   },
   {
    "duration": 25,
    "start_time": "2022-08-26T17:36:41.143Z"
   },
   {
    "duration": 287,
    "start_time": "2022-08-26T17:36:41.170Z"
   },
   {
    "duration": 10,
    "start_time": "2022-08-26T17:36:41.458Z"
   },
   {
    "duration": 30,
    "start_time": "2022-08-26T17:36:41.469Z"
   },
   {
    "duration": 72,
    "start_time": "2022-08-26T17:36:41.501Z"
   },
   {
    "duration": 48,
    "start_time": "2022-08-26T17:36:53.089Z"
   },
   {
    "duration": 4,
    "start_time": "2022-08-26T18:59:28.502Z"
   },
   {
    "duration": 40,
    "start_time": "2022-08-26T18:59:31.211Z"
   },
   {
    "duration": 18,
    "start_time": "2022-08-26T19:09:46.772Z"
   },
   {
    "duration": 12,
    "start_time": "2022-08-26T19:19:31.961Z"
   },
   {
    "duration": 3,
    "start_time": "2022-08-26T19:20:44.992Z"
   },
   {
    "duration": 14,
    "start_time": "2022-08-26T19:20:56.899Z"
   },
   {
    "duration": 16,
    "start_time": "2022-08-26T19:23:18.152Z"
   },
   {
    "duration": 21,
    "start_time": "2022-08-26T19:24:08.815Z"
   },
   {
    "duration": 21,
    "start_time": "2022-08-26T19:25:29.304Z"
   },
   {
    "duration": 20,
    "start_time": "2022-08-26T19:26:09.317Z"
   },
   {
    "duration": 19,
    "start_time": "2022-08-26T19:27:23.942Z"
   },
   {
    "duration": 20,
    "start_time": "2022-08-26T19:28:20.365Z"
   },
   {
    "duration": 101,
    "start_time": "2022-08-26T19:29:20.637Z"
   },
   {
    "duration": 329,
    "start_time": "2022-08-26T19:29:28.067Z"
   },
   {
    "duration": 21,
    "start_time": "2022-08-26T19:30:19.990Z"
   },
   {
    "duration": 23,
    "start_time": "2022-08-26T19:30:42.950Z"
   },
   {
    "duration": 24,
    "start_time": "2022-08-26T19:30:54.466Z"
   },
   {
    "duration": 21,
    "start_time": "2022-08-26T19:32:09.966Z"
   },
   {
    "duration": 25,
    "start_time": "2022-08-26T19:32:20.957Z"
   },
   {
    "duration": 25,
    "start_time": "2022-08-26T19:32:51.293Z"
   },
   {
    "duration": 24,
    "start_time": "2022-08-26T19:35:47.445Z"
   },
   {
    "duration": 3,
    "start_time": "2022-08-26T19:41:56.720Z"
   },
   {
    "duration": 4,
    "start_time": "2022-08-26T23:50:12.219Z"
   },
   {
    "duration": 3,
    "start_time": "2022-08-26T23:50:32.552Z"
   },
   {
    "duration": 8,
    "start_time": "2022-08-26T23:51:16.753Z"
   },
   {
    "duration": 9,
    "start_time": "2022-08-26T23:51:49.109Z"
   },
   {
    "duration": 8,
    "start_time": "2022-08-26T23:52:53.600Z"
   },
   {
    "duration": 11,
    "start_time": "2022-08-26T23:53:05.839Z"
   },
   {
    "duration": 19,
    "start_time": "2022-08-26T23:53:22.857Z"
   },
   {
    "duration": 19,
    "start_time": "2022-08-26T23:53:28.418Z"
   },
   {
    "duration": 19,
    "start_time": "2022-08-26T23:53:33.461Z"
   },
   {
    "duration": 5,
    "start_time": "2022-08-27T00:01:12.910Z"
   },
   {
    "duration": 4,
    "start_time": "2022-08-27T00:01:25.228Z"
   },
   {
    "duration": 4,
    "start_time": "2022-08-27T00:01:53.185Z"
   },
   {
    "duration": 11,
    "start_time": "2022-08-27T00:53:11.053Z"
   },
   {
    "duration": 7,
    "start_time": "2022-08-27T20:22:59.794Z"
   },
   {
    "duration": 5,
    "start_time": "2022-08-27T20:26:17.795Z"
   },
   {
    "duration": 4,
    "start_time": "2022-08-27T20:31:55.223Z"
   },
   {
    "duration": 9,
    "start_time": "2022-08-27T20:31:55.230Z"
   },
   {
    "duration": 42,
    "start_time": "2022-08-27T20:31:55.241Z"
   },
   {
    "duration": 24,
    "start_time": "2022-08-27T20:31:55.285Z"
   },
   {
    "duration": 3,
    "start_time": "2022-08-27T20:31:55.311Z"
   },
   {
    "duration": 8,
    "start_time": "2022-08-27T20:31:55.316Z"
   },
   {
    "duration": 10,
    "start_time": "2022-08-27T20:31:55.328Z"
   },
   {
    "duration": 29,
    "start_time": "2022-08-27T20:31:55.340Z"
   },
   {
    "duration": 263,
    "start_time": "2022-08-27T20:31:55.371Z"
   },
   {
    "duration": 10,
    "start_time": "2022-08-27T20:31:55.636Z"
   },
   {
    "duration": 31,
    "start_time": "2022-08-27T20:31:55.648Z"
   },
   {
    "duration": 51,
    "start_time": "2022-08-27T20:31:55.681Z"
   },
   {
    "duration": 265,
    "start_time": "2022-08-27T20:44:17.526Z"
   },
   {
    "duration": 6,
    "start_time": "2022-08-27T20:47:33.721Z"
   },
   {
    "duration": 7,
    "start_time": "2022-08-27T20:47:44.651Z"
   },
   {
    "duration": 19,
    "start_time": "2022-08-27T20:58:20.206Z"
   },
   {
    "duration": 15,
    "start_time": "2022-08-27T21:00:01.914Z"
   },
   {
    "duration": 5,
    "start_time": "2022-08-27T21:00:08.055Z"
   },
   {
    "duration": 16,
    "start_time": "2022-08-27T21:00:08.062Z"
   },
   {
    "duration": 53,
    "start_time": "2022-08-27T21:00:08.080Z"
   },
   {
    "duration": 35,
    "start_time": "2022-08-27T21:00:08.135Z"
   },
   {
    "duration": 6,
    "start_time": "2022-08-27T21:00:08.173Z"
   },
   {
    "duration": 7,
    "start_time": "2022-08-27T21:00:08.181Z"
   },
   {
    "duration": 20,
    "start_time": "2022-08-27T21:00:08.191Z"
   },
   {
    "duration": 7,
    "start_time": "2022-08-27T21:00:08.213Z"
   },
   {
    "duration": 313,
    "start_time": "2022-08-27T21:00:08.222Z"
   },
   {
    "duration": 12,
    "start_time": "2022-08-27T21:00:08.537Z"
   },
   {
    "duration": 20,
    "start_time": "2022-08-27T21:00:08.551Z"
   },
   {
    "duration": 19,
    "start_time": "2022-08-27T21:00:08.574Z"
   },
   {
    "duration": 10,
    "start_time": "2022-08-27T21:00:08.596Z"
   },
   {
    "duration": 1497,
    "start_time": "2022-08-27T21:01:07.718Z"
   },
   {
    "duration": 12,
    "start_time": "2022-08-27T21:01:21.859Z"
   },
   {
    "duration": 6,
    "start_time": "2022-08-27T21:02:40.465Z"
   },
   {
    "duration": 4,
    "start_time": "2022-08-27T21:03:08.758Z"
   },
   {
    "duration": 6,
    "start_time": "2022-08-27T21:03:17.966Z"
   },
   {
    "duration": 282,
    "start_time": "2022-08-27T21:18:19.430Z"
   },
   {
    "duration": 6,
    "start_time": "2022-08-27T21:35:26.237Z"
   },
   {
    "duration": 6,
    "start_time": "2022-08-27T21:35:41.989Z"
   },
   {
    "duration": 6,
    "start_time": "2022-08-27T21:35:51.068Z"
   },
   {
    "duration": 6,
    "start_time": "2022-08-27T21:35:58.086Z"
   },
   {
    "duration": 8,
    "start_time": "2022-08-27T21:36:57.494Z"
   },
   {
    "duration": 6,
    "start_time": "2022-08-27T21:37:01.936Z"
   },
   {
    "duration": 6,
    "start_time": "2022-08-27T21:38:44.233Z"
   },
   {
    "duration": 210,
    "start_time": "2022-08-27T21:38:46.905Z"
   },
   {
    "duration": 409,
    "start_time": "2022-08-27T21:41:54.571Z"
   },
   {
    "duration": 291,
    "start_time": "2022-08-27T21:42:01.811Z"
   },
   {
    "duration": 271,
    "start_time": "2022-08-27T21:42:12.568Z"
   },
   {
    "duration": 4,
    "start_time": "2022-08-27T21:42:35.968Z"
   },
   {
    "duration": 215,
    "start_time": "2022-08-27T21:42:38.969Z"
   },
   {
    "duration": 217,
    "start_time": "2022-08-27T21:42:45.715Z"
   },
   {
    "duration": 194,
    "start_time": "2022-08-27T21:42:54.451Z"
   },
   {
    "duration": 447,
    "start_time": "2022-08-27T21:43:11.601Z"
   },
   {
    "duration": 5,
    "start_time": "2022-08-27T22:02:16.282Z"
   },
   {
    "duration": 5,
    "start_time": "2022-08-27T22:02:49.802Z"
   },
   {
    "duration": 5,
    "start_time": "2022-08-27T22:02:54.280Z"
   },
   {
    "duration": 5,
    "start_time": "2022-08-27T22:26:13.758Z"
   },
   {
    "duration": 2,
    "start_time": "2022-08-28T09:07:30.347Z"
   },
   {
    "duration": 5,
    "start_time": "2022-08-28T09:08:14.579Z"
   },
   {
    "duration": 11,
    "start_time": "2022-08-28T09:21:39.255Z"
   },
   {
    "duration": 6,
    "start_time": "2022-08-28T09:22:00.432Z"
   },
   {
    "duration": 6,
    "start_time": "2022-08-28T09:22:10.592Z"
   },
   {
    "duration": 6,
    "start_time": "2022-08-28T09:22:41.469Z"
   },
   {
    "duration": 7,
    "start_time": "2022-08-28T09:23:01.134Z"
   },
   {
    "duration": 3,
    "start_time": "2022-08-29T15:15:13.934Z"
   },
   {
    "duration": 6,
    "start_time": "2022-08-29T15:15:13.939Z"
   },
   {
    "duration": 55,
    "start_time": "2022-08-29T15:15:13.947Z"
   },
   {
    "duration": 23,
    "start_time": "2022-08-29T15:15:14.004Z"
   },
   {
    "duration": 4,
    "start_time": "2022-08-29T15:15:14.029Z"
   },
   {
    "duration": 7,
    "start_time": "2022-08-29T15:15:14.034Z"
   },
   {
    "duration": 12,
    "start_time": "2022-08-29T15:15:14.042Z"
   },
   {
    "duration": 4,
    "start_time": "2022-08-29T15:15:14.056Z"
   },
   {
    "duration": 252,
    "start_time": "2022-08-29T15:15:14.062Z"
   },
   {
    "duration": 7,
    "start_time": "2022-08-29T15:15:14.316Z"
   },
   {
    "duration": 10,
    "start_time": "2022-08-29T15:15:14.324Z"
   },
   {
    "duration": 35,
    "start_time": "2022-08-29T15:15:14.336Z"
   },
   {
    "duration": 11,
    "start_time": "2022-08-29T15:15:14.373Z"
   },
   {
    "duration": 22,
    "start_time": "2022-08-29T15:15:14.387Z"
   },
   {
    "duration": 8,
    "start_time": "2022-08-29T15:15:14.411Z"
   },
   {
    "duration": 354,
    "start_time": "2022-08-29T15:15:14.421Z"
   },
   {
    "duration": 13,
    "start_time": "2022-08-29T15:15:14.779Z"
   },
   {
    "duration": 251,
    "start_time": "2022-08-29T15:15:14.794Z"
   },
   {
    "duration": 6,
    "start_time": "2022-08-29T15:15:15.047Z"
   },
   {
    "duration": 23,
    "start_time": "2022-08-29T15:15:15.055Z"
   },
   {
    "duration": 256,
    "start_time": "2022-08-29T15:15:15.085Z"
   },
   {
    "duration": 13,
    "start_time": "2022-08-29T15:18:35.168Z"
   },
   {
    "duration": 5,
    "start_time": "2022-08-29T15:18:41.018Z"
   },
   {
    "duration": 4,
    "start_time": "2022-08-29T15:18:57.192Z"
   },
   {
    "duration": 106,
    "start_time": "2022-08-29T15:19:15.322Z"
   },
   {
    "duration": 20,
    "start_time": "2022-08-29T15:19:23.567Z"
   },
   {
    "duration": 12,
    "start_time": "2022-08-29T15:50:54.725Z"
   },
   {
    "duration": 4,
    "start_time": "2022-08-29T15:51:03.813Z"
   },
   {
    "duration": 8,
    "start_time": "2022-08-29T15:51:03.820Z"
   },
   {
    "duration": 47,
    "start_time": "2022-08-29T15:51:03.830Z"
   },
   {
    "duration": 26,
    "start_time": "2022-08-29T15:51:03.879Z"
   },
   {
    "duration": 4,
    "start_time": "2022-08-29T15:51:03.908Z"
   },
   {
    "duration": 10,
    "start_time": "2022-08-29T15:51:03.913Z"
   },
   {
    "duration": 15,
    "start_time": "2022-08-29T15:51:03.924Z"
   },
   {
    "duration": 27,
    "start_time": "2022-08-29T15:51:03.941Z"
   },
   {
    "duration": 247,
    "start_time": "2022-08-29T15:51:03.970Z"
   },
   {
    "duration": 8,
    "start_time": "2022-08-29T15:51:04.219Z"
   },
   {
    "duration": 6,
    "start_time": "2022-08-29T15:51:04.229Z"
   },
   {
    "duration": 40,
    "start_time": "2022-08-29T15:51:04.237Z"
   },
   {
    "duration": 4,
    "start_time": "2022-08-29T15:51:04.280Z"
   },
   {
    "duration": 20,
    "start_time": "2022-08-29T15:51:04.288Z"
   },
   {
    "duration": 10,
    "start_time": "2022-08-29T15:51:04.310Z"
   },
   {
    "duration": 454,
    "start_time": "2022-08-29T15:51:04.322Z"
   },
   {
    "duration": 6,
    "start_time": "2022-08-29T15:51:04.778Z"
   },
   {
    "duration": 237,
    "start_time": "2022-08-29T15:51:04.786Z"
   },
   {
    "duration": 8,
    "start_time": "2022-08-29T15:51:05.025Z"
   },
   {
    "duration": 9,
    "start_time": "2022-08-29T15:51:05.035Z"
   },
   {
    "duration": 268,
    "start_time": "2022-08-29T15:51:05.046Z"
   },
   {
    "duration": 6,
    "start_time": "2022-08-29T15:51:05.315Z"
   },
   {
    "duration": 11,
    "start_time": "2022-08-29T19:53:21.857Z"
   },
   {
    "duration": 12,
    "start_time": "2022-08-29T19:55:32.697Z"
   },
   {
    "duration": 11,
    "start_time": "2022-08-29T20:05:00.090Z"
   },
   {
    "duration": 10,
    "start_time": "2022-08-29T20:07:14.542Z"
   },
   {
    "duration": 11,
    "start_time": "2022-08-29T20:12:40.776Z"
   },
   {
    "duration": 17,
    "start_time": "2022-08-29T20:18:13.545Z"
   },
   {
    "duration": 17,
    "start_time": "2022-08-29T20:18:44.893Z"
   },
   {
    "duration": 20,
    "start_time": "2022-08-29T20:34:49.034Z"
   },
   {
    "duration": 4,
    "start_time": "2022-08-29T20:36:04.690Z"
   },
   {
    "duration": 7,
    "start_time": "2022-08-29T20:36:04.696Z"
   },
   {
    "duration": 49,
    "start_time": "2022-08-29T20:36:04.704Z"
   },
   {
    "duration": 26,
    "start_time": "2022-08-29T20:36:04.755Z"
   },
   {
    "duration": 9,
    "start_time": "2022-08-29T20:36:04.783Z"
   },
   {
    "duration": 4,
    "start_time": "2022-08-29T20:36:04.794Z"
   },
   {
    "duration": 16,
    "start_time": "2022-08-29T20:36:04.800Z"
   },
   {
    "duration": 5,
    "start_time": "2022-08-29T20:36:04.818Z"
   },
   {
    "duration": 245,
    "start_time": "2022-08-29T20:36:04.824Z"
   },
   {
    "duration": 7,
    "start_time": "2022-08-29T20:36:05.071Z"
   },
   {
    "duration": 9,
    "start_time": "2022-08-29T20:36:05.079Z"
   },
   {
    "duration": 18,
    "start_time": "2022-08-29T20:36:05.089Z"
   },
   {
    "duration": 4,
    "start_time": "2022-08-29T20:36:05.109Z"
   },
   {
    "duration": 11,
    "start_time": "2022-08-29T20:36:05.116Z"
   },
   {
    "duration": 332,
    "start_time": "2022-08-29T20:36:05.129Z"
   },
   {
    "duration": 6,
    "start_time": "2022-08-29T20:36:05.467Z"
   },
   {
    "duration": 252,
    "start_time": "2022-08-29T20:36:05.475Z"
   },
   {
    "duration": 6,
    "start_time": "2022-08-29T20:36:05.728Z"
   },
   {
    "duration": 8,
    "start_time": "2022-08-29T20:36:05.736Z"
   },
   {
    "duration": 404,
    "start_time": "2022-08-29T20:36:05.745Z"
   },
   {
    "duration": 16,
    "start_time": "2022-08-29T20:36:06.151Z"
   },
   {
    "duration": 265,
    "start_time": "2022-08-29T20:36:06.170Z"
   },
   {
    "duration": 5,
    "start_time": "2022-08-29T20:36:06.437Z"
   },
   {
    "duration": 35,
    "start_time": "2022-08-29T20:36:06.444Z"
   },
   {
    "duration": 37,
    "start_time": "2022-08-29T20:36:06.481Z"
   },
   {
    "duration": 18,
    "start_time": "2022-08-29T20:36:06.520Z"
   },
   {
    "duration": 23,
    "start_time": "2022-08-29T20:36:06.540Z"
   },
   {
    "duration": 14,
    "start_time": "2022-08-29T20:36:06.565Z"
   },
   {
    "duration": 32,
    "start_time": "2022-08-29T20:36:06.581Z"
   },
   {
    "duration": 9,
    "start_time": "2022-08-29T20:36:06.616Z"
   },
   {
    "duration": 12,
    "start_time": "2022-08-29T20:36:19.158Z"
   },
   {
    "duration": 4,
    "start_time": "2022-08-29T20:36:32.524Z"
   },
   {
    "duration": 13,
    "start_time": "2022-08-29T20:36:32.529Z"
   },
   {
    "duration": 45,
    "start_time": "2022-08-29T20:36:32.543Z"
   },
   {
    "duration": 24,
    "start_time": "2022-08-29T20:36:32.590Z"
   },
   {
    "duration": 4,
    "start_time": "2022-08-29T20:36:32.616Z"
   },
   {
    "duration": 8,
    "start_time": "2022-08-29T20:36:32.621Z"
   },
   {
    "duration": 14,
    "start_time": "2022-08-29T20:36:32.630Z"
   },
   {
    "duration": 4,
    "start_time": "2022-08-29T20:36:32.645Z"
   },
   {
    "duration": 238,
    "start_time": "2022-08-29T20:36:32.650Z"
   },
   {
    "duration": 7,
    "start_time": "2022-08-29T20:36:32.889Z"
   },
   {
    "duration": 10,
    "start_time": "2022-08-29T20:36:32.898Z"
   },
   {
    "duration": 18,
    "start_time": "2022-08-29T20:36:32.909Z"
   },
   {
    "duration": 7,
    "start_time": "2022-08-29T20:36:32.929Z"
   },
   {
    "duration": 33,
    "start_time": "2022-08-29T20:36:32.939Z"
   },
   {
    "duration": 291,
    "start_time": "2022-08-29T20:36:32.974Z"
   },
   {
    "duration": 7,
    "start_time": "2022-08-29T20:36:33.268Z"
   },
   {
    "duration": 208,
    "start_time": "2022-08-29T20:36:33.277Z"
   },
   {
    "duration": 7,
    "start_time": "2022-08-29T20:36:33.487Z"
   },
   {
    "duration": 6,
    "start_time": "2022-08-29T20:36:33.496Z"
   },
   {
    "duration": 235,
    "start_time": "2022-08-29T20:36:33.504Z"
   },
   {
    "duration": 4,
    "start_time": "2022-08-29T20:36:33.741Z"
   },
   {
    "duration": 235,
    "start_time": "2022-08-29T20:36:33.747Z"
   },
   {
    "duration": 6,
    "start_time": "2022-08-29T20:36:33.983Z"
   },
   {
    "duration": 12,
    "start_time": "2022-08-29T20:36:33.990Z"
   },
   {
    "duration": 10,
    "start_time": "2022-08-29T20:36:34.004Z"
   },
   {
    "duration": 15,
    "start_time": "2022-08-29T20:36:34.016Z"
   },
   {
    "duration": 37,
    "start_time": "2022-08-29T20:36:34.032Z"
   },
   {
    "duration": 10,
    "start_time": "2022-08-29T20:36:34.070Z"
   },
   {
    "duration": 27,
    "start_time": "2022-08-29T20:36:40.176Z"
   },
   {
    "duration": 5,
    "start_time": "2022-08-29T20:39:08.871Z"
   },
   {
    "duration": 33,
    "start_time": "2022-08-29T20:39:12.511Z"
   },
   {
    "duration": 24,
    "start_time": "2022-08-29T20:40:14.127Z"
   },
   {
    "duration": 25,
    "start_time": "2022-08-29T20:40:18.536Z"
   },
   {
    "duration": 24,
    "start_time": "2022-08-29T20:40:37.971Z"
   },
   {
    "duration": 24,
    "start_time": "2022-08-29T20:40:45.907Z"
   },
   {
    "duration": 25,
    "start_time": "2022-08-29T20:41:11.500Z"
   },
   {
    "duration": 13,
    "start_time": "2022-08-29T21:02:32.656Z"
   },
   {
    "duration": 3,
    "start_time": "2022-08-29T21:18:32.621Z"
   },
   {
    "duration": 4,
    "start_time": "2022-08-29T21:18:59.022Z"
   },
   {
    "duration": 5,
    "start_time": "2022-08-29T21:18:59.028Z"
   },
   {
    "duration": 43,
    "start_time": "2022-08-29T21:18:59.034Z"
   },
   {
    "duration": 34,
    "start_time": "2022-08-29T21:18:59.079Z"
   },
   {
    "duration": 4,
    "start_time": "2022-08-29T21:18:59.115Z"
   },
   {
    "duration": 5,
    "start_time": "2022-08-29T21:18:59.121Z"
   },
   {
    "duration": 42,
    "start_time": "2022-08-29T21:18:59.127Z"
   },
   {
    "duration": 4,
    "start_time": "2022-08-29T21:18:59.171Z"
   },
   {
    "duration": 386,
    "start_time": "2022-08-29T21:18:59.177Z"
   },
   {
    "duration": 7,
    "start_time": "2022-08-29T21:18:59.568Z"
   },
   {
    "duration": 7,
    "start_time": "2022-08-29T21:18:59.576Z"
   },
   {
    "duration": 15,
    "start_time": "2022-08-29T21:18:59.585Z"
   },
   {
    "duration": 5,
    "start_time": "2022-08-29T21:18:59.601Z"
   },
   {
    "duration": 12,
    "start_time": "2022-08-29T21:18:59.609Z"
   },
   {
    "duration": 313,
    "start_time": "2022-08-29T21:18:59.622Z"
   },
   {
    "duration": 5,
    "start_time": "2022-08-29T21:18:59.937Z"
   },
   {
    "duration": 239,
    "start_time": "2022-08-29T21:18:59.943Z"
   },
   {
    "duration": 6,
    "start_time": "2022-08-29T21:19:00.185Z"
   },
   {
    "duration": 21,
    "start_time": "2022-08-29T21:19:00.193Z"
   },
   {
    "duration": 240,
    "start_time": "2022-08-29T21:19:00.216Z"
   },
   {
    "duration": 12,
    "start_time": "2022-08-29T21:19:00.457Z"
   },
   {
    "duration": 243,
    "start_time": "2022-08-29T21:19:00.470Z"
   },
   {
    "duration": 10,
    "start_time": "2022-08-29T21:19:00.715Z"
   },
   {
    "duration": 18,
    "start_time": "2022-08-29T21:19:00.727Z"
   },
   {
    "duration": 11,
    "start_time": "2022-08-29T21:19:00.768Z"
   },
   {
    "duration": 10,
    "start_time": "2022-08-29T21:19:00.781Z"
   },
   {
    "duration": 23,
    "start_time": "2022-08-29T21:19:00.793Z"
   },
   {
    "duration": 50,
    "start_time": "2022-08-29T21:19:00.818Z"
   },
   {
    "duration": 4,
    "start_time": "2022-08-29T21:19:00.870Z"
   },
   {
    "duration": 25,
    "start_time": "2022-08-29T21:19:00.876Z"
   },
   {
    "duration": 5,
    "start_time": "2022-08-29T21:19:04.113Z"
   },
   {
    "duration": 30,
    "start_time": "2022-08-29T21:19:15.429Z"
   },
   {
    "duration": 11,
    "start_time": "2022-08-29T21:20:18.829Z"
   },
   {
    "duration": 167,
    "start_time": "2022-08-29T21:22:16.233Z"
   },
   {
    "duration": 4,
    "start_time": "2022-08-30T12:01:48.216Z"
   },
   {
    "duration": 7,
    "start_time": "2022-08-30T12:01:48.223Z"
   },
   {
    "duration": 41,
    "start_time": "2022-08-30T12:01:48.232Z"
   },
   {
    "duration": 27,
    "start_time": "2022-08-30T12:01:48.275Z"
   },
   {
    "duration": 4,
    "start_time": "2022-08-30T12:01:48.304Z"
   },
   {
    "duration": 5,
    "start_time": "2022-08-30T12:01:48.310Z"
   },
   {
    "duration": 53,
    "start_time": "2022-08-30T12:01:48.317Z"
   },
   {
    "duration": 6,
    "start_time": "2022-08-30T12:01:48.372Z"
   },
   {
    "duration": 284,
    "start_time": "2022-08-30T12:01:48.380Z"
   },
   {
    "duration": 8,
    "start_time": "2022-08-30T12:01:48.666Z"
   },
   {
    "duration": 28,
    "start_time": "2022-08-30T12:01:48.676Z"
   },
   {
    "duration": 51,
    "start_time": "2022-08-30T12:01:48.707Z"
   },
   {
    "duration": 10,
    "start_time": "2022-08-30T12:01:48.760Z"
   },
   {
    "duration": 28,
    "start_time": "2022-08-30T12:01:48.775Z"
   },
   {
    "duration": 368,
    "start_time": "2022-08-30T12:01:48.805Z"
   },
   {
    "duration": 6,
    "start_time": "2022-08-30T12:01:49.175Z"
   },
   {
    "duration": 395,
    "start_time": "2022-08-30T12:01:49.183Z"
   },
   {
    "duration": 6,
    "start_time": "2022-08-30T12:01:49.580Z"
   },
   {
    "duration": 8,
    "start_time": "2022-08-30T12:01:49.588Z"
   },
   {
    "duration": 257,
    "start_time": "2022-08-30T12:01:49.598Z"
   },
   {
    "duration": 14,
    "start_time": "2022-08-30T12:01:49.857Z"
   },
   {
    "duration": 260,
    "start_time": "2022-08-30T12:01:49.873Z"
   },
   {
    "duration": 12,
    "start_time": "2022-08-30T12:01:50.134Z"
   },
   {
    "duration": 30,
    "start_time": "2022-08-30T12:01:50.147Z"
   },
   {
    "duration": 16,
    "start_time": "2022-08-30T12:01:50.178Z"
   },
   {
    "duration": 10,
    "start_time": "2022-08-30T12:01:50.196Z"
   },
   {
    "duration": 10,
    "start_time": "2022-08-30T12:01:50.207Z"
   },
   {
    "duration": 7,
    "start_time": "2022-08-30T12:01:50.219Z"
   },
   {
    "duration": 5,
    "start_time": "2022-08-30T12:01:50.267Z"
   },
   {
    "duration": 14,
    "start_time": "2022-08-30T12:01:50.274Z"
   },
   {
    "duration": 12,
    "start_time": "2022-08-30T12:01:50.290Z"
   },
   {
    "duration": 9,
    "start_time": "2022-08-30T12:01:50.304Z"
   },
   {
    "duration": 7141,
    "start_time": "2022-08-30T12:01:50.315Z"
   },
   {
    "duration": 7219,
    "start_time": "2022-08-30T12:02:58.606Z"
   },
   {
    "duration": 137,
    "start_time": "2022-08-30T12:03:13.610Z"
   },
   {
    "duration": 86029,
    "start_time": "2022-08-30T13:12:56.869Z"
   },
   {
    "duration": 152,
    "start_time": "2022-08-30T13:14:35.535Z"
   },
   {
    "duration": 71168,
    "start_time": "2022-08-30T13:16:35.817Z"
   },
   {
    "duration": 154,
    "start_time": "2022-08-30T13:21:54.714Z"
   },
   {
    "duration": 317493,
    "start_time": "2022-08-30T13:38:26.968Z"
   },
   {
    "duration": 40285,
    "start_time": "2022-08-30T13:44:48.949Z"
   },
   {
    "duration": 4,
    "start_time": "2022-08-30T13:57:39.246Z"
   },
   {
    "duration": 53232,
    "start_time": "2022-08-30T15:10:35.628Z"
   },
   {
    "duration": 143,
    "start_time": "2022-08-30T15:13:38.914Z"
   },
   {
    "duration": 86416,
    "start_time": "2022-08-30T15:14:46.250Z"
   },
   {
    "duration": 142,
    "start_time": "2022-08-30T15:16:26.892Z"
   },
   {
    "duration": 104747,
    "start_time": "2022-08-30T15:19:09.389Z"
   },
   {
    "duration": 147,
    "start_time": "2022-08-30T15:22:18.060Z"
   },
   {
    "duration": 78743,
    "start_time": "2022-08-30T15:30:59.088Z"
   },
   {
    "duration": 152,
    "start_time": "2022-08-30T15:32:34.077Z"
   },
   {
    "duration": 247,
    "start_time": "2022-08-30T15:33:02.582Z"
   },
   {
    "duration": 12,
    "start_time": "2022-08-30T15:36:02.397Z"
   },
   {
    "duration": 14,
    "start_time": "2022-08-30T15:37:40.789Z"
   },
   {
    "duration": 4,
    "start_time": "2022-08-30T15:39:46.187Z"
   },
   {
    "duration": 14,
    "start_time": "2022-08-30T15:41:22.214Z"
   },
   {
    "duration": 6,
    "start_time": "2022-08-30T15:42:00.838Z"
   },
   {
    "duration": 38,
    "start_time": "2022-08-30T15:58:02.691Z"
   },
   {
    "duration": 23,
    "start_time": "2022-08-30T18:34:38.283Z"
   },
   {
    "duration": 50531,
    "start_time": "2022-08-30T18:37:00.081Z"
   },
   {
    "duration": 7,
    "start_time": "2022-08-30T18:38:24.316Z"
   },
   {
    "duration": 11,
    "start_time": "2022-08-30T18:38:43.560Z"
   },
   {
    "duration": 5,
    "start_time": "2022-08-30T18:41:56.968Z"
   },
   {
    "duration": 4,
    "start_time": "2022-08-30T18:42:33.139Z"
   },
   {
    "duration": 4397,
    "start_time": "2022-08-30T19:17:18.074Z"
   },
   {
    "duration": 4284,
    "start_time": "2022-08-30T19:50:47.052Z"
   },
   {
    "duration": 559,
    "start_time": "2022-08-30T19:53:22.693Z"
   },
   {
    "duration": 4,
    "start_time": "2022-08-30T19:56:41.000Z"
   },
   {
    "duration": 9,
    "start_time": "2022-08-30T19:56:48.339Z"
   },
   {
    "duration": 5,
    "start_time": "2022-08-30T19:56:56.304Z"
   },
   {
    "duration": 3,
    "start_time": "2022-08-30T19:59:28.570Z"
   },
   {
    "duration": 4676,
    "start_time": "2022-08-30T20:00:01.510Z"
   },
   {
    "duration": 399,
    "start_time": "2022-08-30T20:00:44.201Z"
   },
   {
    "duration": 24,
    "start_time": "2022-08-30T20:16:14.215Z"
   },
   {
    "duration": 11,
    "start_time": "2022-08-30T20:16:16.135Z"
   },
   {
    "duration": 5,
    "start_time": "2022-08-30T20:16:43.916Z"
   },
   {
    "duration": 50270,
    "start_time": "2022-08-30T20:16:51.842Z"
   },
   {
    "duration": 5,
    "start_time": "2022-08-30T20:17:44.948Z"
   },
   {
    "duration": 10,
    "start_time": "2022-08-30T20:18:54.478Z"
   },
   {
    "duration": 11,
    "start_time": "2022-08-30T20:29:49.834Z"
   },
   {
    "duration": 1128,
    "start_time": "2022-08-30T20:35:44.634Z"
   },
   {
    "duration": 9,
    "start_time": "2022-08-30T20:35:52.630Z"
   },
   {
    "duration": 8,
    "start_time": "2022-08-30T20:36:56.685Z"
   },
   {
    "duration": 6,
    "start_time": "2022-08-30T20:38:31.379Z"
   },
   {
    "duration": 15,
    "start_time": "2022-08-30T20:39:41.038Z"
   },
   {
    "duration": 15,
    "start_time": "2022-08-30T20:39:48.213Z"
   },
   {
    "duration": 6,
    "start_time": "2022-08-30T20:39:52.012Z"
   },
   {
    "duration": 5,
    "start_time": "2022-08-30T20:43:45.791Z"
   },
   {
    "duration": 16,
    "start_time": "2022-08-30T20:43:53.004Z"
   },
   {
    "duration": 6,
    "start_time": "2022-08-30T20:44:18.920Z"
   },
   {
    "duration": 4383,
    "start_time": "2022-08-30T20:47:24.537Z"
   },
   {
    "duration": 300,
    "start_time": "2022-08-30T20:54:44.717Z"
   },
   {
    "duration": 3911,
    "start_time": "2022-08-30T21:00:56.007Z"
   },
   {
    "duration": 272,
    "start_time": "2022-08-30T21:01:02.493Z"
   },
   {
    "duration": 614,
    "start_time": "2022-08-30T21:03:06.508Z"
   },
   {
    "duration": 4107,
    "start_time": "2022-08-30T23:27:28.423Z"
   },
   {
    "duration": 283,
    "start_time": "2022-08-30T23:27:34.250Z"
   },
   {
    "duration": 4026,
    "start_time": "2022-08-30T23:37:02.296Z"
   },
   {
    "duration": 292,
    "start_time": "2022-08-30T23:37:09.712Z"
   },
   {
    "duration": 3906,
    "start_time": "2022-08-30T23:37:25.201Z"
   },
   {
    "duration": 276,
    "start_time": "2022-08-30T23:38:32.940Z"
   },
   {
    "duration": 285,
    "start_time": "2022-08-30T23:41:38.597Z"
   },
   {
    "duration": 3,
    "start_time": "2022-08-31T00:01:48.997Z"
   },
   {
    "duration": 5,
    "start_time": "2022-08-31T00:01:49.002Z"
   },
   {
    "duration": 45,
    "start_time": "2022-08-31T00:01:49.009Z"
   },
   {
    "duration": 27,
    "start_time": "2022-08-31T00:01:49.056Z"
   },
   {
    "duration": 4,
    "start_time": "2022-08-31T00:01:49.086Z"
   },
   {
    "duration": 21,
    "start_time": "2022-08-31T00:01:49.092Z"
   },
   {
    "duration": 24,
    "start_time": "2022-08-31T00:01:49.115Z"
   },
   {
    "duration": 5,
    "start_time": "2022-08-31T00:01:49.141Z"
   },
   {
    "duration": 412,
    "start_time": "2022-08-31T00:01:49.148Z"
   },
   {
    "duration": 11,
    "start_time": "2022-08-31T00:01:49.563Z"
   },
   {
    "duration": 18,
    "start_time": "2022-08-31T00:01:49.575Z"
   },
   {
    "duration": 29,
    "start_time": "2022-08-31T00:01:49.595Z"
   },
   {
    "duration": 5,
    "start_time": "2022-08-31T00:01:49.626Z"
   },
   {
    "duration": 42,
    "start_time": "2022-08-31T00:01:49.635Z"
   },
   {
    "duration": 322,
    "start_time": "2022-08-31T00:01:49.679Z"
   },
   {
    "duration": 7,
    "start_time": "2022-08-31T00:01:50.003Z"
   },
   {
    "duration": 268,
    "start_time": "2022-08-31T00:01:50.012Z"
   },
   {
    "duration": 8,
    "start_time": "2022-08-31T00:01:50.282Z"
   },
   {
    "duration": 9,
    "start_time": "2022-08-31T00:01:50.292Z"
   },
   {
    "duration": 281,
    "start_time": "2022-08-31T00:01:50.303Z"
   },
   {
    "duration": 6,
    "start_time": "2022-08-31T00:01:50.586Z"
   },
   {
    "duration": 274,
    "start_time": "2022-08-31T00:01:50.594Z"
   },
   {
    "duration": 13,
    "start_time": "2022-08-31T00:01:50.870Z"
   },
   {
    "duration": 18,
    "start_time": "2022-08-31T00:01:50.885Z"
   },
   {
    "duration": 27,
    "start_time": "2022-08-31T00:01:50.905Z"
   },
   {
    "duration": 35,
    "start_time": "2022-08-31T00:01:50.934Z"
   },
   {
    "duration": 11,
    "start_time": "2022-08-31T00:01:50.971Z"
   },
   {
    "duration": 23,
    "start_time": "2022-08-31T00:01:50.984Z"
   },
   {
    "duration": 17,
    "start_time": "2022-08-31T00:01:51.009Z"
   },
   {
    "duration": 22,
    "start_time": "2022-08-31T00:01:51.028Z"
   },
   {
    "duration": 15,
    "start_time": "2022-08-31T00:01:51.052Z"
   },
   {
    "duration": 15,
    "start_time": "2022-08-31T00:01:51.070Z"
   },
   {
    "duration": 96230,
    "start_time": "2022-08-31T00:01:51.086Z"
   },
   {
    "duration": 170,
    "start_time": "2022-08-31T00:03:27.318Z"
   },
   {
    "duration": 127783,
    "start_time": "2022-08-31T00:03:27.490Z"
   },
   {
    "duration": 175,
    "start_time": "2022-08-31T00:05:35.275Z"
   },
   {
    "duration": 85538,
    "start_time": "2022-08-31T00:05:35.452Z"
   },
   {
    "duration": 6,
    "start_time": "2022-08-31T00:07:00.993Z"
   },
   {
    "duration": 23,
    "start_time": "2022-08-31T00:07:01.001Z"
   },
   {
    "duration": 42,
    "start_time": "2022-08-31T00:07:01.026Z"
   },
   {
    "duration": 56584,
    "start_time": "2022-08-31T00:07:01.073Z"
   },
   {
    "duration": 11,
    "start_time": "2022-08-31T00:07:57.660Z"
   },
   {
    "duration": 7,
    "start_time": "2022-08-31T00:07:57.673Z"
   },
   {
    "duration": 4729,
    "start_time": "2022-08-31T00:07:57.682Z"
   },
   {
    "duration": 331,
    "start_time": "2022-08-31T00:08:02.413Z"
   },
   {
    "duration": 4637,
    "start_time": "2022-08-31T00:08:02.746Z"
   },
   {
    "duration": 315,
    "start_time": "2022-08-31T00:08:07.385Z"
   },
   {
    "duration": 633,
    "start_time": "2022-08-31T00:08:07.702Z"
   },
   {
    "duration": 4890,
    "start_time": "2022-08-31T00:08:08.337Z"
   },
   {
    "duration": 339,
    "start_time": "2022-08-31T00:08:13.229Z"
   },
   {
    "duration": 1519,
    "start_time": "2022-08-31T00:42:34.821Z"
   },
   {
    "duration": 3,
    "start_time": "2022-08-31T00:42:36.342Z"
   },
   {
    "duration": 50,
    "start_time": "2022-08-31T00:42:36.347Z"
   },
   {
    "duration": 33,
    "start_time": "2022-08-31T00:42:36.400Z"
   },
   {
    "duration": 6,
    "start_time": "2022-08-31T00:42:36.435Z"
   },
   {
    "duration": 27,
    "start_time": "2022-08-31T00:42:36.444Z"
   },
   {
    "duration": 34,
    "start_time": "2022-08-31T00:42:36.474Z"
   },
   {
    "duration": 6,
    "start_time": "2022-08-31T00:42:36.510Z"
   },
   {
    "duration": 285,
    "start_time": "2022-08-31T00:42:36.518Z"
   },
   {
    "duration": 7,
    "start_time": "2022-08-31T00:42:36.806Z"
   },
   {
    "duration": 15,
    "start_time": "2022-08-31T00:42:36.815Z"
   },
   {
    "duration": 36,
    "start_time": "2022-08-31T00:42:36.831Z"
   },
   {
    "duration": 5,
    "start_time": "2022-08-31T00:42:36.869Z"
   },
   {
    "duration": 20,
    "start_time": "2022-08-31T00:42:36.875Z"
   },
   {
    "duration": 323,
    "start_time": "2022-08-31T00:42:36.897Z"
   },
   {
    "duration": 5,
    "start_time": "2022-08-31T00:42:37.222Z"
   },
   {
    "duration": 353,
    "start_time": "2022-08-31T00:42:37.229Z"
   },
   {
    "duration": 6,
    "start_time": "2022-08-31T00:42:37.584Z"
   },
   {
    "duration": 22,
    "start_time": "2022-08-31T00:42:37.592Z"
   },
   {
    "duration": 259,
    "start_time": "2022-08-31T00:42:37.616Z"
   },
   {
    "duration": 5,
    "start_time": "2022-08-31T00:42:37.877Z"
   },
   {
    "duration": 259,
    "start_time": "2022-08-31T00:42:37.884Z"
   },
   {
    "duration": 24,
    "start_time": "2022-08-31T00:42:38.145Z"
   },
   {
    "duration": 27,
    "start_time": "2022-08-31T00:42:38.171Z"
   },
   {
    "duration": 30,
    "start_time": "2022-08-31T00:42:38.199Z"
   },
   {
    "duration": 11,
    "start_time": "2022-08-31T00:42:38.230Z"
   },
   {
    "duration": 26,
    "start_time": "2022-08-31T00:42:38.243Z"
   },
   {
    "duration": 9,
    "start_time": "2022-08-31T00:42:38.273Z"
   },
   {
    "duration": 10,
    "start_time": "2022-08-31T00:42:38.284Z"
   },
   {
    "duration": 28,
    "start_time": "2022-08-31T00:42:38.296Z"
   },
   {
    "duration": 7,
    "start_time": "2022-08-31T00:42:38.326Z"
   },
   {
    "duration": 16,
    "start_time": "2022-08-31T00:42:38.335Z"
   },
   {
    "duration": 90021,
    "start_time": "2022-08-31T00:42:38.353Z"
   },
   {
    "duration": 169,
    "start_time": "2022-08-31T00:44:08.376Z"
   },
   {
    "duration": 121305,
    "start_time": "2022-08-31T00:44:08.548Z"
   },
   {
    "duration": 176,
    "start_time": "2022-08-31T00:46:09.855Z"
   },
   {
    "duration": 83937,
    "start_time": "2022-08-31T00:46:10.032Z"
   },
   {
    "duration": 5,
    "start_time": "2022-08-31T00:47:33.971Z"
   },
   {
    "duration": 11,
    "start_time": "2022-08-31T00:47:33.978Z"
   },
   {
    "duration": 28,
    "start_time": "2022-08-31T00:47:33.991Z"
   },
   {
    "duration": 55187,
    "start_time": "2022-08-31T00:47:34.021Z"
   },
   {
    "duration": 6,
    "start_time": "2022-08-31T00:48:29.210Z"
   },
   {
    "duration": 9,
    "start_time": "2022-08-31T00:48:29.217Z"
   },
   {
    "duration": 4628,
    "start_time": "2022-08-31T00:48:29.227Z"
   },
   {
    "duration": 327,
    "start_time": "2022-08-31T00:48:33.857Z"
   },
   {
    "duration": 4531,
    "start_time": "2022-08-31T00:48:34.186Z"
   },
   {
    "duration": 308,
    "start_time": "2022-08-31T00:48:38.719Z"
   },
   {
    "duration": 608,
    "start_time": "2022-08-31T00:48:39.029Z"
   },
   {
    "duration": 4617,
    "start_time": "2022-08-31T00:48:39.639Z"
   },
   {
    "duration": 323,
    "start_time": "2022-08-31T00:48:44.258Z"
   },
   {
    "duration": 1973,
    "start_time": "2022-08-31T09:39:06.221Z"
   },
   {
    "duration": 2,
    "start_time": "2022-08-31T09:39:08.196Z"
   },
   {
    "duration": 2400,
    "start_time": "2022-08-31T09:39:08.200Z"
   },
   {
    "duration": 0,
    "start_time": "2022-08-31T09:39:10.604Z"
   },
   {
    "duration": 0,
    "start_time": "2022-08-31T09:39:10.605Z"
   },
   {
    "duration": 1,
    "start_time": "2022-08-31T09:39:10.606Z"
   },
   {
    "duration": 0,
    "start_time": "2022-08-31T09:39:10.608Z"
   },
   {
    "duration": 0,
    "start_time": "2022-08-31T09:39:10.609Z"
   },
   {
    "duration": 0,
    "start_time": "2022-08-31T09:39:10.611Z"
   },
   {
    "duration": 0,
    "start_time": "2022-08-31T09:39:10.611Z"
   },
   {
    "duration": 0,
    "start_time": "2022-08-31T09:39:10.613Z"
   },
   {
    "duration": 0,
    "start_time": "2022-08-31T09:39:10.613Z"
   },
   {
    "duration": 0,
    "start_time": "2022-08-31T09:39:10.614Z"
   },
   {
    "duration": 0,
    "start_time": "2022-08-31T09:39:10.616Z"
   },
   {
    "duration": 0,
    "start_time": "2022-08-31T09:39:10.616Z"
   },
   {
    "duration": 0,
    "start_time": "2022-08-31T09:39:10.617Z"
   },
   {
    "duration": 0,
    "start_time": "2022-08-31T09:39:10.618Z"
   },
   {
    "duration": 0,
    "start_time": "2022-08-31T09:39:10.619Z"
   },
   {
    "duration": 0,
    "start_time": "2022-08-31T09:39:10.621Z"
   },
   {
    "duration": 0,
    "start_time": "2022-08-31T09:39:10.622Z"
   },
   {
    "duration": 0,
    "start_time": "2022-08-31T09:39:10.623Z"
   },
   {
    "duration": 0,
    "start_time": "2022-08-31T09:39:10.624Z"
   },
   {
    "duration": 0,
    "start_time": "2022-08-31T09:39:10.626Z"
   },
   {
    "duration": 0,
    "start_time": "2022-08-31T09:39:10.627Z"
   },
   {
    "duration": 0,
    "start_time": "2022-08-31T09:39:10.628Z"
   },
   {
    "duration": 0,
    "start_time": "2022-08-31T09:39:10.630Z"
   },
   {
    "duration": 1,
    "start_time": "2022-08-31T09:39:10.631Z"
   },
   {
    "duration": 0,
    "start_time": "2022-08-31T09:39:10.633Z"
   },
   {
    "duration": 0,
    "start_time": "2022-08-31T09:39:10.635Z"
   },
   {
    "duration": 0,
    "start_time": "2022-08-31T09:39:10.636Z"
   },
   {
    "duration": 0,
    "start_time": "2022-08-31T09:39:10.637Z"
   },
   {
    "duration": 0,
    "start_time": "2022-08-31T09:39:10.638Z"
   },
   {
    "duration": 0,
    "start_time": "2022-08-31T09:39:10.640Z"
   },
   {
    "duration": 0,
    "start_time": "2022-08-31T09:39:10.655Z"
   },
   {
    "duration": 0,
    "start_time": "2022-08-31T09:39:10.656Z"
   },
   {
    "duration": 0,
    "start_time": "2022-08-31T09:39:10.657Z"
   },
   {
    "duration": 0,
    "start_time": "2022-08-31T09:39:10.658Z"
   },
   {
    "duration": 0,
    "start_time": "2022-08-31T09:39:10.659Z"
   },
   {
    "duration": 1,
    "start_time": "2022-08-31T09:39:10.660Z"
   },
   {
    "duration": 0,
    "start_time": "2022-08-31T09:39:10.662Z"
   },
   {
    "duration": 0,
    "start_time": "2022-08-31T09:39:10.663Z"
   },
   {
    "duration": 0,
    "start_time": "2022-08-31T09:39:10.664Z"
   },
   {
    "duration": 0,
    "start_time": "2022-08-31T09:39:10.665Z"
   },
   {
    "duration": 0,
    "start_time": "2022-08-31T09:39:10.666Z"
   },
   {
    "duration": 0,
    "start_time": "2022-08-31T09:39:10.667Z"
   },
   {
    "duration": 0,
    "start_time": "2022-08-31T09:39:10.668Z"
   },
   {
    "duration": 0,
    "start_time": "2022-08-31T09:39:10.669Z"
   },
   {
    "duration": 0,
    "start_time": "2022-08-31T09:39:10.670Z"
   },
   {
    "duration": 0,
    "start_time": "2022-08-31T09:39:10.671Z"
   },
   {
    "duration": 0,
    "start_time": "2022-08-31T09:39:10.672Z"
   },
   {
    "duration": 3,
    "start_time": "2022-08-31T09:39:24.142Z"
   },
   {
    "duration": 2,
    "start_time": "2022-08-31T09:39:24.170Z"
   },
   {
    "duration": 147,
    "start_time": "2022-08-31T09:39:24.174Z"
   },
   {
    "duration": 28,
    "start_time": "2022-08-31T09:39:24.322Z"
   },
   {
    "duration": 8,
    "start_time": "2022-08-31T09:39:24.351Z"
   },
   {
    "duration": 21,
    "start_time": "2022-08-31T09:39:24.361Z"
   },
   {
    "duration": 38,
    "start_time": "2022-08-31T09:39:24.383Z"
   },
   {
    "duration": 37,
    "start_time": "2022-08-31T09:39:24.423Z"
   },
   {
    "duration": 218,
    "start_time": "2022-08-31T09:39:24.462Z"
   },
   {
    "duration": 6,
    "start_time": "2022-08-31T09:39:24.682Z"
   },
   {
    "duration": 5,
    "start_time": "2022-08-31T09:41:02.526Z"
   },
   {
    "duration": 259,
    "start_time": "2022-08-31T09:41:04.555Z"
   },
   {
    "duration": 4,
    "start_time": "2022-08-31T09:41:25.910Z"
   },
   {
    "duration": 7,
    "start_time": "2022-08-31T09:41:29.443Z"
   },
   {
    "duration": 20189,
    "start_time": "2022-08-31T09:41:31.506Z"
   },
   {
    "duration": 4,
    "start_time": "2022-08-31T09:42:16.951Z"
   },
   {
    "duration": 220,
    "start_time": "2022-08-31T09:42:18.668Z"
   },
   {
    "duration": 240,
    "start_time": "2022-08-31T09:43:32.707Z"
   },
   {
    "duration": 198,
    "start_time": "2022-08-31T09:43:34.031Z"
   },
   {
    "duration": 106,
    "start_time": "2022-08-31T09:43:52.911Z"
   },
   {
    "duration": 82,
    "start_time": "2022-08-31T09:43:59.205Z"
   },
   {
    "duration": 81,
    "start_time": "2022-08-31T09:44:05.557Z"
   },
   {
    "duration": 6,
    "start_time": "2022-08-31T09:44:14.869Z"
   },
   {
    "duration": 252,
    "start_time": "2022-08-31T09:44:16.941Z"
   },
   {
    "duration": 5,
    "start_time": "2022-08-31T09:45:16.629Z"
   },
   {
    "duration": 301,
    "start_time": "2022-08-31T09:45:18.360Z"
   },
   {
    "duration": 6,
    "start_time": "2022-08-31T09:45:59.268Z"
   },
   {
    "duration": 213,
    "start_time": "2022-08-31T09:46:01.314Z"
   },
   {
    "duration": 504,
    "start_time": "2022-08-31T09:46:06.267Z"
   },
   {
    "duration": 219,
    "start_time": "2022-08-31T09:46:07.067Z"
   },
   {
    "duration": 7,
    "start_time": "2022-08-31T09:46:20.998Z"
   },
   {
    "duration": 209,
    "start_time": "2022-08-31T09:46:24.307Z"
   },
   {
    "duration": 5,
    "start_time": "2022-08-31T09:46:35.759Z"
   },
   {
    "duration": 242,
    "start_time": "2022-08-31T09:46:37.466Z"
   },
   {
    "duration": 5,
    "start_time": "2022-08-31T09:47:08.918Z"
   },
   {
    "duration": 211,
    "start_time": "2022-08-31T09:47:10.595Z"
   },
   {
    "duration": 5,
    "start_time": "2022-08-31T09:47:15.317Z"
   },
   {
    "duration": 233,
    "start_time": "2022-08-31T09:47:17.548Z"
   },
   {
    "duration": 5,
    "start_time": "2022-08-31T09:47:28.875Z"
   },
   {
    "duration": 222,
    "start_time": "2022-08-31T09:47:30.620Z"
   },
   {
    "duration": 5,
    "start_time": "2022-08-31T09:47:41.155Z"
   },
   {
    "duration": 310,
    "start_time": "2022-08-31T09:47:42.997Z"
   },
   {
    "duration": 5,
    "start_time": "2022-08-31T09:47:47.079Z"
   },
   {
    "duration": 233,
    "start_time": "2022-08-31T09:47:49.179Z"
   },
   {
    "duration": 5,
    "start_time": "2022-08-31T09:47:58.604Z"
   },
   {
    "duration": 222,
    "start_time": "2022-08-31T09:47:59.979Z"
   },
   {
    "duration": 5,
    "start_time": "2022-08-31T09:48:04.062Z"
   },
   {
    "duration": 5,
    "start_time": "2022-08-31T09:48:04.517Z"
   },
   {
    "duration": 215,
    "start_time": "2022-08-31T09:48:05.396Z"
   },
   {
    "duration": 5,
    "start_time": "2022-08-31T09:48:20.711Z"
   },
   {
    "duration": 220,
    "start_time": "2022-08-31T09:48:21.946Z"
   },
   {
    "duration": 5,
    "start_time": "2022-08-31T09:48:30.674Z"
   },
   {
    "duration": 215,
    "start_time": "2022-08-31T09:48:31.434Z"
   },
   {
    "duration": 7,
    "start_time": "2022-08-31T09:48:34.954Z"
   },
   {
    "duration": 7,
    "start_time": "2022-08-31T09:48:35.563Z"
   },
   {
    "duration": 219,
    "start_time": "2022-08-31T09:48:36.483Z"
   },
   {
    "duration": 5,
    "start_time": "2022-08-31T09:48:42.202Z"
   },
   {
    "duration": 346,
    "start_time": "2022-08-31T09:48:42.909Z"
   },
   {
    "duration": 5,
    "start_time": "2022-08-31T09:48:54.782Z"
   },
   {
    "duration": 237,
    "start_time": "2022-08-31T09:48:55.466Z"
   },
   {
    "duration": 6,
    "start_time": "2022-08-31T09:49:04.789Z"
   },
   {
    "duration": 216,
    "start_time": "2022-08-31T09:49:05.421Z"
   },
   {
    "duration": 86,
    "start_time": "2022-08-31T09:49:18.910Z"
   },
   {
    "duration": 233,
    "start_time": "2022-08-31T09:49:20.028Z"
   },
   {
    "duration": 6,
    "start_time": "2022-08-31T09:49:24.223Z"
   },
   {
    "duration": 32,
    "start_time": "2022-08-31T09:49:24.231Z"
   },
   {
    "duration": 44,
    "start_time": "2022-08-31T09:49:24.264Z"
   },
   {
    "duration": 10,
    "start_time": "2022-08-31T09:49:24.309Z"
   },
   {
    "duration": 32,
    "start_time": "2022-08-31T09:49:24.320Z"
   },
   {
    "duration": 357,
    "start_time": "2022-08-31T09:49:24.354Z"
   },
   {
    "duration": 6,
    "start_time": "2022-08-31T09:49:24.712Z"
   },
   {
    "duration": 237,
    "start_time": "2022-08-31T09:49:24.720Z"
   },
   {
    "duration": 5,
    "start_time": "2022-08-31T09:49:24.959Z"
   },
   {
    "duration": 18,
    "start_time": "2022-08-31T09:49:24.965Z"
   },
   {
    "duration": 390,
    "start_time": "2022-08-31T09:49:24.984Z"
   },
   {
    "duration": 5,
    "start_time": "2022-08-31T09:49:25.375Z"
   },
   {
    "duration": 233,
    "start_time": "2022-08-31T09:49:25.382Z"
   },
   {
    "duration": 10,
    "start_time": "2022-08-31T09:49:25.616Z"
   },
   {
    "duration": 13,
    "start_time": "2022-08-31T09:49:25.629Z"
   },
   {
    "duration": 11,
    "start_time": "2022-08-31T09:49:25.657Z"
   },
   {
    "duration": 10,
    "start_time": "2022-08-31T09:49:25.670Z"
   },
   {
    "duration": 9,
    "start_time": "2022-08-31T09:49:25.682Z"
   },
   {
    "duration": 7,
    "start_time": "2022-08-31T09:49:25.692Z"
   },
   {
    "duration": 5,
    "start_time": "2022-08-31T09:49:25.700Z"
   },
   {
    "duration": 17,
    "start_time": "2022-08-31T09:49:25.706Z"
   },
   {
    "duration": 4,
    "start_time": "2022-08-31T09:49:25.724Z"
   },
   {
    "duration": 4,
    "start_time": "2022-08-31T09:49:25.754Z"
   },
   {
    "duration": 74719,
    "start_time": "2022-08-31T09:49:25.760Z"
   },
   {
    "duration": 120,
    "start_time": "2022-08-31T09:50:40.481Z"
   },
   {
    "duration": 99537,
    "start_time": "2022-08-31T09:50:40.603Z"
   },
   {
    "duration": 138,
    "start_time": "2022-08-31T09:52:20.141Z"
   },
   {
    "duration": 69686,
    "start_time": "2022-08-31T09:52:20.281Z"
   },
   {
    "duration": 4,
    "start_time": "2022-08-31T09:53:29.969Z"
   },
   {
    "duration": 10,
    "start_time": "2022-08-31T09:53:29.974Z"
   },
   {
    "duration": 22,
    "start_time": "2022-08-31T09:53:29.986Z"
   },
   {
    "duration": 47768,
    "start_time": "2022-08-31T09:53:30.010Z"
   },
   {
    "duration": 4,
    "start_time": "2022-08-31T09:54:17.780Z"
   },
   {
    "duration": 16,
    "start_time": "2022-08-31T09:54:17.787Z"
   },
   {
    "duration": 4039,
    "start_time": "2022-08-31T09:54:17.805Z"
   },
   {
    "duration": 255,
    "start_time": "2022-08-31T09:54:21.847Z"
   },
   {
    "duration": 3596,
    "start_time": "2022-08-31T09:54:22.104Z"
   },
   {
    "duration": 260,
    "start_time": "2022-08-31T09:54:25.701Z"
   },
   {
    "duration": 487,
    "start_time": "2022-08-31T09:54:25.962Z"
   },
   {
    "duration": 3853,
    "start_time": "2022-08-31T09:54:26.454Z"
   },
   {
    "duration": 285,
    "start_time": "2022-08-31T09:54:30.308Z"
   },
   {
    "duration": 0,
    "start_time": "2022-08-31T09:54:30.704Z"
   },
   {
    "duration": 0,
    "start_time": "2022-08-31T09:54:30.705Z"
   },
   {
    "duration": 0,
    "start_time": "2022-08-31T09:54:30.706Z"
   },
   {
    "duration": 0,
    "start_time": "2022-08-31T09:54:30.707Z"
   },
   {
    "duration": 0,
    "start_time": "2022-08-31T09:54:30.708Z"
   },
   {
    "duration": 0,
    "start_time": "2022-08-31T09:54:30.709Z"
   },
   {
    "duration": 0,
    "start_time": "2022-08-31T09:54:30.709Z"
   },
   {
    "duration": 0,
    "start_time": "2022-08-31T09:54:30.711Z"
   },
   {
    "duration": 0,
    "start_time": "2022-08-31T09:54:30.711Z"
   },
   {
    "duration": 0,
    "start_time": "2022-08-31T09:54:30.712Z"
   },
   {
    "duration": 0,
    "start_time": "2022-08-31T09:54:30.713Z"
   },
   {
    "duration": 0,
    "start_time": "2022-08-31T09:54:30.714Z"
   },
   {
    "duration": 0,
    "start_time": "2022-08-31T09:54:30.715Z"
   },
   {
    "duration": 0,
    "start_time": "2022-08-31T09:54:30.716Z"
   },
   {
    "duration": 0,
    "start_time": "2022-08-31T09:54:30.717Z"
   },
   {
    "duration": 0,
    "start_time": "2022-08-31T09:54:30.717Z"
   },
   {
    "duration": 0,
    "start_time": "2022-08-31T09:54:30.718Z"
   },
   {
    "duration": 0,
    "start_time": "2022-08-31T09:54:30.719Z"
   },
   {
    "duration": 0,
    "start_time": "2022-08-31T09:54:30.720Z"
   },
   {
    "duration": 0,
    "start_time": "2022-08-31T09:54:30.721Z"
   },
   {
    "duration": 0,
    "start_time": "2022-08-31T09:54:30.721Z"
   },
   {
    "duration": 0,
    "start_time": "2022-08-31T09:54:30.722Z"
   },
   {
    "duration": 0,
    "start_time": "2022-08-31T09:54:30.723Z"
   },
   {
    "duration": 0,
    "start_time": "2022-08-31T09:54:30.724Z"
   },
   {
    "duration": 1,
    "start_time": "2022-08-31T09:54:30.724Z"
   },
   {
    "duration": 0,
    "start_time": "2022-08-31T09:54:30.725Z"
   },
   {
    "duration": 0,
    "start_time": "2022-08-31T09:54:30.726Z"
   },
   {
    "duration": 0,
    "start_time": "2022-08-31T09:54:30.727Z"
   },
   {
    "duration": 0,
    "start_time": "2022-08-31T09:54:30.728Z"
   },
   {
    "duration": 0,
    "start_time": "2022-08-31T09:54:30.729Z"
   },
   {
    "duration": 3,
    "start_time": "2022-08-31T10:30:39.734Z"
   },
   {
    "duration": 7,
    "start_time": "2022-08-31T10:30:39.739Z"
   },
   {
    "duration": 41,
    "start_time": "2022-08-31T10:30:39.747Z"
   },
   {
    "duration": 23,
    "start_time": "2022-08-31T10:30:39.789Z"
   },
   {
    "duration": 3,
    "start_time": "2022-08-31T10:30:39.814Z"
   },
   {
    "duration": 6,
    "start_time": "2022-08-31T10:30:39.819Z"
   },
   {
    "duration": 12,
    "start_time": "2022-08-31T10:30:39.826Z"
   },
   {
    "duration": 99,
    "start_time": "2022-08-31T10:30:39.839Z"
   },
   {
    "duration": 0,
    "start_time": "2022-08-31T10:30:39.940Z"
   },
   {
    "duration": 0,
    "start_time": "2022-08-31T10:30:39.941Z"
   },
   {
    "duration": 3,
    "start_time": "2022-08-31T10:31:12.058Z"
   },
   {
    "duration": 7,
    "start_time": "2022-08-31T10:31:12.064Z"
   },
   {
    "duration": 43,
    "start_time": "2022-08-31T10:31:12.072Z"
   },
   {
    "duration": 26,
    "start_time": "2022-08-31T10:31:12.116Z"
   },
   {
    "duration": 4,
    "start_time": "2022-08-31T10:31:12.144Z"
   },
   {
    "duration": 5,
    "start_time": "2022-08-31T10:31:12.149Z"
   },
   {
    "duration": 16,
    "start_time": "2022-08-31T10:31:12.156Z"
   },
   {
    "duration": 5,
    "start_time": "2022-08-31T10:31:12.174Z"
   },
   {
    "duration": 210,
    "start_time": "2022-08-31T10:31:17.113Z"
   },
   {
    "duration": 5,
    "start_time": "2022-08-31T10:32:50.197Z"
   },
   {
    "duration": 235,
    "start_time": "2022-08-31T10:33:00.874Z"
   },
   {
    "duration": 6,
    "start_time": "2022-08-31T10:33:28.901Z"
   },
   {
    "duration": 331,
    "start_time": "2022-08-31T10:33:33.184Z"
   },
   {
    "duration": 7,
    "start_time": "2022-08-31T10:34:09.301Z"
   },
   {
    "duration": 294,
    "start_time": "2022-08-31T10:34:11.439Z"
   },
   {
    "duration": 6,
    "start_time": "2022-08-31T10:34:28.488Z"
   },
   {
    "duration": 6,
    "start_time": "2022-08-31T10:38:28.323Z"
   },
   {
    "duration": 229,
    "start_time": "2022-08-31T10:38:31.784Z"
   },
   {
    "duration": 14,
    "start_time": "2022-08-31T11:01:04.173Z"
   },
   {
    "duration": 4,
    "start_time": "2022-08-31T11:01:37.060Z"
   },
   {
    "duration": 124,
    "start_time": "2022-08-31T11:04:37.306Z"
   },
   {
    "duration": 3,
    "start_time": "2022-08-31T11:05:12.895Z"
   },
   {
    "duration": 5,
    "start_time": "2022-08-31T11:05:12.900Z"
   },
   {
    "duration": 48,
    "start_time": "2022-08-31T11:05:12.907Z"
   },
   {
    "duration": 26,
    "start_time": "2022-08-31T11:05:12.957Z"
   },
   {
    "duration": 4,
    "start_time": "2022-08-31T11:05:12.985Z"
   },
   {
    "duration": 10,
    "start_time": "2022-08-31T11:05:12.991Z"
   },
   {
    "duration": 18,
    "start_time": "2022-08-31T11:05:13.003Z"
   },
   {
    "duration": 6,
    "start_time": "2022-08-31T11:05:13.022Z"
   },
   {
    "duration": 273,
    "start_time": "2022-08-31T11:05:13.030Z"
   },
   {
    "duration": 7,
    "start_time": "2022-08-31T11:05:13.307Z"
   },
   {
    "duration": 12,
    "start_time": "2022-08-31T11:05:13.315Z"
   },
   {
    "duration": 16,
    "start_time": "2022-08-31T11:05:13.328Z"
   },
   {
    "duration": 23,
    "start_time": "2022-08-31T11:05:13.346Z"
   },
   {
    "duration": 12,
    "start_time": "2022-08-31T11:05:13.371Z"
   },
   {
    "duration": 290,
    "start_time": "2022-08-31T11:05:13.385Z"
   },
   {
    "duration": 5,
    "start_time": "2022-08-31T11:05:13.677Z"
   },
   {
    "duration": 218,
    "start_time": "2022-08-31T11:05:13.683Z"
   },
   {
    "duration": 5,
    "start_time": "2022-08-31T11:05:13.903Z"
   },
   {
    "duration": 6,
    "start_time": "2022-08-31T11:05:13.909Z"
   },
   {
    "duration": 343,
    "start_time": "2022-08-31T11:05:13.917Z"
   },
   {
    "duration": 8,
    "start_time": "2022-08-31T11:05:14.262Z"
   },
   {
    "duration": 228,
    "start_time": "2022-08-31T11:05:14.272Z"
   },
   {
    "duration": 12,
    "start_time": "2022-08-31T11:05:14.501Z"
   },
   {
    "duration": 16,
    "start_time": "2022-08-31T11:05:14.514Z"
   },
   {
    "duration": 18,
    "start_time": "2022-08-31T11:05:14.531Z"
   },
   {
    "duration": 10,
    "start_time": "2022-08-31T11:05:14.567Z"
   },
   {
    "duration": 11,
    "start_time": "2022-08-31T11:05:14.579Z"
   },
   {
    "duration": 7,
    "start_time": "2022-08-31T11:05:14.593Z"
   },
   {
    "duration": 4,
    "start_time": "2022-08-31T11:05:14.601Z"
   },
   {
    "duration": 10,
    "start_time": "2022-08-31T11:05:14.606Z"
   },
   {
    "duration": 4,
    "start_time": "2022-08-31T11:05:14.618Z"
   },
   {
    "duration": 45,
    "start_time": "2022-08-31T11:05:14.624Z"
   },
   {
    "duration": 82093,
    "start_time": "2022-08-31T11:05:14.671Z"
   },
   {
    "duration": 141,
    "start_time": "2022-08-31T11:06:36.768Z"
   },
   {
    "duration": 112124,
    "start_time": "2022-08-31T11:06:36.910Z"
   },
   {
    "duration": 153,
    "start_time": "2022-08-31T11:08:29.036Z"
   },
   {
    "duration": 77555,
    "start_time": "2022-08-31T11:08:29.191Z"
   },
   {
    "duration": 5,
    "start_time": "2022-08-31T11:09:46.749Z"
   },
   {
    "duration": 19,
    "start_time": "2022-08-31T11:09:46.756Z"
   },
   {
    "duration": 28,
    "start_time": "2022-08-31T11:09:46.777Z"
   },
   {
    "duration": 5,
    "start_time": "2022-08-31T11:12:11.228Z"
   },
   {
    "duration": 11,
    "start_time": "2022-08-31T11:12:17.108Z"
   },
   {
    "duration": 24,
    "start_time": "2022-08-31T11:12:28.666Z"
   },
   {
    "duration": 23,
    "start_time": "2022-08-31T11:12:37.408Z"
   },
   {
    "duration": 18,
    "start_time": "2022-08-31T11:12:52.210Z"
   },
   {
    "duration": 38,
    "start_time": "2022-08-31T11:13:13.807Z"
   },
   {
    "duration": 32,
    "start_time": "2022-08-31T11:17:39.412Z"
   },
   {
    "duration": 32,
    "start_time": "2022-08-31T11:22:19.770Z"
   },
   {
    "duration": 53103,
    "start_time": "2022-08-31T11:22:19.804Z"
   },
   {
    "duration": 6,
    "start_time": "2022-08-31T11:23:12.909Z"
   },
   {
    "duration": 18,
    "start_time": "2022-08-31T11:23:12.917Z"
   },
   {
    "duration": 4295,
    "start_time": "2022-08-31T11:23:12.938Z"
   },
   {
    "duration": 293,
    "start_time": "2022-08-31T11:23:17.235Z"
   },
   {
    "duration": 3930,
    "start_time": "2022-08-31T11:23:17.530Z"
   },
   {
    "duration": 300,
    "start_time": "2022-08-31T11:23:21.462Z"
   },
   {
    "duration": 537,
    "start_time": "2022-08-31T11:23:21.764Z"
   },
   {
    "duration": 4173,
    "start_time": "2022-08-31T11:23:22.303Z"
   },
   {
    "duration": 349,
    "start_time": "2022-08-31T11:23:26.478Z"
   },
   {
    "duration": 18,
    "start_time": "2022-08-31T11:30:32.060Z"
   },
   {
    "duration": 5,
    "start_time": "2022-08-31T11:30:41.305Z"
   },
   {
    "duration": 65,
    "start_time": "2022-08-31T11:31:58.899Z"
   },
   {
    "duration": 128,
    "start_time": "2022-08-31T11:33:42.962Z"
   },
   {
    "duration": 123,
    "start_time": "2022-08-31T11:33:50.411Z"
   },
   {
    "duration": 66,
    "start_time": "2022-08-31T11:34:50.849Z"
   },
   {
    "duration": 68,
    "start_time": "2022-08-31T11:36:03.813Z"
   },
   {
    "duration": 125,
    "start_time": "2022-08-31T11:36:50.075Z"
   },
   {
    "duration": 66,
    "start_time": "2022-08-31T11:38:18.406Z"
   },
   {
    "duration": 218,
    "start_time": "2022-08-31T11:38:53.643Z"
   },
   {
    "duration": 230,
    "start_time": "2022-08-31T11:40:00.908Z"
   },
   {
    "duration": 234,
    "start_time": "2022-08-31T11:41:45.721Z"
   },
   {
    "duration": 0,
    "start_time": "2022-08-31T11:45:43.848Z"
   },
   {
    "duration": 73,
    "start_time": "2022-08-31T11:45:57.921Z"
   },
   {
    "duration": 0,
    "start_time": "2022-08-31T11:46:49.530Z"
   },
   {
    "duration": 73345,
    "start_time": "2022-08-31T11:46:51.395Z"
   },
   {
    "duration": 1436,
    "start_time": "2022-08-31T11:55:27.225Z"
   },
   {
    "duration": 5,
    "start_time": "2022-08-31T11:55:28.663Z"
   },
   {
    "duration": 47,
    "start_time": "2022-08-31T11:55:28.670Z"
   },
   {
    "duration": 29,
    "start_time": "2022-08-31T11:55:28.719Z"
   },
   {
    "duration": 3,
    "start_time": "2022-08-31T11:55:28.750Z"
   },
   {
    "duration": 12,
    "start_time": "2022-08-31T11:55:28.755Z"
   },
   {
    "duration": 13,
    "start_time": "2022-08-31T11:55:28.769Z"
   },
   {
    "duration": 6,
    "start_time": "2022-08-31T11:55:28.784Z"
   },
   {
    "duration": 286,
    "start_time": "2022-08-31T11:55:28.792Z"
   },
   {
    "duration": 6,
    "start_time": "2022-08-31T11:55:29.081Z"
   },
   {
    "duration": 10,
    "start_time": "2022-08-31T11:55:29.089Z"
   },
   {
    "duration": 16,
    "start_time": "2022-08-31T11:55:29.101Z"
   },
   {
    "duration": 5,
    "start_time": "2022-08-31T11:55:29.119Z"
   },
   {
    "duration": 46,
    "start_time": "2022-08-31T11:55:29.125Z"
   },
   {
    "duration": 292,
    "start_time": "2022-08-31T11:55:29.173Z"
   },
   {
    "duration": 6,
    "start_time": "2022-08-31T11:55:29.467Z"
   },
   {
    "duration": 296,
    "start_time": "2022-08-31T11:55:29.475Z"
   },
   {
    "duration": 6,
    "start_time": "2022-08-31T11:55:29.773Z"
   },
   {
    "duration": 9,
    "start_time": "2022-08-31T11:55:29.780Z"
   },
   {
    "duration": 253,
    "start_time": "2022-08-31T11:55:29.790Z"
   },
   {
    "duration": 6,
    "start_time": "2022-08-31T11:55:30.045Z"
   },
   {
    "duration": 246,
    "start_time": "2022-08-31T11:55:30.053Z"
   },
   {
    "duration": 11,
    "start_time": "2022-08-31T11:55:30.300Z"
   },
   {
    "duration": 13,
    "start_time": "2022-08-31T11:55:30.313Z"
   },
   {
    "duration": 48,
    "start_time": "2022-08-31T11:55:30.327Z"
   },
   {
    "duration": 9,
    "start_time": "2022-08-31T11:55:30.377Z"
   },
   {
    "duration": 25,
    "start_time": "2022-08-31T11:55:30.387Z"
   },
   {
    "duration": 7,
    "start_time": "2022-08-31T11:55:30.416Z"
   },
   {
    "duration": 13,
    "start_time": "2022-08-31T11:55:30.425Z"
   },
   {
    "duration": 29,
    "start_time": "2022-08-31T11:55:30.439Z"
   },
   {
    "duration": 10,
    "start_time": "2022-08-31T11:55:30.470Z"
   },
   {
    "duration": 27,
    "start_time": "2022-08-31T11:55:30.481Z"
   },
   {
    "duration": 82696,
    "start_time": "2022-08-31T11:55:30.509Z"
   },
   {
    "duration": 144,
    "start_time": "2022-08-31T11:56:53.206Z"
   },
   {
    "duration": 109689,
    "start_time": "2022-08-31T11:56:53.352Z"
   },
   {
    "duration": 145,
    "start_time": "2022-08-31T11:58:43.042Z"
   },
   {
    "duration": 77889,
    "start_time": "2022-08-31T11:58:43.189Z"
   },
   {
    "duration": 5,
    "start_time": "2022-08-31T12:00:01.081Z"
   },
   {
    "duration": 78,
    "start_time": "2022-08-31T12:00:01.088Z"
   },
   {
    "duration": 38,
    "start_time": "2022-08-31T12:00:01.167Z"
   },
   {
    "duration": 37,
    "start_time": "2022-08-31T12:00:01.206Z"
   },
   {
    "duration": 52449,
    "start_time": "2022-08-31T12:00:01.245Z"
   },
   {
    "duration": 5,
    "start_time": "2022-08-31T12:00:53.696Z"
   },
   {
    "duration": 8,
    "start_time": "2022-08-31T12:00:53.702Z"
   },
   {
    "duration": 4276,
    "start_time": "2022-08-31T12:00:53.711Z"
   },
   {
    "duration": 318,
    "start_time": "2022-08-31T12:00:57.989Z"
   },
   {
    "duration": 4151,
    "start_time": "2022-08-31T12:00:58.308Z"
   },
   {
    "duration": 307,
    "start_time": "2022-08-31T12:01:02.461Z"
   },
   {
    "duration": 599,
    "start_time": "2022-08-31T12:01:02.770Z"
   },
   {
    "duration": 4431,
    "start_time": "2022-08-31T12:01:03.371Z"
   },
   {
    "duration": 323,
    "start_time": "2022-08-31T12:01:07.803Z"
   },
   {
    "duration": 241,
    "start_time": "2022-08-31T12:01:08.128Z"
   },
   {
    "duration": 76476,
    "start_time": "2022-08-31T12:01:08.371Z"
   }
  ],
  "kernelspec": {
   "display_name": "Python 3 (ipykernel)",
   "language": "python",
   "name": "python3"
  },
  "language_info": {
   "codemirror_mode": {
    "name": "ipython",
    "version": 3
   },
   "file_extension": ".py",
   "mimetype": "text/x-python",
   "name": "python",
   "nbconvert_exporter": "python",
   "pygments_lexer": "ipython3",
   "version": "3.8.13"
  },
  "toc": {
   "base_numbering": 1,
   "nav_menu": {},
   "number_sections": true,
   "sideBar": true,
   "skip_h1_title": true,
   "title_cell": "Table of Contents",
   "title_sidebar": "Contents",
   "toc_cell": false,
   "toc_position": {},
   "toc_section_display": true,
   "toc_window_display": true
  }
 },
 "nbformat": 4,
 "nbformat_minor": 4
}
